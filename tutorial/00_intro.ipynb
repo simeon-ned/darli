{
 "cells": [
  {
   "cell_type": "markdown",
   "metadata": {},
   "source": [
    "## **Introduction to DARLi, Basics of Backends and Models** "
   ]
  },
  {
   "cell_type": "markdown",
   "metadata": {},
   "source": [
    "\n",
    "The DARLi (Differentiable Articulated Robotics Library) is a wrapper around the CasADi kinematics/dynamics and Pinocchio libraries. Its primary goal is to facilitate the creation of differentiable models for robotic systems, provided a URDF (Unified Robot Description Format) file. **DARLi is not an implementation of mechanics-oriented** algorithms, such as Featherstone's Articulated Body or the Recursive Newton-Euler. Instead, we rely on the efficient implementations provided by [Pinocchio](https://github.com/stack-of-tasks/pinocchio/tree/master) and offer a wrapper that grants easy access to a suite of features that we and our colleagues have found useful in practice of trajectory planning, feedback control, and system identification over poly-articulated robots."
   ]
  },
  {
   "cell_type": "markdown",
   "metadata": {},
   "source": [
    "We will use [robot_descriptions.py](https://github.com/robot-descriptions/robot_descriptions.py) library to simplify the process of urdf retrieval.\n",
    "\n",
    "**Note**: You have to restart kernel after `robot_descriptions` is installed"
   ]
  },
  {
   "cell_type": "code",
   "execution_count": null,
   "metadata": {},
   "outputs": [],
   "source": [
    "\n",
    "%%capture\n",
    "!pip3 install robot_descriptions\n",
    "from robot_descriptions import iiwa_description"
   ]
  },
  {
   "cell_type": "markdown",
   "metadata": {},
   "source": [
    "### Backends \n",
    "The typical DARLi model is based on instance of Backend. Backend take `urdf` file as input and defines the way of computing two main functions: Articulated Bpdy Algorithm `aba` and Recursive Newton Euler `rnea`, as well as severals utility functions. These are soledly based on Pinnochio. For now there are two backends are available:\n",
    "\n",
    "TODO: WHAT IS RNEA AND ABA\n",
    "\n",
    "- `PinocchioBackend` - Provide interface to the Pinnochio python bindings. And may be useufull if one wants to obtain fast **numericall** computations. \n",
    "- `CasadiBackend` - The CasADi wrapper around Pinnochiio, this is used to cimpute dynamics in **symbolical** fashion, this allows for seeamless calculation of derivative and potentially used in trajectory optimization and optimal control.\n"
   ]
  },
  {
   "cell_type": "markdown",
   "metadata": {},
   "source": [
    "The acces to backends is as simple as:"
   ]
  },
  {
   "cell_type": "code",
   "execution_count": null,
   "metadata": {},
   "outputs": [],
   "source": [
    "from darli.backend import CasadiBackend, PinocchioBackend\n",
    "\n",
    "# Building the Pinnochio backend\n",
    "pin_backend = PinocchioBackend(iiwa_description.URDF_PATH)\n",
    "# Building the CasADi backend\n",
    "cas_backend = CasadiBackend(iiwa_description.URDF_PATH)"
   ]
  },
  {
   "cell_type": "code",
   "execution_count": null,
   "metadata": {},
   "outputs": [],
   "source": [
    "pin_backend.nq\n",
    "pin_backend.nv\n",
    "pin_backend.aba\n",
    "pin_backend.rnea"
   ]
  },
  {
   "cell_type": "markdown",
   "metadata": {},
   "source": [
    "### Floating Base, Fixed joints and Conventions: \n",
    "\n"
   ]
  },
  {
   "cell_type": "markdown",
   "metadata": {},
   "source": [
    "TODO: Something on floating base and conventions"
   ]
  },
  {
   "cell_type": "code",
   "execution_count": null,
   "metadata": {},
   "outputs": [],
   "source": [
    "from robot_descriptions import go2_description"
   ]
  },
  {
   "cell_type": "code",
   "execution_count": null,
   "metadata": {},
   "outputs": [],
   "source": [
    "go2_cas = CasadiBackend(go2_description.URDF_PATH)"
   ]
  },
  {
   "cell_type": "code",
   "execution_count": null,
   "metadata": {},
   "outputs": [],
   "source": [
    "print(f\"Dimensions of model, nq: {go2_cas.nq} nv: {go2_cas.nv}\")"
   ]
  },
  {
   "cell_type": "code",
   "execution_count": null,
   "metadata": {},
   "outputs": [],
   "source": [
    "from darli.backend import JointType\n",
    "\n",
    "go2_cas_floating = CasadiBackend(\n",
    "    go2_description.URDF_PATH, root_joint=JointType.FREE_FLYER\n",
    ")\n",
    "\n",
    "print(\n",
    "    f\"Dimensions of floating model, nq: {go2_cas_floating.nq} nv: {go2_cas_floating.nv}\"\n",
    ")"
   ]
  },
  {
   "cell_type": "code",
   "execution_count": null,
   "metadata": {},
   "outputs": [],
   "source": [
    "cas_backend = CasadiBackend(go2_description.URDF_PATH, root_joint=JointType.FREE_FLYER)"
   ]
  },
  {
   "cell_type": "markdown",
   "metadata": {},
   "source": [
    "The model in DARLi is a building block that can be further extended with external forces and contacts, different selector matrices, friction in joints, state space and parametric representations, please follow up to the next steps of tutorial to get in to that."
   ]
  },
  {
   "cell_type": "markdown",
   "metadata": {},
   "source": [
    "- General-info\n",
    "- Backends\n",
    "- Models \n",
    "- Floating Base,Conventions \n",
    "- Further Read and Structure\n"
   ]
  },
  {
   "cell_type": "markdown",
   "metadata": {},
   "source": [
    "- Model of Poly-Articulated system\n",
    "- Conventions\n",
    "- rnea and aba\n",
    "- Floating Base\n"
   ]
  },
  {
   "cell_type": "markdown",
   "metadata": {},
   "source": [
    "### Conventions\n",
    "\n"
   ]
  },
  {
   "cell_type": "markdown",
   "metadata": {},
   "source": [
    "### Backends"
   ]
  },
  {
   "cell_type": "code",
   "execution_count": null,
   "metadata": {},
   "outputs": [],
   "source": [
    "from darli.model import Model"
   ]
  },
  {
   "cell_type": "code",
   "execution_count": null,
   "metadata": {},
   "outputs": [],
   "source": [
    "casadi_model = Model(CasadiBackend(iiwa_description.URDF_PATH))"
   ]
  },
  {
   "cell_type": "code",
   "execution_count": null,
   "metadata": {},
   "outputs": [],
   "source": [
    "casadi_model.com()"
   ]
  },
  {
   "cell_type": "markdown",
   "metadata": {},
   "source": [
    "One can retrive basic model info as follows:"
   ]
  },
  {
   "cell_type": "code",
   "execution_count": null,
   "metadata": {},
   "outputs": [],
   "source": [
    "nq = casadi_model.nq  # dimensionality of configuration\n",
    "nv = casadi_model.nv  # dimensionality of generilized velocities\n",
    "nu = casadi_model.nu  # dimensionality  of control inputs\n",
    "q_min, q_max = (\n",
    "    casadi_model.q_min,\n",
    "    casadi_model.q_max,\n",
    ")  # minimal and maximal limits on joint pos\n",
    "nq, nv, nu"
   ]
  },
  {
   "cell_type": "code",
   "execution_count": null,
   "metadata": {},
   "outputs": [],
   "source": [
    "joint_names = casadi_model.joint_names  # names of the joints\n",
    "joint_names"
   ]
  },
  {
   "cell_type": "markdown",
   "metadata": {},
   "source": [
    "### **Equations of Motion and Dynamics**"
   ]
  },
  {
   "cell_type": "markdown",
   "metadata": {},
   "source": [
    "The dynamics of articulated mechanics in robotic systems is usually represented as:\n",
    "$$\n",
    "\\mathbf{M}(\\mathbf{q})\\dot{\\mathbf{v}} + \\mathbf{C}(\\mathbf{q},\\mathbf{v})\\mathbf{v} + \\mathbf{g}(\\mathbf{q})  = \n",
    "\\mathbf{M}(\\mathbf{q})\\dot{\\mathbf{v}} + \\mathbf{c}(\\mathbf{q},\\mathbf{v}) + \\mathbf{g}(\\mathbf{q}) = \\mathbf{M}(\\mathbf{q})\\dot{\\mathbf{v}} + \\mathbf{h}(\\mathbf{q},\\mathbf{v}) = \\mathbf{Q}\n",
    "$$\n",
    "\n",
    "where:\n",
    "* $\\mathbf{Q} \\in \\mathbb{R}^{nv}$ - generalized forces corresponding to generilized coordinates\n",
    "* $\\mathbf{q} \\in \\mathbb{R}^{nq}$ - vector of generilized coordinates\n",
    "* $\\mathbf{v} \\in \\mathbb{R}^{nq}$ - vector of generilized velocities (sometimes $\\mathbf{v} = \\dot{\\mathbf{q}}$, but not in case of $\\mathbf{q}$ containing quaternions)\n",
    "* $\\mathbf{M} \\in \\mathbb{R}^{nv \\times nv}$ - positive definite symmetric inertia matrix \n",
    "* $\\mathbf{c} \\in \\mathbb{R}^{nv}$ - describe centrifugal and Coriolis forces\n",
    "* $\\mathbf{C} \\in \\mathbb{R}^{nv \\times nv}$ - describe 'coefficients' of centrifugal and Coriolis forces\n",
    "* $\\mathbf{g} \\in \\mathbb{R}^{nv}$ - describes effect of gravity and other position depending forces\n",
    "* $\\mathbf{h} \\in \\mathbb{R}^{nv} $ - combined effect of $\\mathbf{g}$ and $\\mathbf{c}$\n",
    "\n",
    "\n",
    "One can get all of the above quantities in symbotics as follows:"
   ]
  },
  {
   "cell_type": "code",
   "execution_count": null,
   "metadata": {},
   "outputs": [],
   "source": [
    "inertia = casadi_model.inertia\n",
    "gravity_vector = casadi_model.gravity\n",
    "bias_force = casadi_model.bias_force\n",
    "coriolis_matrix = casadi_model.coriolis_matrix\n",
    "coriolis = casadi_model.coriolis"
   ]
  },
  {
   "cell_type": "markdown",
   "metadata": {},
   "source": [
    "Each of the above define the CasAdi functions:"
   ]
  },
  {
   "cell_type": "markdown",
   "metadata": {},
   "source": [
    "And can be evaluated both numerically and Functionalally:"
   ]
  },
  {
   "cell_type": "code",
   "execution_count": null,
   "metadata": {},
   "outputs": [],
   "source": [
    "inertia = casadi_model.inertia\n",
    "import numpy as np\n",
    "import casadi as cs\n",
    "\n",
    "# Functionalal computation\n",
    "print(\"Functional:\", inertia(cs.SX.sym(\"q\", nq)))\n",
    "# Numerical computation\n",
    "print(\"Numerical:\", inertia(np.random.randn(nq)))"
   ]
  },
  {
   "cell_type": "markdown",
   "metadata": {},
   "source": [
    "Note that above are calculated not via Lagrange formalism but by using efficient recursive Newton-Euler algorithm (for `bias_force`), while inertia matrix is evaluated by composite rigid body algorithm (CRBA)"
   ]
  },
  {
   "cell_type": "markdown",
   "metadata": {},
   "source": [
    "There are some notions apart from dynamical coefficients that may be useful as well, such as com kinematics and jacobians, and energy:"
   ]
  },
  {
   "cell_type": "code",
   "execution_count": null,
   "metadata": {},
   "outputs": [],
   "source": [
    "model.energy"
   ]
  },
  {
   "cell_type": "code",
   "execution_count": null,
   "metadata": {},
   "outputs": [],
   "source": [
    "com_position = model.com.position\n",
    "com_velocity = model.com.velocity\n",
    "com_jacobian = model.com.jacobian\n",
    "com_jacobian_dt = model.com.jacobian_dt\n",
    "potential_energy = model.energy.potential\n",
    "kinetic_energy = model.energy.kinetic\n",
    "lagrangian = model.lagrangian\n",
    "\n",
    "# TODO\n",
    "# momentum"
   ]
  },
  {
   "cell_type": "code",
   "execution_count": null,
   "metadata": {},
   "outputs": [],
   "source": [
    "com_jacobian_dt"
   ]
  },
  {
   "cell_type": "markdown",
   "metadata": {},
   "source": [
    "#### **Forward and Inverse Dynamics**\n"
   ]
  },
  {
   "cell_type": "markdown",
   "metadata": {},
   "source": [
    "In inverse dynamics we looking for the generilized forces:\n",
    "$$\n",
    "    \\mathbf{Q} = \\mathbf{M}(\\mathbf{q})\\dot{\\mathbf{v}} + \\mathbf{h}(\\mathbf{q},\\mathbf{v}) = \\text{rnea}(\\mathbf{q}, \\mathbf{v}, \\dot{\\mathbf{v}})\n",
    "$$"
   ]
  },
  {
   "cell_type": "code",
   "execution_count": null,
   "metadata": {},
   "outputs": [],
   "source": [
    "model.contact_qforce"
   ]
  },
  {
   "cell_type": "code",
   "execution_count": null,
   "metadata": {},
   "outputs": [],
   "source": [
    "model.inverse_dynamics"
   ]
  },
  {
   "cell_type": "markdown",
   "metadata": {},
   "source": [
    "While forward dynamics is basically solving the equations of motion with respect to accelerations $\\dot{\\mathbf{v}}$. However the solution of the above in general case usually yields the complexity of $O(nv^3)$, for this reason a way to go is to use celebrated Featherstone Articulated Body algorithm (ABA), which effectevely exploit sparsity of $\\mathbf{M}$ for the tree structures and produce nearly linear complexity $O(nv)$:\n",
    "\n",
    "\n",
    "$$\n",
    "\\dot{\\mathbf{v}} = \\mathbf{M}^{-1}(\\mathbf{q})(\\mathbf{Q} - \\mathbf{h}(\\mathbf{q},\\mathbf{v})) = \\text{aba}(\\mathbf{q}, \\mathbf{v}, \\mathbf{Q})\n",
    "$$\n",
    "\n",
    "<!-- Articulated body algorithm \n",
    "\n",
    "Feather stone algorithm\n",
    " -->\n",
    "<!-- http://gamma.cs.unc.edu/courses/robotics-f08/LEC/ArticulatedBodyDynamics.pdf -->"
   ]
  },
  {
   "cell_type": "code",
   "execution_count": null,
   "metadata": {},
   "outputs": [],
   "source": [
    "model.contact_qforce"
   ]
  },
  {
   "cell_type": "code",
   "execution_count": null,
   "metadata": {},
   "outputs": [],
   "source": [
    "model.forward_dynamics"
   ]
  },
  {
   "cell_type": "markdown",
   "metadata": {},
   "source": [
    "#### **Passive Joints and Selector**"
   ]
  },
  {
   "cell_type": "markdown",
   "metadata": {},
   "source": [
    "In practical situations "
   ]
  },
  {
   "cell_type": "markdown",
   "metadata": {},
   "source": [
    "Choosing the passive joints:"
   ]
  },
  {
   "cell_type": "code",
   "execution_count": null,
   "metadata": {},
   "outputs": [],
   "source": [
    "import numpy as np\n",
    "\n",
    "print(f\"Old input dimensions: {model.nu}\")\n",
    "S = np.random.randn(model.nv, model.nv + 2)\n",
    "model.update_selector(S)\n",
    "print(f\"New input dimensions: {model.nu}\")"
   ]
  },
  {
   "cell_type": "code",
   "execution_count": null,
   "metadata": {},
   "outputs": [],
   "source": [
    "model.qfrc_u"
   ]
  },
  {
   "cell_type": "code",
   "execution_count": null,
   "metadata": {},
   "outputs": [],
   "source": [
    "model.forward_dynamics"
   ]
  },
  {
   "cell_type": "code",
   "execution_count": null,
   "metadata": {},
   "outputs": [],
   "source": [
    "model.update_selector(passive_joints=range(3))\n",
    "print(f\"New input dimensions: {model.nu}\")\n",
    "print(f\"New selector:\\n {model.selector}\")"
   ]
  },
  {
   "cell_type": "code",
   "execution_count": null,
   "metadata": {},
   "outputs": [],
   "source": [
    "model.forward_dynamics"
   ]
  },
  {
   "cell_type": "markdown",
   "metadata": {},
   "source": [
    "#### **Bodies and Contacts**"
   ]
  },
  {
   "cell_type": "code",
   "execution_count": null,
   "metadata": {},
   "outputs": [],
   "source": [
    "model.add_body([\"link06\"])\n",
    "model.bodies"
   ]
  },
  {
   "cell_type": "code",
   "execution_count": null,
   "metadata": {},
   "outputs": [],
   "source": [
    "model.body(\"link06\")"
   ]
  },
  {
   "cell_type": "markdown",
   "metadata": {},
   "source": [
    "### Frames"
   ]
  },
  {
   "cell_type": "code",
   "execution_count": null,
   "metadata": {},
   "outputs": [],
   "source": [
    "model.body(\"link06\").linear_acceleration"
   ]
  },
  {
   "cell_type": "code",
   "execution_count": null,
   "metadata": {},
   "outputs": [],
   "source": [
    "model.body(\"link06\").linear_acceleration.local"
   ]
  },
  {
   "cell_type": "code",
   "execution_count": null,
   "metadata": {},
   "outputs": [],
   "source": [
    "model.body(\"link06\").jacobian.local"
   ]
  },
  {
   "cell_type": "code",
   "execution_count": null,
   "metadata": {},
   "outputs": [],
   "source": [
    "model.body(\"link03\").jacobian.local\n",
    "model.body(\"link03\").jacobian_dt.local\n",
    "model.body(\"link03\").linear_velocity.local\n",
    "model.body(\"link03\").angular_velocity.local\n",
    "model.body(\"link03\").linear_acceleration.local\n",
    "model.body(\"link03\").angular_acceleration.local"
   ]
  },
  {
   "cell_type": "markdown",
   "metadata": {},
   "source": [
    "The body jacobian and velocities can be calculated with respect to `world`, `local` and `world_aligned` frames."
   ]
  },
  {
   "cell_type": "code",
   "execution_count": null,
   "metadata": {},
   "outputs": [],
   "source": [
    "model.body(\"link06\").jacobian.world"
   ]
  },
  {
   "cell_type": "markdown",
   "metadata": {},
   "source": [
    "Note that body name can be initialized with dictionary that maps given name to one presented in urdf i.e: `{'ee':'link06'}`"
   ]
  },
  {
   "cell_type": "markdown",
   "metadata": {},
   "source": [
    "##### **Contacts**"
   ]
  },
  {
   "cell_type": "code",
   "execution_count": null,
   "metadata": {},
   "outputs": [],
   "source": [
    "model.body(\"link06\").add_contact(\"wrench\")"
   ]
  },
  {
   "cell_type": "code",
   "execution_count": null,
   "metadata": {},
   "outputs": [],
   "source": [
    "model.body(\"link06\").contact.dim\n",
    "# model.body(\"link06\").contact.contact_frame\n",
    "model.body(\"link06\").contact.ref_frame\n",
    "model.body(\"link06\").contact.qforce"
   ]
  },
  {
   "cell_type": "markdown",
   "metadata": {},
   "source": [
    "Do not forget to rebuild the model:"
   ]
  },
  {
   "cell_type": "code",
   "execution_count": null,
   "metadata": {},
   "outputs": [],
   "source": [
    "# model.update_model()"
   ]
  },
  {
   "cell_type": "markdown",
   "metadata": {},
   "source": [
    "Note how arguments are changed in dynamics related functions, i.e:"
   ]
  },
  {
   "cell_type": "code",
   "execution_count": null,
   "metadata": {},
   "outputs": [],
   "source": [
    "model.forward_dynamics"
   ]
  },
  {
   "cell_type": "markdown",
   "metadata": {},
   "source": [
    "the state space representation and jacobians are changed as well:"
   ]
  },
  {
   "cell_type": "code",
   "execution_count": null,
   "metadata": {},
   "outputs": [],
   "source": [
    "model.state_space.state_derivative"
   ]
  },
  {
   "cell_type": "code",
   "execution_count": null,
   "metadata": {},
   "outputs": [],
   "source": [
    "model.state_space.state_jacobian"
   ]
  },
  {
   "cell_type": "code",
   "execution_count": null,
   "metadata": {},
   "outputs": [],
   "source": [
    "model.body(\"link06\").contact.add_cone(mu=0.5, X=0.05, Y=0.02)"
   ]
  },
  {
   "cell_type": "code",
   "execution_count": null,
   "metadata": {},
   "outputs": [],
   "source": [
    "wrench_cone = model.body(\"link06\").contact.cone.full()\n",
    "\n",
    "wrench_cone"
   ]
  },
  {
   "cell_type": "code",
   "execution_count": null,
   "metadata": {},
   "outputs": [],
   "source": [
    "model.body(\"link06\").contact.cone.linear()"
   ]
  },
  {
   "cell_type": "code",
   "execution_count": null,
   "metadata": {},
   "outputs": [],
   "source": [
    "model.add_body({\"ee\": \"link06\"})\n",
    "model.bodies"
   ]
  },
  {
   "cell_type": "markdown",
   "metadata": {},
   "source": [
    "One can add bodies on the initialization stage based on following syntax:"
   ]
  },
  {
   "cell_type": "code",
   "execution_count": null,
   "metadata": {},
   "outputs": [],
   "source": [
    "# Symbolic(z1_description.URDF_PATH, bodies_names={'shoulder':'link03', 'ee':'link06'})"
   ]
  },
  {
   "cell_type": "markdown",
   "metadata": {},
   "source": [
    "The `bodies_names` arguments can be listof body names present in urdf, however for increased readability we suggest to use the dictionary as shown above."
   ]
  }
 ],
 "metadata": {
  "kernelspec": {
   "display_name": "base",
   "language": "python",
   "name": "python3"
  },
  "language_info": {
   "codemirror_mode": {
    "name": "ipython",
    "version": 3
   },
   "file_extension": ".py",
   "mimetype": "text/x-python",
   "name": "python",
   "nbconvert_exporter": "python",
   "pygments_lexer": "ipython3",
   "version": "3.10.13"
  },
  "orig_nbformat": 4
 },
 "nbformat": 4,
 "nbformat_minor": 2
}
