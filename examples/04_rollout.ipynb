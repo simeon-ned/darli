{
 "cells": [
  {
   "cell_type": "code",
   "execution_count": 1,
   "metadata": {},
   "outputs": [],
   "source": [
    "from robot_descriptions.a1_description import URDF_PATH\n",
    "from darli.backend import PinocchioBackend, CasadiBackend, JointType\n",
    "from darli.modeling import Robot, Functional\n",
    "from darli.modeling.integrators import ForwardEuler, RK4\n",
    "import numpy as np"
   ]
  },
  {
   "cell_type": "code",
   "execution_count": 2,
   "metadata": {},
   "outputs": [],
   "source": [
    "model = Functional(CasadiBackend(URDF_PATH, root_joint=JointType.FREE_FLYER))\n",
    "model.update_selector(passive_joints=range(6))"
   ]
  },
  {
   "cell_type": "code",
   "execution_count": 3,
   "metadata": {},
   "outputs": [
    {
     "data": {
      "text/plain": [
       "array([ 1.76405235,  0.40015721,  0.97873798,  2.2408932 ,  1.86755799,\n",
       "       -0.97727788,  0.95008842, -0.15135721, -0.10321885,  0.4105985 ,\n",
       "        0.14404357,  1.45427351])"
      ]
     },
     "execution_count": 3,
     "metadata": {},
     "output_type": "execute_result"
    }
   ],
   "source": [
    "np.random.seed(0)\n",
    "tau = np.random.randn(model.nu)\n",
    "\n",
    "tau"
   ]
  },
  {
   "cell_type": "code",
   "execution_count": 4,
   "metadata": {},
   "outputs": [
    {
     "data": {
      "text/plain": [
       "((37,), 19, 18)"
      ]
     },
     "execution_count": 4,
     "metadata": {},
     "output_type": "execute_result"
    }
   ],
   "source": [
    "q0 = np.array([0, 0, 0, 0, 0, 0, 1, 0, 0, 0, 0, 0, 0, 0, 0, 0, 0, 0, 0])\n",
    "v0 = np.zeros(model.nv)\n",
    "\n",
    "x0 = np.concatenate([q0, v0])\n",
    "\n",
    "x0.shape, model.nq, model.nv"
   ]
  },
  {
   "cell_type": "markdown",
   "metadata": {},
   "source": [
    "## Functional way"
   ]
  },
  {
   "cell_type": "code",
   "execution_count": 5,
   "metadata": {},
   "outputs": [
    {
     "data": {
      "text/plain": [
       "Function(rollout:(state[37],controls[12x15])->(next_state[37]) SXFunction)"
      ]
     },
     "execution_count": 5,
     "metadata": {},
     "output_type": "execute_result"
    }
   ],
   "source": [
    "euler_roll = model.state_space.rollout(\n",
    "    dt=2e-3, n_steps=30, control_sampling=4e-3, integrator=ForwardEuler\n",
    ")\n",
    "\n",
    "euler_roll"
   ]
  },
  {
   "cell_type": "code",
   "execution_count": 6,
   "metadata": {},
   "outputs": [
    {
     "name": "stdout",
     "output_type": "stream",
     "text": [
      "1.45 ms ± 193 µs per loop (mean ± std. dev. of 7 runs, 100 loops each)\n"
     ]
    }
   ],
   "source": [
    "%timeit euler_roll()"
   ]
  },
  {
   "cell_type": "code",
   "execution_count": 7,
   "metadata": {},
   "outputs": [
    {
     "data": {
      "text/plain": [
       "Function(rollout:(state[37],controls[12x15])->(next_state[37]) SXFunction)"
      ]
     },
     "execution_count": 7,
     "metadata": {},
     "output_type": "execute_result"
    }
   ],
   "source": [
    "rk4_roll = model.state_space.rollout(\n",
    "    dt=2e-3, n_steps=30, control_sampling=4e-3, integrator=RK4\n",
    ")\n",
    "\n",
    "rk4_roll"
   ]
  },
  {
   "cell_type": "code",
   "execution_count": 8,
   "metadata": {},
   "outputs": [
    {
     "name": "stdout",
     "output_type": "stream",
     "text": [
      "5.55 ms ± 151 µs per loop (mean ± std. dev. of 7 runs, 100 loops each)\n"
     ]
    }
   ],
   "source": [
    "%timeit rk4_roll()"
   ]
  },
  {
   "cell_type": "markdown",
   "metadata": {},
   "source": [
    "## Pinocchio way"
   ]
  },
  {
   "cell_type": "code",
   "execution_count": 9,
   "metadata": {},
   "outputs": [],
   "source": [
    "model = Robot(PinocchioBackend(URDF_PATH, root_joint=JointType.FREE_FLYER))\n",
    "model.update_selector(passive_joints=range(6))"
   ]
  },
  {
   "cell_type": "code",
   "execution_count": 10,
   "metadata": {},
   "outputs": [
    {
     "data": {
      "text/plain": [
       "array([ 3.76576015e-04, -5.90776756e-04, -1.86484692e-02, -3.55866284e-02,\n",
       "        2.98828478e-04, -2.06836938e-03,  9.99364410e-01,  1.20123327e-01,\n",
       "        8.94504016e-02, -2.04843323e-01,  5.97518327e-02, -2.64078009e-02,\n",
       "       -1.08357083e-02,  9.61331223e-02,  9.85161233e-02, -1.30548863e-01,\n",
       "        8.77269278e-02, -3.11990450e-02,  7.02278288e-02,  1.64054750e-02,\n",
       "        2.85389016e-02, -6.01619857e-01, -1.77246306e+00, -3.42885311e-02,\n",
       "       -1.46697075e-01,  2.98211623e+00,  3.88621024e+00, -8.52350431e+00,\n",
       "        1.48212236e+00, -2.21680733e+00,  4.25183734e+00,  2.29552203e+00,\n",
       "        3.49743072e+00, -5.23065688e+00,  2.12015156e+00,  1.95744729e-01,\n",
       "       -6.94286048e-01])"
      ]
     },
     "execution_count": 10,
     "metadata": {},
     "output_type": "execute_result"
    }
   ],
   "source": [
    "q0 = np.array([0, 0, 0, 0, 0, 0, 1, 0, 0, 0, 0, 0, 0, 0, 0, 0, 0, 0, 0])\n",
    "v0 = np.zeros(model.nv)\n",
    "\n",
    "x0 = np.concatenate([q0, v0])\n",
    "\n",
    "np.random.seed(0)\n",
    "tau = np.random.randn(model.nu, 15)\n",
    "\n",
    "\n",
    "model.state_space.rollout(x0, tau, dt=2e-3, control_sampling=4e-3, n_steps=30)"
   ]
  },
  {
   "cell_type": "code",
   "execution_count": 11,
   "metadata": {},
   "outputs": [
    {
     "name": "stdout",
     "output_type": "stream",
     "text": [
      "1.49 ms ± 180 µs per loop (mean ± std. dev. of 7 runs, 100 loops each)\n"
     ]
    }
   ],
   "source": [
    "%timeit model.state_space.rollout(x0, tau, dt=2e-3, control_sampling=4e-3, n_steps=30, integrator=ForwardEuler)"
   ]
  },
  {
   "cell_type": "code",
   "execution_count": 12,
   "metadata": {},
   "outputs": [
    {
     "data": {
      "text/plain": [
       "(array([ 3.76576015e-04, -5.90776756e-04, -1.86484692e-02, -3.55866284e-02,\n",
       "         2.98828478e-04, -2.06836938e-03,  9.99364410e-01,  1.20123327e-01,\n",
       "         8.94504016e-02, -2.04843323e-01,  5.97518327e-02, -2.64078009e-02,\n",
       "        -1.08357083e-02,  9.61331223e-02,  9.85161233e-02, -1.30548863e-01,\n",
       "         8.77269278e-02, -3.11990450e-02,  7.02278288e-02,  1.64054750e-02,\n",
       "         2.85389016e-02, -6.01619857e-01, -1.77246306e+00, -3.42885311e-02,\n",
       "        -1.46697075e-01,  2.98211623e+00,  3.88621024e+00, -8.52350431e+00,\n",
       "         1.48212236e+00, -2.21680733e+00,  4.25183734e+00,  2.29552203e+00,\n",
       "         3.49743072e+00, -5.23065688e+00,  2.12015156e+00,  1.95744729e-01,\n",
       "        -6.94286048e-01]),\n",
       " 'quaternion norm',\n",
       " 1.0)"
      ]
     },
     "execution_count": 12,
     "metadata": {},
     "output_type": "execute_result"
    }
   ],
   "source": [
    "euler_state = model.state_space.rollout(\n",
    "    x0, tau, dt=2e-3, control_sampling=4e-3, n_steps=30, integrator=ForwardEuler\n",
    ")\n",
    "\n",
    "euler_state, \"quaternion norm\", np.linalg.norm(euler_state[3:7])"
   ]
  },
  {
   "cell_type": "code",
   "execution_count": 13,
   "metadata": {},
   "outputs": [
    {
     "name": "stdout",
     "output_type": "stream",
     "text": [
      "8.31 ms ± 972 µs per loop (mean ± std. dev. of 7 runs, 100 loops each)\n"
     ]
    }
   ],
   "source": [
    "%timeit model.state_space.rollout(x0, tau, dt=2e-3, control_sampling=4e-3, n_steps=30, integrator=RK4)"
   ]
  },
  {
   "cell_type": "code",
   "execution_count": 14,
   "metadata": {},
   "outputs": [
    {
     "data": {
      "text/plain": [
       "(array([ 3.28031153e-05, -2.75608771e-05, -1.19513565e-03, -1.69214588e-03,\n",
       "        -5.40001291e-05, -1.48067584e-04,  9.99998556e-01,  5.87030990e-03,\n",
       "         7.94249395e-03, -1.74507362e-02,  2.84304581e-03, -4.39651886e-03,\n",
       "         8.46712564e-03,  4.47790182e-03,  7.01606052e-03, -1.05225893e-02,\n",
       "         4.11139492e-03,  4.06005873e-04, -1.39273193e-03,  3.28216779e-05,\n",
       "        -2.48331438e-05, -1.19517838e-03, -3.38427802e-03, -1.07776273e-04,\n",
       "        -2.96480264e-04,  5.87030990e-03,  7.94249395e-03, -1.74507362e-02,\n",
       "         2.84304581e-03, -4.39651886e-03,  8.46712564e-03,  4.47790182e-03,\n",
       "         7.01606052e-03, -1.05225893e-02,  4.11139492e-03,  4.06005873e-04,\n",
       "        -1.39273193e-03]),\n",
       " 'quaternion norm',\n",
       " 1.0)"
      ]
     },
     "execution_count": 14,
     "metadata": {},
     "output_type": "execute_result"
    }
   ],
   "source": [
    "rk4_state = model.state_space.rollout(\n",
    "    x0, tau, dt=2e-3, control_sampling=4e-3, n_steps=30, integrator=RK4\n",
    ")\n",
    "\n",
    "rk4_state, \"quaternion norm\", np.linalg.norm(rk4_state[3:7])"
   ]
  }
 ],
 "metadata": {
  "kernelspec": {
   "display_name": "venv",
   "language": "python",
   "name": "python3"
  },
  "language_info": {
   "codemirror_mode": {
    "name": "ipython",
    "version": 3
   },
   "file_extension": ".py",
   "mimetype": "text/x-python",
   "name": "python",
   "nbconvert_exporter": "python",
   "pygments_lexer": "ipython3",
   "version": "3.10.12"
  }
 },
 "nbformat": 4,
 "nbformat_minor": 2
}
