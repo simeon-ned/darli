{
 "cells": [
  {
   "cell_type": "markdown",
   "metadata": {},
   "source": [
    "# **Parametric Models and Regressors** "
   ]
  },
  {
   "cell_type": "markdown",
   "metadata": {},
   "source": [
    "During this tutorial, we will be using a parametric model and linear parametrization of the dynamics."
   ]
  },
  {
   "cell_type": "markdown",
   "metadata": {},
   "source": [
    "To facilitate discussuion we will use the model of Kuka IIWA, however note that everything should works fine with floating body models as well. Let us install the descriptions package and import the Kuka IIWA urdf."
   ]
  },
  {
   "cell_type": "code",
   "execution_count": null,
   "metadata": {},
   "outputs": [],
   "source": [
    "%%capture\n",
    "!pip3 install robot_descriptions"
   ]
  },
  {
   "cell_type": "code",
   "execution_count": null,
   "metadata": {},
   "outputs": [],
   "source": [
    "from robot_descriptions import iiwa_description"
   ]
  },
  {
   "cell_type": "markdown",
   "metadata": {},
   "source": [
    "## **Model and Inertial Parameters**\n"
   ]
  },
  {
   "cell_type": "markdown",
   "metadata": {},
   "source": [
    "It is clear that the robot's behaviour is interconnected with it's inertial parameters, that must be determined for each particular robot in order. The dependency on such parameters are critical and should be carefully investigated. \n",
    "\n",
    "In the DARLi we are focusing on inertial parameters, namely:\n",
    "\n",
    "$$\n",
    "    \\boldsymbol{\\theta}=\\left[mx_c, my_{c}, mz_{c}, m, I_{x x}, I_{y y}, I_{z z}, I_{x y}, I_{x z}, I_{z y}\\right] \\in \\mathbb{R}^{10}\n",
    "$$\n",
    "Where $m,x_{c},y_{c},z_{c}, I_{(\\cdot)}$ are mass, the coordinates of the centre of mass and the elements of the inertia tensor respectively.\n",
    "\n",
    "This vector completely define the inertial parameters of each rigid body in robot, however one should keep in mind, that for some particular application it may be augmented with additional parameters to account for phenomenas not included in to rigid body model i.e. coefficents of friction force. \n",
    "\n",
    "Note that **we do not consider geometric** (kinematic) parameters, such as length of links in manipulators, location of actuators, and other dimension related quantities (here we treat them as known)."
   ]
  },
  {
   "cell_type": "markdown",
   "metadata": {},
   "source": [
    "The DARLi supports the parametric version of the models through the `darli.parametric` module, it's include both conventional and functional wrappers, while support of pure pinnochio is still under developements. "
   ]
  },
  {
   "cell_type": "code",
   "execution_count": null,
   "metadata": {},
   "outputs": [],
   "source": [
    "from darli.backend import CasadiBackend\n",
    "from darli.parametric import Functional"
   ]
  },
  {
   "cell_type": "markdown",
   "metadata": {},
   "source": [
    "The parametric model then is defined in the very same way as the regular one by feeding the backend to certain model class, take for example the `Functional` class:"
   ]
  },
  {
   "cell_type": "code",
   "execution_count": null,
   "metadata": {},
   "outputs": [],
   "source": [
    "model = Functional(CasadiBackend(iiwa_description.URDF_PATH))"
   ]
  },
  {
   "cell_type": "markdown",
   "metadata": {},
   "source": [
    "For the model composet of several rigid bodies, the parameters defined as following stacked vector:\n",
    "\n",
    "$$\\boldsymbol{\\theta} = \\begin{bmatrix} \\boldsymbol{\\theta}_1 & \\boldsymbol{\\theta}_2 & \\dots & \\boldsymbol{\\theta}_{nb} \\end{bmatrix} \\in \\mathbb{R}^{10nb}$$ \n",
    "\n",
    "where $nb$ is number of rigid bodies in the model, and $np = 10nb$:"
   ]
  },
  {
   "cell_type": "code",
   "execution_count": null,
   "metadata": {},
   "outputs": [],
   "source": [
    "nb = model.nbodies"
   ]
  },
  {
   "cell_type": "markdown",
   "metadata": {},
   "source": [
    "The numerical value of stacked parameters stored in URDF are retrieved as:"
   ]
  },
  {
   "cell_type": "code",
   "execution_count": null,
   "metadata": {},
   "outputs": [],
   "source": [
    "urdf_params = model.backend.base_parameters()"
   ]
  },
  {
   "cell_type": "markdown",
   "metadata": {},
   "source": [
    "While theier symbolical representation ( `SX` for the `CasadiBackend`) are stored in:"
   ]
  },
  {
   "cell_type": "code",
   "execution_count": null,
   "metadata": {},
   "outputs": [],
   "source": [
    "cas_params = model.parameters"
   ]
  },
  {
   "cell_type": "markdown",
   "metadata": {},
   "source": [
    "## **Parametric Equations of Motion, Energy and Torque Regressors**"
   ]
  },
  {
   "cell_type": "markdown",
   "metadata": {},
   "source": [
    " ### **Parametric EoM**\n",
    " \n",
    " The dependency on inertial paremeters is critical and should be carefully investigated, fortunately for the robots composed of the rigid bodies one may deduce quite an eye-catching property - **linearity** to a parameters or so called regressor form of inverse dynamics:\n",
    "\n",
    " $$\n",
    "    \\mathbf{M}(\\mathbf{q}, \\boldsymbol{\\theta})\\dot{\\mathbf{v}} +\n",
    "    \\mathbf{c}(\\mathbf{q},\\mathbf{v}, \\boldsymbol{\\theta}) +\n",
    "    \\mathbf{g}(\\mathbf{q}, \\boldsymbol{\\theta}) \n",
    " = \\boldsymbol{\\Phi}(\\mathbf{q},\\mathbf{v},\\dot{\\mathbf{v}}) \\boldsymbol{\\theta}\n",
    "$$\n",
    "\n",
    "where $\\boldsymbol{\\Phi} \\in \\mathbb{R}^{nq \\times np}$ is regressor matrix (torque regressor):\n",
    " "
   ]
  },
  {
   "cell_type": "code",
   "execution_count": null,
   "metadata": {},
   "outputs": [],
   "source": [
    "model.regressors.torque"
   ]
  },
  {
   "cell_type": "markdown",
   "metadata": {},
   "source": [
    "One may also calculate all of the components of EoM:"
   ]
  },
  {
   "cell_type": "code",
   "execution_count": null,
   "metadata": {},
   "outputs": [],
   "source": [
    "inertia = model.inertia\n",
    "gravity_vector = model.gravity\n",
    "coriolis = model.coriolis\n",
    "bias_force = model.bias_force  # combined effect of gravity and coriolis"
   ]
  },
  {
   "cell_type": "markdown",
   "metadata": {},
   "source": [
    "### **Forward and Inverse Dynamics**"
   ]
  },
  {
   "cell_type": "markdown",
   "metadata": {},
   "source": [
    "The overall inverse dynamics then can be calculated as follows:"
   ]
  },
  {
   "cell_type": "code",
   "execution_count": null,
   "metadata": {},
   "outputs": [],
   "source": [
    "model.inverse_dynamics"
   ]
  },
  {
   "cell_type": "code",
   "execution_count": null,
   "metadata": {},
   "outputs": [],
   "source": [
    "model.forward_dynamics"
   ]
  },
  {
   "cell_type": "markdown",
   "metadata": {},
   "source": [
    "As with regular models one can easily add different bodies, contacts, external forces and input selectros, for example:"
   ]
  },
  {
   "cell_type": "code",
   "execution_count": null,
   "metadata": {},
   "outputs": [],
   "source": [
    "model.update_selector(passive_joints=range(3))\n",
    "model.forward_dynamics"
   ]
  },
  {
   "cell_type": "markdown",
   "metadata": {},
   "source": [
    "### **Parametric State Space**"
   ]
  },
  {
   "cell_type": "code",
   "execution_count": null,
   "metadata": {},
   "outputs": [],
   "source": [
    "from darli.state_space import StateSpace"
   ]
  },
  {
   "cell_type": "code",
   "execution_count": null,
   "metadata": {},
   "outputs": [],
   "source": [
    "state_space = StateSpace(model)"
   ]
  },
  {
   "cell_type": "code",
   "execution_count": null,
   "metadata": {},
   "outputs": [],
   "source": [
    "state_space.derivative"
   ]
  },
  {
   "cell_type": "code",
   "execution_count": null,
   "metadata": {},
   "outputs": [],
   "source": [
    "state_space.rollout(dt=1e-3, n_steps=10)"
   ]
  }
 ],
 "metadata": {
  "kernelspec": {
   "display_name": "base",
   "language": "python",
   "name": "python3"
  },
  "language_info": {
   "codemirror_mode": {
    "name": "ipython",
    "version": 3
   },
   "file_extension": ".py",
   "mimetype": "text/x-python",
   "name": "python",
   "nbconvert_exporter": "python",
   "pygments_lexer": "ipython3",
   "version": "3.10.13"
  },
  "orig_nbformat": 4
 },
 "nbformat": 4,
 "nbformat_minor": 2
}
