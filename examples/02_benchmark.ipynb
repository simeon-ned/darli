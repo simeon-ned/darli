{
 "cells": [
  {
   "cell_type": "code",
   "execution_count": 1,
   "metadata": {},
   "outputs": [],
   "source": [
    "from darli.modeling import Robot\n",
    "from darli.modeling.functional import Functional\n",
    "from darli.backend import PinocchioBackend, CasadiBackend\n",
    "from robot_descriptions import z1_description\n",
    "import numpy as np"
   ]
  },
  {
   "cell_type": "code",
   "execution_count": 2,
   "metadata": {},
   "outputs": [],
   "source": [
    "robot = Robot(PinocchioBackend(z1_description.URDF_PATH))\n",
    "robot.add_body({\"ee\": \"link06\", \"mid\": \"link03\"})\n",
    "\n",
    "funct = Functional(CasadiBackend(z1_description.URDF_PATH))\n",
    "funct.add_body({\"ee\": \"link06\", \"mid\": \"link03\"})"
   ]
  },
  {
   "cell_type": "code",
   "execution_count": 3,
   "metadata": {},
   "outputs": [],
   "source": [
    "def compute_pin(robot: Robot):\n",
    "    q, dq, ddq = np.random.rand(3, robot.nq)\n",
    "\n",
    "    robot.update(q, dq, ddq)\n",
    "\n",
    "    return {\n",
    "        \"com_pos\": robot.com(),\n",
    "        \"kinetic\": robot.energy().kinetic,\n",
    "        \"body1_pos\": robot.body(\"ee\").position,\n",
    "        \"body1_rot\": robot.body(\"ee\").rotation,\n",
    "        \"body2_pos\": robot.body(\"mid\").position,\n",
    "        \"body2_rot\": robot.body(\"mid\").rotation,\n",
    "    }\n",
    "\n",
    "\n",
    "def compute_casadi(funct: Functional):\n",
    "    q, dq, ddq = np.random.rand(3, funct.nq)\n",
    "\n",
    "    return {\n",
    "        \"com_pos\": funct.com.position(q),\n",
    "        \"kinetic\": funct.energy.kinetic(q, dq),\n",
    "        \"body1_pos\": funct.body(\"ee\").position(q),\n",
    "        \"body1_rot\": funct.body(\"ee\").rotation(q),\n",
    "        \"body2_pos\": funct.body(\"mid\").position(q),\n",
    "        \"body2_rot\": funct.body(\"mid\").rotation(q),\n",
    "    }"
   ]
  },
  {
   "cell_type": "code",
   "execution_count": 4,
   "metadata": {},
   "outputs": [
    {
     "name": "stderr",
     "output_type": "stream",
     "text": [
      "/home/leo/github.com/lvjonok/darli/darli/backend/pinocchio.py:254: UserWarning: time variation of CoM jacobian is not implemented for pinocchio backend\n",
      "  warnings.warn(\n"
     ]
    },
    {
     "data": {
      "text/plain": [
       "{'com_pos': CoM(position=array([-0.15285163, -0.02911732,  0.09897152]), velocity=array([-0.07693299, -0.08975777,  0.01485851]), acceleration=array([ 0.00740184, -0.09003013,  0.19983722]), jacobian=array([[ 2.91173198e-02, -7.88787496e-04, -1.05925595e-01,\n",
       "         -2.40342880e-02, -1.22139369e-03,  5.37663184e-05],\n",
       "        [-1.52851633e-01, -1.55877141e-04, -2.09326074e-02,\n",
       "         -4.74956323e-03,  8.30745563e-03,  8.88199308e-05],\n",
       "        [ 0.00000000e+00,  1.55597013e-01, -3.40885648e-02,\n",
       "          1.05119376e-02,  9.30239462e-04, -2.15631089e-05]]), jacobian_dt=None),\n",
       " 'kinetic': 0.07355631621019913,\n",
       " 'body1_pos': array([-0.0128,  0.    ,  0.1605]),\n",
       " 'body1_rot': array([[1., 0., 0.],\n",
       "        [0., 1., 0.],\n",
       "        [0., 0., 1.]]),\n",
       " 'body2_pos': array([-0.35  ,  0.    ,  0.1035]),\n",
       " 'body2_rot': array([[1., 0., 0.],\n",
       "        [0., 1., 0.],\n",
       "        [0., 0., 1.]])}"
      ]
     },
     "execution_count": 4,
     "metadata": {},
     "output_type": "execute_result"
    }
   ],
   "source": [
    "compute_pin(robot)"
   ]
  },
  {
   "cell_type": "code",
   "execution_count": 5,
   "metadata": {},
   "outputs": [
    {
     "data": {
      "text/plain": [
       "{'com_pos': DM([-0.162986, -0.0390951, 0.119837]),\n",
       " 'kinetic': DM(0.0725384),\n",
       " 'body1_pos': DM([-0.302153, -0.0618898, 0.018271]),\n",
       " 'body1_rot': DM(\n",
       " [[-0.795204, 0.360226, 0.487736], \n",
       "  [0.1169, 0.880384, -0.459629], \n",
       "  [-0.594966, -0.308483, -0.742195]]),\n",
       " 'body2_pos': DM([-0.276438, -0.0710894, 0.306055]),\n",
       " 'body2_rot': DM(\n",
       " [[0.0511263, -0.249059, 0.967138], \n",
       "  [0.0131478, 0.968488, 0.248712], \n",
       "  [-0.998606, 0, 0.0527898]])}"
      ]
     },
     "execution_count": 5,
     "metadata": {},
     "output_type": "execute_result"
    }
   ],
   "source": [
    "compute_casadi(funct)"
   ]
  },
  {
   "cell_type": "code",
   "execution_count": 6,
   "metadata": {},
   "outputs": [
    {
     "name": "stdout",
     "output_type": "stream",
     "text": [
      "97 µs ± 8.26 µs per loop (mean ± std. dev. of 7 runs, 1,000 loops each)\n"
     ]
    }
   ],
   "source": [
    "%timeit compute_pin(robot)"
   ]
  },
  {
   "cell_type": "code",
   "execution_count": 7,
   "metadata": {},
   "outputs": [
    {
     "name": "stdout",
     "output_type": "stream",
     "text": [
      "31.1 ms ± 2.02 ms per loop (mean ± std. dev. of 7 runs, 10 loops each)\n"
     ]
    }
   ],
   "source": [
    "%timeit compute_casadi(funct)"
   ]
  }
 ],
 "metadata": {
  "kernelspec": {
   "display_name": "venv",
   "language": "python",
   "name": "python3"
  },
  "language_info": {
   "codemirror_mode": {
    "name": "ipython",
    "version": 3
   },
   "file_extension": ".py",
   "mimetype": "text/x-python",
   "name": "python",
   "nbconvert_exporter": "python",
   "pygments_lexer": "ipython3",
   "version": "3.10.12"
  }
 },
 "nbformat": 4,
 "nbformat_minor": 2
}
