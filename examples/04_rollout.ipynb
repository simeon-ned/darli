{
 "cells": [
  {
   "cell_type": "code",
   "execution_count": 1,
   "metadata": {},
   "outputs": [],
   "source": [
    "from robot_descriptions.skydio_x2_description import URDF_PATH\n",
    "from darli.backend import PinocchioBackend, CasadiBackend\n",
    "from darli.modeling import Robot, Functional\n",
    "from darli.modeling.integrators import ForwardEuler, RK4\n",
    "import numpy as np\n",
    "\n",
    "model = Functional(CasadiBackend(URDF_PATH))\n",
    "selector = np.array(\n",
    "    [\n",
    "        [0.0, 0.0, 0.0, 0.0],\n",
    "        [0.0, 0.0, 0.0, 0.0],\n",
    "        [1.0, 1.0, 1.0, 1.0],\n",
    "        [-0.18, 0.18, 0.18, -0.18],\n",
    "        [0.14, 0.14, -0.14, -0.14],\n",
    "        [-0.0201, 0.0201, 0.0201, -0.0201],\n",
    "    ]\n",
    ")\n",
    "model.update_selector(selector)"
   ]
  },
  {
   "cell_type": "code",
   "execution_count": 2,
   "metadata": {},
   "outputs": [
    {
     "data": {
      "text/plain": [
       "array([1.76405235, 0.40015721, 0.97873798, 2.2408932 ])"
      ]
     },
     "execution_count": 2,
     "metadata": {},
     "output_type": "execute_result"
    }
   ],
   "source": [
    "np.random.seed(0)\n",
    "tau = np.random.randn(model.nu)\n",
    "\n",
    "tau"
   ]
  },
  {
   "cell_type": "code",
   "execution_count": 3,
   "metadata": {},
   "outputs": [],
   "source": [
    "q0 = np.array([0, 0, 0, 0, 0, 0, 1])\n",
    "v0 = np.array([0, 0, 0, 0, 0, 0])\n",
    "\n",
    "x0 = np.concatenate([q0, v0])\n"
   ]
  },
  {
   "cell_type": "markdown",
   "metadata": {},
   "source": [
    "## Functional way"
   ]
  },
  {
   "cell_type": "code",
   "execution_count": 4,
   "metadata": {},
   "outputs": [
    {
     "name": "stdout",
     "output_type": "stream",
     "text": [
      "52.7 ns ± 3.43 ns per loop (mean ± std. dev. of 7 runs, 10,000,000 loops each)\n"
     ]
    }
   ],
   "source": [
    "euler_roll = model.state_space.rollout(dt=2e-3, n_steps=100, integrator=ForwardEuler)\n",
    "\n",
    "%timeit euler_roll"
   ]
  },
  {
   "cell_type": "code",
   "execution_count": 5,
   "metadata": {},
   "outputs": [
    {
     "name": "stdout",
     "output_type": "stream",
     "text": [
      "49.1 ns ± 2.72 ns per loop (mean ± std. dev. of 7 runs, 10,000,000 loops each)\n"
     ]
    }
   ],
   "source": [
    "rk4_roll = model.state_space.rollout(dt=2e-3, n_steps=100, integrator=RK4)\n",
    "\n",
    "%timeit rk4_roll"
   ]
  },
  {
   "cell_type": "markdown",
   "metadata": {},
   "source": [
    "## Pinocchio way"
   ]
  },
  {
   "cell_type": "code",
   "execution_count": 6,
   "metadata": {},
   "outputs": [],
   "source": [
    "model = Robot(PinocchioBackend(URDF_PATH))\n",
    "selector = np.array(\n",
    "    [\n",
    "        [0.0, 0.0, 0.0, 0.0],\n",
    "        [0.0, 0.0, 0.0, 0.0],\n",
    "        [1.0, 1.0, 1.0, 1.0],\n",
    "        [-0.18, 0.18, 0.18, -0.18],\n",
    "        [0.14, 0.14, -0.14, -0.14],\n",
    "        [-0.0201, 0.0201, 0.0201, -0.0201],\n",
    "    ]\n",
    ")\n",
    "model.update_selector(selector)"
   ]
  },
  {
   "cell_type": "code",
   "execution_count": 7,
   "metadata": {},
   "outputs": [
    {
     "data": {
      "text/plain": [
       "(array([ 0.00457161, -0.01065659, -0.11412443, -0.13071001, -0.05838671,\n",
       "        -0.0124036 ,  0.98962217, -0.1032257 ,  0.21819858, -1.08951141,\n",
       "        -2.59886166, -1.16024245, -0.22845503]),\n",
       " 'quaternion norm',\n",
       " 0.9999999999999999)"
      ]
     },
     "execution_count": 7,
     "metadata": {},
     "output_type": "execute_result"
    }
   ],
   "source": [
    "euler_state = model.state_space.rollout(x0, tau, 2e-3, 100, ForwardEuler)\n",
    "\n",
    "euler_state, \"quaternion norm\", np.linalg.norm(euler_state[3:7])"
   ]
  },
  {
   "cell_type": "code",
   "execution_count": 8,
   "metadata": {},
   "outputs": [
    {
     "data": {
      "text/plain": [
       "(array([ 1.23542936e-04, -2.75823880e-04, -2.29782590e-03, -2.59450405e-03,\n",
       "        -1.16291972e-03, -2.64425683e-04,  9.99995923e-01,  1.20941934e-04,\n",
       "        -2.69829401e-04, -2.29866843e-03, -5.18901516e-03, -2.32584260e-03,\n",
       "        -5.28852084e-04]),\n",
       " 'quaternion norm',\n",
       " 1.0)"
      ]
     },
     "execution_count": 8,
     "metadata": {},
     "output_type": "execute_result"
    }
   ],
   "source": [
    "rk4_state = model.state_space.rollout(x0, tau, 2e-3, 100, RK4)\n",
    "\n",
    "rk4_state, \"quaternion norm\", np.linalg.norm(rk4_state[3:7])"
   ]
  }
 ],
 "metadata": {
  "kernelspec": {
   "display_name": "venv",
   "language": "python",
   "name": "python3"
  },
  "language_info": {
   "codemirror_mode": {
    "name": "ipython",
    "version": 3
   },
   "file_extension": ".py",
   "mimetype": "text/x-python",
   "name": "python",
   "nbconvert_exporter": "python",
   "pygments_lexer": "ipython3",
   "version": "3.10.12"
  }
 },
 "nbformat": 4,
 "nbformat_minor": 2
}
