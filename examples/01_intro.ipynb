{
 "cells": [
  {
   "cell_type": "markdown",
   "metadata": {},
   "source": [
    "## **Robot Model** "
   ]
  },
  {
   "cell_type": "markdown",
   "metadata": {},
   "source": [
    "`RobotModel` is a tiny wrapper around the modeling backend (`casadi_kin_dyn`) that allow you to create symbolical CasAdi model from **urdf** file, then calculate a notions such as **forward and inverse dynamics**, com positions, state space representation etc, one may also calculate **body** specific properties and add **contacts**."
   ]
  },
  {
   "cell_type": "markdown",
   "metadata": {},
   "source": [
    "The typical workflow as follows:\n",
    "* Build the urdf of your robot and create `RobotModel` instance\n",
    "* Add additional bodies and possibly contacts\n",
    "* Calculate the all necessary functions with `~.update_model()` method \n",
    "* Access to casadi functions that are stored within RobotModel and use them either numerically or symbolically in other CasAdi empowered projects.  \n",
    "\n",
    "There are also banch of modules that facilitates work with given type of robots, i.e. manipulators, quadrupeds and bipeds.\n"
   ]
  },
  {
   "cell_type": "markdown",
   "metadata": {},
   "source": [
    "As example let us create the model of z1 manipulator:\n",
    "\n",
    "We will use [robot_descriptions.py](https://github.com/robot-descriptions/robot_descriptions.py) library to simplify the process of urdf retrieval.\n",
    "\n",
    "### *Note*:\n",
    "You have to restart kernel after `robot_descriptions` is installed"
   ]
  },
  {
   "cell_type": "code",
   "execution_count": 1,
   "metadata": {},
   "outputs": [],
   "source": [
    "%%capture\n",
    "!pip3 install robot_descriptions"
   ]
  },
  {
   "cell_type": "code",
   "execution_count": 2,
   "metadata": {},
   "outputs": [],
   "source": [
    "from darli.backend import CasadiBackend, PinocchioBackend\n",
    "from darli.modeling import Functional, Robot\n",
    "from robot_descriptions import z1_description\n",
    "\n",
    "model = Functional(CasadiBackend(z1_description.URDF_PATH))\n",
    "# model = Robot(CasadiBackend(z1_description.URDF_PATH))"
   ]
  },
  {
   "cell_type": "markdown",
   "metadata": {},
   "source": [
    "One can retrive basic model info as follows:"
   ]
  },
  {
   "cell_type": "code",
   "execution_count": 3,
   "metadata": {},
   "outputs": [
    {
     "data": {
      "text/plain": [
       "(6, 6, 6)"
      ]
     },
     "execution_count": 3,
     "metadata": {},
     "output_type": "execute_result"
    }
   ],
   "source": [
    "nq = model.nq  # dimensionality of configuration\n",
    "nv = model.nv  # dimensionality of generilized velocities\n",
    "nu = model.nu  # dimensionality  of control inputs\n",
    "q_min, q_max = model.q_min, model.q_max  # minimal and maximal limits on joint pos\n",
    "nq, nv, nu"
   ]
  },
  {
   "cell_type": "code",
   "execution_count": 4,
   "metadata": {},
   "outputs": [
    {
     "data": {
      "text/plain": [
       "['universe', 'joint1', 'joint2', 'joint3', 'joint4', 'joint5', 'joint6']"
      ]
     },
     "execution_count": 4,
     "metadata": {},
     "output_type": "execute_result"
    }
   ],
   "source": [
    "joint_names = model.joint_names  # names of the joints\n",
    "joint_names"
   ]
  },
  {
   "cell_type": "code",
   "execution_count": 5,
   "metadata": {},
   "outputs": [
    {
     "data": {
      "text/plain": [
       "5"
      ]
     },
     "execution_count": 5,
     "metadata": {},
     "output_type": "execute_result"
    }
   ],
   "source": [
    "model.joint_id(joint_names[nv - 1])  # will return id of the joint by name"
   ]
  },
  {
   "cell_type": "markdown",
   "metadata": {},
   "source": [
    "### **Equations of Motion and Dynamics**"
   ]
  },
  {
   "cell_type": "markdown",
   "metadata": {},
   "source": [
    "The dynamics of articulated mechanics in robotic systems is usually represented as:\n",
    "$$\n",
    "\\mathbf{M}(\\mathbf{q})\\dot{\\mathbf{v}} + \\mathbf{C}(\\mathbf{q},\\mathbf{v})\\mathbf{v} + \\mathbf{g}(\\mathbf{q})  = \n",
    "\\mathbf{M}(\\mathbf{q})\\dot{\\mathbf{v}} + \\mathbf{c}(\\mathbf{q},\\mathbf{v}) + \\mathbf{g}(\\mathbf{q}) = \\mathbf{M}(\\mathbf{q})\\dot{\\mathbf{v}} + \\mathbf{h}(\\mathbf{q},\\mathbf{v}) = \\mathbf{Q}\n",
    "$$\n",
    "\n",
    "where:\n",
    "* $\\mathbf{Q} \\in \\mathbb{R}^{nv}$ - generalized forces corresponding to generilized coordinates\n",
    "* $\\mathbf{q} \\in \\mathbb{R}^{nq}$ - vector of generilized coordinates\n",
    "* $\\mathbf{v} \\in \\mathbb{R}^{nq}$ - vector of generilized velocities (sometimes $\\mathbf{v} = \\dot{\\mathbf{q}}$, but not in case of $\\mathbf{q}$ containing quaternions)\n",
    "* $\\mathbf{M} \\in \\mathbb{R}^{nv \\times nv}$ - positive definite symmetric inertia matrix \n",
    "* $\\mathbf{c} \\in \\mathbb{R}^{nv}$ - describe centrifugal and Coriolis forces\n",
    "* $\\mathbf{C} \\in \\mathbb{R}^{nv \\times nv}$ - describe 'coefficients' of centrifugal and Coriolis forces\n",
    "* $\\mathbf{g} \\in \\mathbb{R}^{nv}$ - describes effect of gravity and other position depending forces\n",
    "* $\\mathbf{h} \\in \\mathbb{R}^{nv} $ - combined effect of $\\mathbf{g}$ and $\\mathbf{c}$\n",
    "\n",
    "\n",
    "One can get all of the above quantities in symbotics as follows:"
   ]
  },
  {
   "cell_type": "code",
   "execution_count": 6,
   "metadata": {},
   "outputs": [],
   "source": [
    "inertia = model.inertia\n",
    "gravity_vector = model.gravity\n",
    "bias_force = model.bias_force\n",
    "# coriolis_matrix = model.coriolis_matrix\n",
    "coriolis = model.coriolis"
   ]
  },
  {
   "cell_type": "markdown",
   "metadata": {},
   "source": [
    "Each of the above define the CasAdi functions:"
   ]
  },
  {
   "cell_type": "code",
   "execution_count": 7,
   "metadata": {},
   "outputs": [
    {
     "data": {
      "text/plain": [
       "Function(inertia:(q[6])->(inertia[6x6]) SXFunction)"
      ]
     },
     "execution_count": 7,
     "metadata": {},
     "output_type": "execute_result"
    }
   ],
   "source": [
    "model.inertia"
   ]
  },
  {
   "cell_type": "markdown",
   "metadata": {},
   "source": [
    "And can be evaluated both numerically and Functionalally:"
   ]
  },
  {
   "cell_type": "code",
   "execution_count": 8,
   "metadata": {},
   "outputs": [
    {
     "name": "stdout",
     "output_type": "stream",
     "text": [
      "Functionalal: @1=7e-07, @2=sin(q_5), @3=1.6e-07, @4=cos(q_5), @5=((@1*@2)+(@3*@4)), @6=(@5*@2), @7=0.0001468, @8=0.165803, @9=0.00177591, @10=-0.00017355, @11=-0.00143876, @12=((@10*@4)-(@11*@2)), @13=((0.0005386+(@6+@7))+(@8*(@9+sq(@12)))), @14=0.307927, @15=0.07, @16=0.0491595, @17=cos(q_4), @18=sin(q_4), @19=0.425807, @20=(@19*@12), @21=(@15+((@16*@17)-(@18*@20))), @22=(0.0436668-@21), @23=((@16*@18)+(@17*@20)), @24=(0.00364738-@23), @25=((0.00097912+@13)+(@14*(sq(@22)+sq(@24)))), @26=cos(q_3), @27=2, @28=1.22e-06, @29=1.08e-06, @30=5.4e-07, @31=-0.00698719, @32=((@10*@2)+(@11*@4)), @33=(0.00646316-@32), @34=((5.689e-05+(((@28*@2)+(@29*@4))-(@30*@4)))-(@31*@33)), @35=(@27*@34), @36=((-1.3e-07+((@5*@4)+-8e-08))+((@8*@12)*@33)), @37=(@36+@36), @38=(0.0037111+(@19*@32)), @39=(-0.00170192-@38), @40=((4.091e-05+(((@35*@17)-(@37*@18))-((@17*@34)-(@18*@36))))-((@14*@22)*@39)), @41=sin(q_3), @42=(((@1*@4)-(@3*@2))*@4), @43=(((0.00017605+(((3.718e-05-@42)-@6)+@7))+(@8*(sq(@12)+sq(@33))))-@13), @44=(((0.00055896+(@42+@7))+(@8*(@9+sq(@33))))-@13), @45=((4e-07+(((@28*@4)-(@29*@2))+(@30*@2)))+(@31*@12)), @46=((@18*@43)+(@17*@45)), @47=((@18*@45)+(@17*@44)), @48=((@46*@18)+(@47*@17)), @49=(((0.00031576+(((@43+@44)-@48)+@13))+(@14*(sq(@24)+sq(@39))))-@25), @50=((@26*(@27*@40))-(@41*@49)), @51=(@50*@41), @52=0.500915, @53=0.218, @54=0.545926, @55=(0.019828+(@54*@21)), @56=(-0.000772798+(@54*@38)), @57=(@53+((@26*@55)+(@41*@56))), @58=(0.106092-@57), @59=(0.00165618+(@54*@23)), @60=(-0.00541815-@59), @61=((0.00886621+(@25-@51))+(@52*(sq(@58)+sq(@60)))), @62=cos(q_2), @63=0.057, @64=(@63+((@26*@56)-(@41*@55))), @65=(0.0347638-@64), @66=((-0.00208102+((@50*@26)-@40))-((@52*@58)*@65)), @67=sin(q_2), @68=(((0.00108061+((@49+@51)+@25))+(@52*(sq(@60)+sq(@65))))-@61), @69=((@62*(@27*@66))-(@67*@68)), @70=(@69*@67), @71=0.757689, @72=-0.35, @73=0.596748, @74=(0.0427819+(@73*@57)), @75=(0.0140186+(@73*@64)), @76=(@72+((@62*@74)+(@67*@75))), @77=(-0.110126-@76), @78=(-0.00218488+(@73*@59)), @79=(0.00240029-@78), @80=((0.0246611+(@61-@70))+(@71*(sq(@77)+sq(@79)))), @81=cos(q_1), @82=((@62*@75)-(@67*@74)), @83=(0.00158266-@82), @84=sin(q_1), @85=0.636006, @86=(-0.0400852+(@85*@76)), @87=(0.000576078+(@85*@82)), @88=((@81*@86)+(@84*@87)), @89=(0.000873691+(@85*@78)), @90=0.829376, @91=((-5.96e-06+(((@35*@18)+(@37*@17))-((@17*@36)+(@18*@34))))-((@14*@24)*@39)), @92=((8.13e-05+((@46*@17)-(@47*@18)))-((@14*@22)*@24)), @93=((-1.332e-05+(((@26*(@91+@91))-(@41*@92))-(@26*@91)))-((@52*@60)*@65)), @94=((-8.669e-05+((@92*@26)+(@41*@91)))-((@52*@58)*@60)), @95=3.27292, @96=((@81*(((-2.1e-06+(((@62*(@93+@93))-(@67*@94))-(@62*@93)))-((@71*@79)*@83))-((@95*@89)*@87)))-(@84*(((0.00062358+((@94*@62)+(@67*@93)))-((@71*@77)*@79))-((@95*@86)*@89)))), @97=2.0816, @98=(@93-((@97*@78)*@75)), @99=(@94-((@97*@74)*@78)), @100=((@81*((@62*@98)-(@67*@99)))-(@84*((@62*@99)+(@67*@98)))), @101=1.24219, @102=(@91-((@101*@59)*@56)), @103=(@92-((@101*@55)*@59)), @104=((@26*@102)-(@41*@103)), @105=((@26*@103)+(@41*@102)), @106=((@81*((@62*@104)-(@67*@105)))-(@84*((@62*@105)+(@67*@104)))), @107=0.678143, @108=(@13+(@107*(0.00241666+sq(@20)))), @109=(-0.678143*@20), @110=0.0333372, @111=((@18*@109)+(@110*@17)), @112=(@108+(@15*@111)), @113=(@34-(@110*@38)), @114=(@36-((@107*@20)*@38)), @115=((@17*@113)-(@18*@114)), @116=(((@26*@112)-(@41*@115))+(@53*@111)), @117=(((@26*@115)+(@41*@112))-(@63*@111)), @118=((@81*(((@62*@116)-(@67*@117))+(@72*@111)))-(@84*((@62*@117)+(@67*@116)))), @119=2.4306e-06, @120=1.05761e-05, @121=0.0492, @122=0.000415454, @123=-5.0114e-05, @124=((@122*@4)-(@123*@2)), @125=(((@119*@2)+(@120*@4))+(@121*@124)), @126=(@17*@124), @127=(@125+(@15*@126)), @128=0.000183886, @129=((@122*@2)+(@123*@4)), @130=(((@119*@4)-(@120*@2))-(@121*@129)), @131=((@128*@17)-(@18*@130)), @132=(((@26*@127)-(@41*@131))+(@53*@126)), @133=(((@26*@131)+(@41*@127))-(@63*@126)), @134=((@81*(((@62*@132)-(@67*@133))+(@72*@126)))-(@84*((@62*@133)+(@67*@132)))), @135=((0.00092996+(@48+@13))+(@14*(sq(@22)+sq(@39)))), @136=((0.00954238+@135)+(@52*(sq(@58)+sq(@65)))), @137=(@136+(@97*(sq(@74)+sq(@75)))), @138=(@137-(@72*((@62*(-2.0816*@74))-(@67*(@97*@75))))), @139=(@135+(@101*(sq(@55)+sq(@56)))), @140=(@101*@56), @141=(-1.24219*@55), @142=((@26*@140)+(@41*@141)), @143=((@26*@141)-(@41*@140)), @144=(@139+((@63*@142)-(@53*@143))), @145=(@144-(@72*((@62*@143)-(@67*@142)))), @146=((@18*@113)+(@17*@114)), @147=((@17*@109)-(@110*@18)), @148=(@26*@147), @149=(@41*@147), @150=(@146+((@63*@148)+(@53*@149))), @151=(@150+(@72*((@67*@148)+(@62*@149)))), @152=(((@128*@18)+(@17*@130))-(@15*@129)), @153=(@18*@124), @154=((@41*@129)-(@26*@153)), @155=((@41*@153)+(@26*@129)), @156=(@152+((@63*@154)-(@53*@155))), @157=(@156-(@72*((@62*@155)-(@67*@154)))), \n",
      "[[(((0.00083936+(@80-(((@81*(@27*((5.13e-06+((@69*@62)-@66))-((@71*@77)*@83))))-(@84*(((0.00102138+((@68+@70)+@61))+(@71*(sq(@79)+sq(@83))))-@80)))*@84)))+(0.55844*(sq((2.47e-06-@88))+sq((-0.00025198-@89)))))+(3.94625*(sq((4.21442e-07+(@90*@88)))+sq((-4.29939e-05+(@90*@89)))))), @96, @100, @106, @118, @134], \n",
      " [@96, (((0.0242946+@136)+(@71*(sq(@77)+sq(@83))))+(@95*(sq(@86)+sq(@87)))), @138, @145, @151, @157], \n",
      " [@100, @138, @137, @144, @150, @156], \n",
      " [@106, @145, @144, @139, @146, @152], \n",
      " [@118, @151, @150, @146, @108, @125], \n",
      " [@134, @157, @156, @152, @125, @128]]\n",
      "Numerical: \n",
      "[[0.0568861, -0.000156023, -0.00482554, -0.00210471, -0.0037971, -0.000190579], \n",
      " [-0.000156023, 0.113902, -0.0352976, 0.00413906, -0.00194122, -0.00010787], \n",
      " [-0.00482554, -0.0352976, 0.109244, 0.018694, 0.00387682, -1.64184e-05], \n",
      " [-0.00210471, 0.00413906, 0.018694, 0.0112183, -3.56031e-06, -7.31598e-05], \n",
      " [-0.0037971, -0.00194122, 0.00387682, -3.56031e-06, 0.00261885, 2.74114e-05], \n",
      " [-0.000190579, -0.00010787, -1.64184e-05, -7.31598e-05, 2.74114e-05, 0.000183886]]\n"
     ]
    }
   ],
   "source": [
    "import numpy as np\n",
    "import casadi as cs\n",
    "\n",
    "# Functionalal computation\n",
    "print(\"Functionalal:\", inertia(cs.SX.sym(\"q\", nq)))\n",
    "# Numerical computation\n",
    "print(\"Numerical:\", inertia(np.random.randn(nq)))"
   ]
  },
  {
   "cell_type": "markdown",
   "metadata": {},
   "source": [
    "Note that above are calculated not via Lagrange formalism but by using efficient recursive Newton-Euler algorithm (for `bias_force`), while inertia matrix is evaluated by composite rigid body algorithm (CRBA)"
   ]
  },
  {
   "cell_type": "markdown",
   "metadata": {},
   "source": [
    "There are some notions apart from dynamical coefficients that may be useful as well, such as com kinematics and jacobians, and energy:"
   ]
  },
  {
   "cell_type": "code",
   "execution_count": 9,
   "metadata": {},
   "outputs": [
    {
     "data": {
      "text/plain": [
       "SX(@1=0.673326, @2=2.47e-06, @3=sin(q_0), @4=-0.00025198, @5=cos(q_0), @6=1.19132, @7=-0.110126, @8=cos(q_1), @9=(@3*@8), @10=0.00240029, @11=0.00158266, @12=sin(q_1), @13=(@3*@12), @14=0.839409, @15=0.106092, @16=cos(q_2), @17=sin(q_2), @18=((@9*@16)-(@13*@17)), @19=-0.00541815, @20=0.0347638, @21=((@9*@17)+(@13*@16)), @22=-0.35, @23=(@22*@9), @24=0.564046, @25=0.0436668, @26=cos(q_3), @27=sin(q_3), @28=((@18*@26)-(@21*@27)), @29=0.00364738, @30=-0.00170192, @31=((@18*@27)+(@21*@26)), @32=0.218, @33=0.057, @34=(@23+((@32*@18)+(@33*@21))), @35=0.389385, @36=0.0312153, @37=cos(q_4), @38=sin(q_4), @39=((@28*@37)+(@5*@38)), @40=0.00646316, @41=0.07, @42=(@34+(@41*@28)), @43=0.288758, @44=0.0241569, @45=-0.00017355, @46=((@5*@37)-(@28*@38)), @47=cos(q_5), @48=sin(q_5), @49=-0.00143876, @50=0.0492, @51=(@42+(@50*@39)), @52=(@43*(((@44*@39)+((@45*((@46*@47)+(@31*@48)))+(@49*((@31*@47)-(@46*@48)))))+@51)), @53=((@35*(((@36*@39)+(@40*@31))+@42))+@52), @54=((@24*(((@25*@28)+((@29*@5)+(@30*@31)))+@34))+@53), @55=((@14*(((@15*@18)+((@19*@5)+(@20*@21)))+@23))+@54), @56=((@6*((@7*@9)+((@10*@5)+(@11*@13))))+@55), @57=3.94625, @58=(@5*@8), @59=(@5*@12), @60=((@58*@16)-(@59*@17)), @61=((@58*@17)+(@59*@16)), @62=(@22*@58), @63=((@60*@26)-(@61*@27)), @64=((@60*@27)+(@61*@26)), @65=(@62+((@32*@60)+(@33*@61))), @66=((@63*@37)-(@3*@38)), @67=(@65+(@41*@63)), @68=((@63*@38)+(@3*@37)), @69=(@67+(@50*@66)), @70=(@43*(((@44*@66)+((@45*((@64*@48)-(@68*@47)))+(@49*((@68*@48)+(@64*@47)))))+@69)), @71=((@35*(((@36*@66)+(@40*@64))+@67))+@70), @72=((@24*(((@25*@63)+((@30*@64)-(@29*@3)))+@65))+@71), @73=((@14*(((@15*@60)+((@20*@61)-(@19*@3)))+@62))+@72), @74=((@6*((@7*@58)+((@11*@59)-(@10*@3))))+@73), @75=0.1035, @76=((@8*@16)-(@12*@17)), @77=((@12*@16)+(@8*@17)), @78=(@75-(@22*@12)), @79=((@76*@26)-(@77*@27)), @80=((@77*@26)+(@76*@27)), @81=(@78+((@33*@76)-(@32*@77))), @82=(@80*@37), @83=(@81-(@41*@80)), @84=(@80*@38), @85=(@83-(@50*@82)), @86=(@43*((((@45*((@84*@47)+(@79*@48)))+(@49*((@79*@47)-(@84*@48))))-(@44*@82))+@85)), @87=((@35*(((@40*@79)-(@36*@82))+@83))+@86), @88=((@24*(((@30*@79)-(@25*@80))+@81))+@87), @89=((@14*(((@20*@76)-(@15*@77))+@78))+@88), @90=((@6*(((@11*@8)-(@7*@12))+@75))+@89), @91=3.27292, @92=2.0816, @93=1.24219, @94=0.678143, \n",
       "[[(-(((@1*((@2*@3)+(@4*@5)))+@56)/@57)), (((@90*@5)-(@91*(@75*@5)))/@57), (((@89*@5)-(@92*(@78*@5)))/@57), (((@88*@5)-(@93*(@81*@5)))/@57), (((@94*((@42*@79)-(@83*@31)))-((@53*@79)-(@87*@31)))/@57), ((((@52*@82)+(@86*@39))-(@43*((@51*@82)+(@85*@39))))/@57)], \n",
       " [(((@1*((@2*@5)-(@4*@3)))+@74)/@57), (((@90*@3)-(@91*(@75*@3)))/@57), (((@89*@3)-(@92*(@78*@3)))/@57), (((@88*@3)-(@93*(@81*@3)))/@57), (((@94*((@83*@64)-(@67*@79)))-((@87*@64)-(@71*@79)))/@57), (((@43*((@85*@66)+(@69*@82)))-((@86*@66)+(@70*@82)))/@57)], \n",
       " [0, (-(((@74*@5)+(@56*@3))/@57)), (((@92*((@62*@5)+(@23*@3)))-((@73*@5)+(@55*@3)))/@57), (((@93*((@65*@5)+(@34*@3)))-((@72*@5)+(@54*@3)))/@57), (((@94*((@67*@31)-(@42*@64)))-((@71*@31)-(@53*@64)))/@57), (((@43*((@69*@39)-(@51*@66)))-((@70*@39)-(@52*@66)))/@57)]])"
      ]
     },
     "execution_count": 9,
     "metadata": {},
     "output_type": "execute_result"
    }
   ],
   "source": [
    "model.backend.jacobian()"
   ]
  },
  {
   "cell_type": "code",
   "execution_count": 10,
   "metadata": {},
   "outputs": [
    {
     "data": {
      "text/plain": [
       "Energy(kinetic=Function(kinetic_energy:(q[6],v[6])->(kinetic_energy) SXFunction), potential=Function(potential_energy:(q[6])->(potential_energy) SXFunction))"
      ]
     },
     "execution_count": 10,
     "metadata": {},
     "output_type": "execute_result"
    }
   ],
   "source": [
    "model.energy"
   ]
  },
  {
   "cell_type": "code",
   "execution_count": 11,
   "metadata": {},
   "outputs": [],
   "source": [
    "com_position = model.com.position\n",
    "com_velocity = model.com.velocity\n",
    "com_jacobian = model.com.jacobian\n",
    "com_jacobian_dt = model.com.jacobian_dt\n",
    "potential_energy = model.energy.potential\n",
    "kinetic_energy = model.energy.kinetic\n",
    "lagrangian = model.lagrangian\n",
    "\n",
    "# TODO\n",
    "# momentum"
   ]
  },
  {
   "cell_type": "code",
   "execution_count": 12,
   "metadata": {},
   "outputs": [
    {
     "data": {
      "text/plain": [
       "Function(com_jacobian_dt:(q[6],v[6])->(com_jacobian_dt[3x6]) SXFunction)"
      ]
     },
     "execution_count": 12,
     "metadata": {},
     "output_type": "execute_result"
    }
   ],
   "source": [
    "com_jacobian_dt"
   ]
  },
  {
   "cell_type": "markdown",
   "metadata": {},
   "source": [
    "#### **Forward and Inverse Dynamics**\n"
   ]
  },
  {
   "cell_type": "markdown",
   "metadata": {},
   "source": [
    "In inverse dynamics we looking for the generilized forces:\n",
    "$$\n",
    "    \\mathbf{Q} = \\mathbf{M}(\\mathbf{q})\\dot{\\mathbf{v}} + \\mathbf{h}(\\mathbf{q},\\mathbf{v}) = \\text{rnea}(\\mathbf{q}, \\mathbf{v}, \\dot{\\mathbf{v}})\n",
    "$$"
   ]
  },
  {
   "cell_type": "code",
   "execution_count": 13,
   "metadata": {},
   "outputs": [
    {
     "data": {
      "text/plain": [
       "Function(contact_qforce:(q[6])->(contact_qforce[6]) SXFunction)"
      ]
     },
     "execution_count": 13,
     "metadata": {},
     "output_type": "execute_result"
    }
   ],
   "source": [
    "model.contact_qforce"
   ]
  },
  {
   "cell_type": "code",
   "execution_count": 14,
   "metadata": {},
   "outputs": [
    {
     "data": {
      "text/plain": [
       "Function(inverse_dynamics:(q[6],v[6],dv[6])->(tau[6]) SXFunction)"
      ]
     },
     "execution_count": 14,
     "metadata": {},
     "output_type": "execute_result"
    }
   ],
   "source": [
    "model.inverse_dynamics"
   ]
  },
  {
   "cell_type": "markdown",
   "metadata": {},
   "source": [
    "While forward dynamics is basically solving the equations of motion with respect to accelerations $\\dot{\\mathbf{v}}$. However the solution of the above in general case usually yields the complexity of $O(nv^3)$, for this reason a way to go is to use celebrated Featherstone Articulated Body algorithm (ABA), which effectevely exploit sparsity of $\\mathbf{M}$ for the tree structures and produce nearly linear complexity $O(nv)$:\n",
    "\n",
    "\n",
    "$$\n",
    "\\dot{\\mathbf{v}} = \\mathbf{M}^{-1}(\\mathbf{q})(\\mathbf{Q} - \\mathbf{h}(\\mathbf{q},\\mathbf{v})) = \\text{aba}(\\mathbf{q}, \\mathbf{v}, \\mathbf{Q})\n",
    "$$\n",
    "\n",
    "<!-- Articulated body algorithm \n",
    "\n",
    "Feather stone algorithm\n",
    " -->\n",
    "<!-- http://gamma.cs.unc.edu/courses/robotics-f08/LEC/ArticulatedBodyDynamics.pdf -->"
   ]
  },
  {
   "cell_type": "code",
   "execution_count": 15,
   "metadata": {},
   "outputs": [
    {
     "data": {
      "text/plain": [
       "Function(contact_qforce:(q[6])->(contact_qforce[6]) SXFunction)"
      ]
     },
     "execution_count": 15,
     "metadata": {},
     "output_type": "execute_result"
    }
   ],
   "source": [
    "model.contact_qforce"
   ]
  },
  {
   "cell_type": "code",
   "execution_count": 16,
   "metadata": {},
   "outputs": [
    {
     "data": {
      "text/plain": [
       "Function(forward_dynamics:(q[6],v[6],tau[6])->(dv[6]) SXFunction)"
      ]
     },
     "execution_count": 16,
     "metadata": {},
     "output_type": "execute_result"
    }
   ],
   "source": [
    "model.forward_dynamics"
   ]
  },
  {
   "cell_type": "markdown",
   "metadata": {},
   "source": [
    "#### **Passive Joints and Selector**"
   ]
  },
  {
   "cell_type": "markdown",
   "metadata": {},
   "source": [
    "In practical situations "
   ]
  },
  {
   "cell_type": "markdown",
   "metadata": {},
   "source": [
    "Choosing the passive joints:"
   ]
  },
  {
   "cell_type": "code",
   "execution_count": 17,
   "metadata": {},
   "outputs": [
    {
     "name": "stdout",
     "output_type": "stream",
     "text": [
      "Old input dimensions: 6\n",
      "New input dimensions: 8\n"
     ]
    }
   ],
   "source": [
    "import numpy as np\n",
    "\n",
    "print(f\"Old input dimensions: {model.nu}\")\n",
    "S = np.random.randn(model.nv, model.nv + 2)\n",
    "model.update_selector(S)\n",
    "print(f\"New input dimensions: {model.nu}\")"
   ]
  },
  {
   "cell_type": "code",
   "execution_count": 18,
   "metadata": {},
   "outputs": [
    {
     "data": {
      "text/plain": [
       "SX([tau_0, tau_1, tau_2, tau_3, tau_4, tau_5, tau_6, tau_7])"
      ]
     },
     "execution_count": 18,
     "metadata": {},
     "output_type": "execute_result"
    }
   ],
   "source": [
    "model.qfrc_u"
   ]
  },
  {
   "cell_type": "code",
   "execution_count": 19,
   "metadata": {},
   "outputs": [
    {
     "data": {
      "text/plain": [
       "Function(forward_dynamics:(q[6],v[6],tau[8])->(dv[6]) SXFunction)"
      ]
     },
     "execution_count": 19,
     "metadata": {},
     "output_type": "execute_result"
    }
   ],
   "source": [
    "model.forward_dynamics"
   ]
  },
  {
   "cell_type": "code",
   "execution_count": 20,
   "metadata": {},
   "outputs": [
    {
     "name": "stdout",
     "output_type": "stream",
     "text": [
      "New input dimensions: 3\n",
      "New selector:\n",
      " [[0. 0. 0.]\n",
      " [0. 0. 0.]\n",
      " [0. 0. 0.]\n",
      " [1. 0. 0.]\n",
      " [0. 1. 0.]\n",
      " [0. 0. 1.]]\n"
     ]
    }
   ],
   "source": [
    "model.update_selector(passive_joints=range(3))\n",
    "print(f\"New input dimensions: {model.nu}\")\n",
    "print(f\"New selector:\\n {model.selector}\")"
   ]
  },
  {
   "cell_type": "code",
   "execution_count": 21,
   "metadata": {},
   "outputs": [
    {
     "data": {
      "text/plain": [
       "Function(forward_dynamics:(q[6],v[6],tau[3])->(dv[6]) SXFunction)"
      ]
     },
     "execution_count": 21,
     "metadata": {},
     "output_type": "execute_result"
    }
   ],
   "source": [
    "model.forward_dynamics"
   ]
  },
  {
   "cell_type": "markdown",
   "metadata": {},
   "source": [
    "#### **State space Representation and Linearization**"
   ]
  },
  {
   "cell_type": "markdown",
   "metadata": {},
   "source": [
    "One can easily transform the mechanical system to the state space form by defining the state $\\mathbf{x} = [\\mathbf{q}, \\mathbf{v}]^T$:\n",
    "\n",
    "\n",
    "$$\n",
    "\\dot{\\mathbf{x}}= \\mathbf{f}(\\mathbf{x}, \\mathbf{u}) = \n",
    "\\begin{bmatrix}\n",
    "\\dot{\\mathbf{x}}_1 \\\\ \n",
    "\\dot{\\mathbf{x}}_2\n",
    "\\end{bmatrix}=\n",
    "\\begin{bmatrix}\n",
    "\\dot{\\mathbf{q}} \\\\ \n",
    "\\dot{\\mathbf{v}}\n",
    "\\end{bmatrix}=\n",
    "\\begin{bmatrix}\n",
    "\\mathbf{W}(\\mathbf{q})\\mathbf{v} \\\\ \n",
    "\\text{aba}(\\mathbf{q}, \\mathbf{v}, \\mathbf{S}\\mathbf{u})\n",
    "\\end{bmatrix}=\n",
    "\\begin{bmatrix}\n",
    "\\mathbf{W}(\\mathbf{x}_1)\\mathbf{x}_2 \\\\\n",
    "\\text{aba}(\\mathbf{x}_1, \\mathbf{x}_2, \\mathbf{S}\\mathbf{u})\n",
    "\\end{bmatrix}\n",
    "$$\n",
    "\n"
   ]
  },
  {
   "cell_type": "code",
   "execution_count": 22,
   "metadata": {},
   "outputs": [
    {
     "data": {
      "text/plain": [
       "<darli.modeling.functional.state_space.FunctionalStateSpace at 0x7efc703cee00>"
      ]
     },
     "execution_count": 22,
     "metadata": {},
     "output_type": "execute_result"
    }
   ],
   "source": [
    "model.state_space"
   ]
  },
  {
   "cell_type": "markdown",
   "metadata": {},
   "source": [
    "The above equation can be easily linearized to produce following linear approximation:"
   ]
  },
  {
   "cell_type": "markdown",
   "metadata": {},
   "source": [
    "One can easily find linearization with respect to state:"
   ]
  },
  {
   "cell_type": "code",
   "execution_count": 23,
   "metadata": {},
   "outputs": [
    {
     "ename": "AttributeError",
     "evalue": "'FunctionalStateSpace' object has no attribute 'state_derivative'",
     "output_type": "error",
     "traceback": [
      "\u001b[0;31m---------------------------------------------------------------------------\u001b[0m",
      "\u001b[0;31mAttributeError\u001b[0m                            Traceback (most recent call last)",
      "Cell \u001b[0;32mIn[23], line 1\u001b[0m\n\u001b[0;32m----> 1\u001b[0m \u001b[43mmodel\u001b[49m\u001b[38;5;241;43m.\u001b[39;49m\u001b[43mstate_space\u001b[49m\u001b[38;5;241;43m.\u001b[39;49m\u001b[43mstate_derivative\u001b[49m\n",
      "\u001b[0;31mAttributeError\u001b[0m: 'FunctionalStateSpace' object has no attribute 'state_derivative'"
     ]
    }
   ],
   "source": [
    "model.state_space.state_derivative"
   ]
  },
  {
   "cell_type": "code",
   "execution_count": null,
   "metadata": {},
   "outputs": [
    {
     "data": {
      "text/plain": [
       "Function(state_jacobian:(q[6],v[6],tau[3])->(state_jacobian[12x12,72nz]) SXFunction)"
      ]
     },
     "execution_count": 25,
     "metadata": {},
     "output_type": "execute_result"
    }
   ],
   "source": [
    "model.state_space.state_jacobian"
   ]
  },
  {
   "cell_type": "markdown",
   "metadata": {},
   "source": [
    "and control:"
   ]
  },
  {
   "cell_type": "code",
   "execution_count": null,
   "metadata": {},
   "outputs": [
    {
     "data": {
      "text/plain": [
       "Function(input_jacobian:(q[6],v[6],tau[3])->(input_jacobian[12x3,18nz]) SXFunction)"
      ]
     },
     "execution_count": 26,
     "metadata": {},
     "output_type": "execute_result"
    }
   ],
   "source": [
    "model.state_space.input_jacobian"
   ]
  },
  {
   "cell_type": "markdown",
   "metadata": {},
   "source": [
    "These functionality allows for easy implementation of linearization based analysis and control."
   ]
  },
  {
   "cell_type": "markdown",
   "metadata": {},
   "source": [
    "#### **Bodies and Contacts**"
   ]
  },
  {
   "cell_type": "code",
   "execution_count": null,
   "metadata": {},
   "outputs": [
    {
     "data": {
      "text/plain": [
       "{'link06': <darli.modeling.body.Body at 0x7f6ca40b11e0>}"
      ]
     },
     "execution_count": 27,
     "metadata": {},
     "output_type": "execute_result"
    }
   ],
   "source": [
    "model.add_body([\"link06\"])\n",
    "model.bodies"
   ]
  },
  {
   "cell_type": "code",
   "execution_count": null,
   "metadata": {},
   "outputs": [
    {
     "data": {
      "text/plain": [
       "<darli.modeling.functional.body.FunctionalBody at 0x7f6ca40b0700>"
      ]
     },
     "execution_count": 28,
     "metadata": {},
     "output_type": "execute_result"
    }
   ],
   "source": [
    "model.body(\"link06\")"
   ]
  },
  {
   "cell_type": "markdown",
   "metadata": {},
   "source": [
    "One may also retrieve a hash map of all bodies:"
   ]
  },
  {
   "cell_type": "code",
   "execution_count": null,
   "metadata": {},
   "outputs": [
    {
     "data": {
      "text/plain": [
       "{'link06': <darli.modeling.body.Body at 0x7f6ca40b11e0>}"
      ]
     },
     "execution_count": 29,
     "metadata": {},
     "output_type": "execute_result"
    }
   ],
   "source": [
    "model.bodies"
   ]
  },
  {
   "cell_type": "code",
   "execution_count": null,
   "metadata": {},
   "outputs": [
    {
     "data": {
      "text/plain": [
       "FrameQuantity(local=Function(linear_acceleration_local:(i0[6],i1[6],i2[6])->(o0[3]) SXFunction), world=Function(linear_acceleration_world:(i0[6],i1[6],i2[6])->(o0[3]) SXFunction), world_aligned=Function(linear_acceleration_world_aligned:(i0[6],i1[6],i2[6])->(o0[3]) SXFunction))"
      ]
     },
     "execution_count": 30,
     "metadata": {},
     "output_type": "execute_result"
    }
   ],
   "source": [
    "model.body(\"link06\").linear_acceleration"
   ]
  },
  {
   "cell_type": "code",
   "execution_count": null,
   "metadata": {},
   "outputs": [
    {
     "data": {
      "text/plain": [
       "Function(linear_acceleration_local:(i0[6],i1[6],i2[6])->(o0[3]) SXFunction)"
      ]
     },
     "execution_count": 31,
     "metadata": {},
     "output_type": "execute_result"
    }
   ],
   "source": [
    "model.body(\"link06\").linear_acceleration.local"
   ]
  },
  {
   "cell_type": "code",
   "execution_count": null,
   "metadata": {},
   "outputs": [
    {
     "data": {
      "text/plain": [
       "Function(jacobian_local:(i0[6])->(o0[6x6]) SXFunction)"
      ]
     },
     "execution_count": 32,
     "metadata": {},
     "output_type": "execute_result"
    }
   ],
   "source": [
    "model.body(\"link06\").jacobian.local"
   ]
  },
  {
   "cell_type": "code",
   "execution_count": null,
   "metadata": {},
   "outputs": [
    {
     "data": {
      "text/plain": [
       "Function(angular_acceleration_local:(i0[6],i1[6],i2[6])->(o0[3]) SXFunction)"
      ]
     },
     "execution_count": 33,
     "metadata": {},
     "output_type": "execute_result"
    }
   ],
   "source": [
    "model.body(\"link06\").jacobian.local\n",
    "model.body(\"link06\").jacobian_dt.local\n",
    "model.body(\"link06\").linear_velocity.local\n",
    "model.body(\"link06\").angular_velocity.local\n",
    "model.body(\"link06\").linear_acceleration.local\n",
    "model.body(\"link06\").angular_acceleration.local"
   ]
  },
  {
   "cell_type": "markdown",
   "metadata": {},
   "source": [
    "The body jacobian and velocities can be calculated with respect to `world`, `local` and `world_aligned` frames."
   ]
  },
  {
   "cell_type": "code",
   "execution_count": null,
   "metadata": {},
   "outputs": [
    {
     "data": {
      "text/plain": [
       "Function(jacobian_world:(i0[6])->(o0[6x6]) SXFunction)"
      ]
     },
     "execution_count": 34,
     "metadata": {},
     "output_type": "execute_result"
    }
   ],
   "source": [
    "model.body(\"link06\").jacobian.world"
   ]
  },
  {
   "cell_type": "markdown",
   "metadata": {},
   "source": [
    "Note that body name can be initialized with dictionary that maps given name to one presented in urdf i.e: `{'ee':'link06'}`"
   ]
  },
  {
   "cell_type": "markdown",
   "metadata": {},
   "source": [
    "##### **Contacts**"
   ]
  },
  {
   "cell_type": "code",
   "execution_count": null,
   "metadata": {},
   "outputs": [],
   "source": [
    "model.body(\"link06\").add_contact(\"wrench\")"
   ]
  },
  {
   "cell_type": "code",
   "execution_count": null,
   "metadata": {},
   "outputs": [
    {
     "data": {
      "text/plain": [
       "Function(qforce:(i0[6],i1[6])->(o0[6]) SXFunction)"
      ]
     },
     "execution_count": 36,
     "metadata": {},
     "output_type": "execute_result"
    }
   ],
   "source": [
    "model.body(\"link06\").contact.dim\n",
    "# model.body(\"link06\").contact.contact_frame\n",
    "model.body(\"link06\").contact.ref_frame\n",
    "model.body(\"link06\").contact.qforce"
   ]
  },
  {
   "cell_type": "markdown",
   "metadata": {},
   "source": [
    "Do not forget to rebuild the model:"
   ]
  },
  {
   "cell_type": "code",
   "execution_count": null,
   "metadata": {},
   "outputs": [],
   "source": [
    "# model.update_model()"
   ]
  },
  {
   "cell_type": "markdown",
   "metadata": {},
   "source": [
    "Note how arguments are changed in dynamics related functions, i.e:"
   ]
  },
  {
   "cell_type": "code",
   "execution_count": null,
   "metadata": {},
   "outputs": [
    {
     "data": {
      "text/plain": [
       "Function(forward_dynamics:(q[6],v[6],tau[3],link06[6])->(dv[6]) SXFunction)"
      ]
     },
     "execution_count": 38,
     "metadata": {},
     "output_type": "execute_result"
    }
   ],
   "source": [
    "model.forward_dynamics"
   ]
  },
  {
   "cell_type": "markdown",
   "metadata": {},
   "source": [
    "the state space representation and jacobians are changed as well:"
   ]
  },
  {
   "cell_type": "code",
   "execution_count": null,
   "metadata": {},
   "outputs": [
    {
     "data": {
      "text/plain": [
       "Function(state_derivative:(q[6],v[6],tau[3],link06[6])->(state_derivative[12]) SXFunction)"
      ]
     },
     "execution_count": 39,
     "metadata": {},
     "output_type": "execute_result"
    }
   ],
   "source": [
    "model.state_space.state_derivative"
   ]
  },
  {
   "cell_type": "code",
   "execution_count": null,
   "metadata": {},
   "outputs": [
    {
     "data": {
      "text/plain": [
       "Function(state_jacobian:(q[6],v[6],tau[3],link06[6])->(state_jacobian[12x12,78nz]) SXFunction)"
      ]
     },
     "execution_count": 40,
     "metadata": {},
     "output_type": "execute_result"
    }
   ],
   "source": [
    "model.state_space.state_jacobian"
   ]
  },
  {
   "cell_type": "code",
   "execution_count": null,
   "metadata": {},
   "outputs": [],
   "source": [
    "model.body(\"link06\").contact.add_cone(mu=0.5, X=0.05, Y=0.02)"
   ]
  },
  {
   "cell_type": "code",
   "execution_count": null,
   "metadata": {},
   "outputs": [
    {
     "data": {
      "text/plain": [
       "Function(nonlin_wrench_cone:(force[6])->(constraint[6]) SXFunction)"
      ]
     },
     "execution_count": 42,
     "metadata": {},
     "output_type": "execute_result"
    }
   ],
   "source": [
    "wrench_cone = model.body(\"link06\").contact.cone.full()\n",
    "\n",
    "wrench_cone"
   ]
  },
  {
   "cell_type": "code",
   "execution_count": null,
   "metadata": {},
   "outputs": [
    {
     "data": {
      "text/plain": [
       "DM(\n",
       "[[-1, 0, -0.5, 0, 0, 0], \n",
       " [1, 0, -0.5, 0, 0, 0], \n",
       " [0, -1, -0.5, 0, 0, 0], \n",
       " [0, 1, -0.5, 0, 0, 0], \n",
       " [0, 0, -0.02, -1, 0, 0], \n",
       " [0, 0, -0.02, 1, 0, 0], \n",
       " [0, 0, -0.05, 0, -1, 0], \n",
       " [0, 0, -0.05, 0, 1, 0], \n",
       " [-0.02, -0.05, -0.035, 0.5, 0.5, -1], \n",
       " [-0.02, 0.05, -0.035, 0.5, -0.5, -1], \n",
       " [0.02, -0.05, -0.035, -0.5, 0.5, -1], \n",
       " [0.02, 0.05, -0.035, -0.5, -0.5, -1], \n",
       " [0.02, 0.05, -0.035, 0.5, 0.5, 1], \n",
       " [0.02, -0.05, -0.035, 0.5, -0.5, 1], \n",
       " [-0.02, 0.05, -0.035, -0.5, 0.5, 1], \n",
       " [-0.02, -0.05, -0.035, -0.5, -0.5, 1]])"
      ]
     },
     "execution_count": 43,
     "metadata": {},
     "output_type": "execute_result"
    }
   ],
   "source": [
    "model.body(\"link06\").contact.cone.linear()"
   ]
  },
  {
   "cell_type": "code",
   "execution_count": null,
   "metadata": {},
   "outputs": [
    {
     "data": {
      "text/plain": [
       "dict_keys(['link06', 'ee'])"
      ]
     },
     "execution_count": 44,
     "metadata": {},
     "output_type": "execute_result"
    }
   ],
   "source": [
    "model.add_body({\"ee\": \"link06\"})\n",
    "model.bodies.keys()"
   ]
  },
  {
   "cell_type": "markdown",
   "metadata": {},
   "source": [
    "One can add bodies on the initialization stage based on following syntax:"
   ]
  },
  {
   "cell_type": "code",
   "execution_count": null,
   "metadata": {},
   "outputs": [],
   "source": [
    "# Symbolic(z1_description.URDF_PATH, bodies_names={'shoulder':'link03', 'ee':'link06'})"
   ]
  },
  {
   "cell_type": "markdown",
   "metadata": {},
   "source": [
    "The `bodies_names` arguments can be listof body names present in urdf, however for increased readability we suggest to use the dictionary as shown above."
   ]
  }
 ],
 "metadata": {
  "kernelspec": {
   "display_name": "base",
   "language": "python",
   "name": "python3"
  },
  "language_info": {
   "codemirror_mode": {
    "name": "ipython",
    "version": 3
   },
   "file_extension": ".py",
   "mimetype": "text/x-python",
   "name": "python",
   "nbconvert_exporter": "python",
   "pygments_lexer": "ipython3",
   "version": "3.10.13"
  },
  "orig_nbformat": 4
 },
 "nbformat": 4,
 "nbformat_minor": 2
}
