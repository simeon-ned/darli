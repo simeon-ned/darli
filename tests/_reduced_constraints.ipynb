{
 "cells": [
  {
   "cell_type": "code",
   "execution_count": 1,
   "metadata": {},
   "outputs": [],
   "source": [
    "from darli.robots import Biped\n",
    "from robot_descriptions import atlas_v4_description\n",
    "import casadi as cs\n",
    "import numpy as np\n",
    "\n",
    "\n",
    "biped_urdf = atlas_v4_description.URDF_PATH\n",
    "\n",
    "biped_model = Biped(\n",
    "    biped_urdf,\n",
    "    torso={\"torso\": \"pelvis\"},\n",
    "    foots={\"left_foot\": \"l_foot\", \"right_foot\": \"r_foot\"},\n",
    ")"
   ]
  },
  {
   "cell_type": "code",
   "execution_count": 3,
   "metadata": {},
   "outputs": [
    {
     "data": {
      "text/plain": [
       "(30, 30, 24)"
      ]
     },
     "execution_count": 3,
     "metadata": {},
     "output_type": "execute_result"
    }
   ],
   "source": [
    "nq = biped_model.nq  # dimensionality of configuration\n",
    "nv = biped_model.nv  # dimensionality of generilized velocities\n",
    "nu = biped_model.nu  # dimensionality  of control inputs\n",
    "q_min, q_max = (\n",
    "    biped_model.q_min,\n",
    "    biped_model.q_max,\n",
    ")  # minimal and maximal limits on joint pos\n",
    "nq, nv, nu"
   ]
  },
  {
   "cell_type": "code",
   "execution_count": 4,
   "metadata": {},
   "outputs": [],
   "source": [
    "jacobians = []\n",
    "jacobians_dt = []\n",
    "for body in {\"right_foot\", \"left_foot\"}:\n",
    "    contact_dim = biped_model.body(body).contact.dim\n",
    "    jacobians.append(biped_model.body(body).contact.jacobian(biped_model._model._q))\n",
    "    jacobians_dt.append(\n",
    "        biped_model.body(\"right_foot\")\n",
    "        .jacobian_dt()\n",
    "        .world(biped_model._model._q, biped_model._model._v)[:contact_dim, :]\n",
    "    )\n",
    "\n",
    "\n",
    "jacobian_matrix = cs.vertcat(*jacobians)\n",
    "jacobian_dt = cs.vertcat(*jacobians_dt)"
   ]
  },
  {
   "cell_type": "code",
   "execution_count": 5,
   "metadata": {},
   "outputs": [],
   "source": [
    "M = biped_model.inertia(biped_model._model._q)\n",
    "h = biped_model.bias_force(biped_model._model._q, biped_model._model._v)"
   ]
  },
  {
   "cell_type": "code",
   "execution_count": 6,
   "metadata": {},
   "outputs": [],
   "source": [
    "nj = jacobian_matrix.rows()"
   ]
  },
  {
   "cell_type": "code",
   "execution_count": 7,
   "metadata": {},
   "outputs": [],
   "source": [
    "#\n",
    "kkt_matrix = cs.blockcat(M, -jacobian_matrix.T, jacobian_matrix, np.zeros((nj, nj)))\n",
    "kkt_rhs = cs.vertcat(biped_model._qfrc_u - h, -jacobian_dt @ biped_model._model._v)"
   ]
  },
  {
   "cell_type": "code",
   "execution_count": 8,
   "metadata": {},
   "outputs": [],
   "source": [
    "kkt_solution = cs.solve(kkt_matrix, kkt_rhs)"
   ]
  },
  {
   "cell_type": "code",
   "execution_count": 9,
   "metadata": {},
   "outputs": [],
   "source": [
    "ddq_minimal = kkt_solution[: biped_model.nv]\n",
    "contact_forces = kkt_solution[biped_model.nv :]"
   ]
  },
  {
   "cell_type": "code",
   "execution_count": 10,
   "metadata": {},
   "outputs": [],
   "source": [
    "fw_dyn = cs.Function(\n",
    "    \"reduced_forward_dynamics\",\n",
    "    [biped_model._model._q, biped_model._model._v, biped_model._u],\n",
    "    [ddq_minimal],\n",
    "    [\"q\", \"v\", \"u\"],\n",
    "    [\"ddq_reduced\"],\n",
    ")"
   ]
  },
  {
   "cell_type": "code",
   "execution_count": 11,
   "metadata": {},
   "outputs": [],
   "source": [
    "con_force = cs.Function(\n",
    "    \"contact_forces\",\n",
    "    [biped_model._model._q, biped_model._model._v, biped_model._u],\n",
    "    [contact_forces],\n",
    "    [\"q\", \"v\", \"u\"],\n",
    "    [\"constraint_forces\"],\n",
    ")"
   ]
  },
  {
   "cell_type": "code",
   "execution_count": 12,
   "metadata": {},
   "outputs": [
    {
     "data": {
      "text/plain": [
       "Function(contact_forces:(q[30],v[30],u[24])->(constraint_forces[12]) SXFunction)"
      ]
     },
     "execution_count": 12,
     "metadata": {},
     "output_type": "execute_result"
    }
   ],
   "source": [
    "con_force"
   ]
  },
  {
   "cell_type": "code",
   "execution_count": 13,
   "metadata": {},
   "outputs": [],
   "source": [
    "# biped_model.state_space._state"
   ]
  },
  {
   "cell_type": "code",
   "execution_count": 14,
   "metadata": {},
   "outputs": [],
   "source": [
    "# fw_dyn(biped_model._model._q, biped_model._model._v, biped_model._u)*cs.SX.sym('dt', 1)"
   ]
  },
  {
   "cell_type": "code",
   "execution_count": 15,
   "metadata": {},
   "outputs": [],
   "source": [
    "def func(q, v, u, dt):\n",
    "    dv = fw_dyn(q, v, u)\n",
    "    v_next = v + dv * dt\n",
    "    # print(v_next)\n",
    "    q_next = biped_model._model._kindyn.integrate()(q, v_next * dt)\n",
    "    return cs.vertcat(q_next, v_next)\n",
    "\n",
    "\n",
    "dt = cs.SX.sym(\"dt\", 1)\n",
    "\n",
    "discrete_state_space = cs.Function(\n",
    "    \"discrete_state_space\",\n",
    "    [biped_model.state_space._state, biped_model._u, dt],\n",
    "    [func(biped_model._model._q, biped_model._model._v, biped_model._u, dt)],\n",
    "    [\"state\", \"control\", \"dt\"],\n",
    "    [\"next_state\"],\n",
    ")"
   ]
  },
  {
   "cell_type": "code",
   "execution_count": 16,
   "metadata": {},
   "outputs": [
    {
     "data": {
      "text/plain": [
       "Function(discrete_state_space:(state[60],control[24],dt)->(next_state[60]) SXFunction)"
      ]
     },
     "execution_count": 16,
     "metadata": {},
     "output_type": "execute_result"
    }
   ],
   "source": [
    "discrete_state_space"
   ]
  },
  {
   "cell_type": "code",
   "execution_count": 17,
   "metadata": {},
   "outputs": [
    {
     "name": "stdout",
     "output_type": "stream",
     "text": [
      "118 µs ± 1.27 µs per loop (mean ± std. dev. of 7 runs, 10,000 loops each)\n"
     ]
    }
   ],
   "source": [
    "%timeit discrete_state_space()"
   ]
  },
  {
   "cell_type": "code",
   "execution_count": 18,
   "metadata": {},
   "outputs": [
    {
     "name": "stdout",
     "output_type": "stream",
     "text": [
      "115 µs ± 769 ns per loop (mean ± std. dev. of 7 runs, 10,000 loops each)\n"
     ]
    }
   ],
   "source": [
    "%timeit fw_dyn()"
   ]
  }
 ],
 "metadata": {
  "kernelspec": {
   "display_name": "base",
   "language": "python",
   "name": "python3"
  },
  "language_info": {
   "codemirror_mode": {
    "name": "ipython",
    "version": 3
   },
   "file_extension": ".py",
   "mimetype": "text/x-python",
   "name": "python",
   "nbconvert_exporter": "python",
   "pygments_lexer": "ipython3",
   "version": "3.10.13"
  },
  "orig_nbformat": 4
 },
 "nbformat": 4,
 "nbformat_minor": 2
}
