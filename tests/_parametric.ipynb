{
 "cells": [
  {
   "cell_type": "code",
   "execution_count": 1,
   "metadata": {},
   "outputs": [],
   "source": [
    "from darli.robots import RobotModel\n",
    "from robot_descriptions import ur5_description\n",
    "import casadi as cs\n",
    "model = RobotModel(ur5_description.URDF_PATH)"
   ]
  },
  {
   "cell_type": "code",
   "execution_count": 2,
   "metadata": {},
   "outputs": [
    {
     "data": {
      "text/plain": [
       "(6, 6, 6)"
      ]
     },
     "execution_count": 2,
     "metadata": {},
     "output_type": "execute_result"
    }
   ],
   "source": [
    "nq = model.nq # dimensionality of configuration  \n",
    "nv = model.nv # dimensionality of generilized velocities\n",
    "nu = model.nu # dimensionality  of control inputs\n",
    "q_min, q_max = model.q_min, model.q_max # minimal and maximal limits on joint pos\n",
    "nq, nv, nu"
   ]
  },
  {
   "cell_type": "code",
   "execution_count": 3,
   "metadata": {},
   "outputs": [],
   "source": [
    "nb = len(model._model._kindyn.joint_names()) - 1"
   ]
  },
  {
   "cell_type": "code",
   "execution_count": 4,
   "metadata": {},
   "outputs": [],
   "source": [
    "parameters = cs.SX.sym('p', nb*10)"
   ]
  },
  {
   "cell_type": "code",
   "execution_count": 5,
   "metadata": {},
   "outputs": [],
   "source": [
    "# parameters"
   ]
  },
  {
   "cell_type": "code",
   "execution_count": 6,
   "metadata": {},
   "outputs": [],
   "source": [
    "joint_regressor = model._model._kindyn.jointTorqueRegressor()"
   ]
  },
  {
   "cell_type": "code",
   "execution_count": 7,
   "metadata": {},
   "outputs": [],
   "source": [
    "tau = joint_regressor(model._q, model._v, model._dv) @ parameters"
   ]
  },
  {
   "cell_type": "code",
   "execution_count": 8,
   "metadata": {},
   "outputs": [],
   "source": [
    "# tau"
   ]
  },
  {
   "cell_type": "code",
   "execution_count": 9,
   "metadata": {},
   "outputs": [],
   "source": [
    "tau = joint_regressor(model._q, model._v, model._dv) @ parameters\n",
    "\n",
    "inverse_dynamics = cs.Function(\"inverse_dynamics\",\n",
    "                                [model._q, model._v, model._dv, parameters],\n",
    "                                [tau],\n",
    "                                [\"q\", \"v\", \"dv\", \"parameters\"],\n",
    "                                [\"tau\"],)"
   ]
  },
  {
   "cell_type": "code",
   "execution_count": 10,
   "metadata": {},
   "outputs": [],
   "source": [
    "import numpy as np"
   ]
  },
  {
   "cell_type": "code",
   "execution_count": 11,
   "metadata": {},
   "outputs": [],
   "source": [
    "inertia = cs.SX.zeros(nv, nv)\n",
    "unit_vectors = np.eye(nv)\n",
    "for i in range(nv):\n",
    "    unit_vector = unit_vectors[i,:]\n",
    "    inertia[:, i] = joint_regressor(model._q, np.zeros(nv), unit_vector) @ parameters\n",
    "    \n",
    "inertia_matrix  = cs.Function(\"inertia_matrix\",\n",
    "                                [model._q, parameters],\n",
    "                                [inertia],\n",
    "                                [\"q\", \"parameters\"],\n",
    "                                [\"inertia_matrix\"],)"
   ]
  },
  {
   "cell_type": "code",
   "execution_count": 12,
   "metadata": {},
   "outputs": [
    {
     "data": {
      "text/plain": [
       "Function(inertia_matrix:(q[6],parameters[60])->(inertia_matrix[6x6]) SXFunction)"
      ]
     },
     "execution_count": 12,
     "metadata": {},
     "output_type": "execute_result"
    }
   ],
   "source": [
    "inertia_matrix"
   ]
  },
  {
   "cell_type": "code",
   "execution_count": 13,
   "metadata": {},
   "outputs": [],
   "source": [
    "bias = joint_regressor(model._q, model._v, np.zeros(nv)) @ parameters\n",
    "\n",
    "bias_term = cs.Function(\"bias_force\",\n",
    "                                [model._q, model._v, parameters],\n",
    "                                [bias],\n",
    "                                [\"q\", \"v\", \"parameters\"],\n",
    "                                [\"bias_force\"],)"
   ]
  },
  {
   "cell_type": "code",
   "execution_count": 14,
   "metadata": {},
   "outputs": [
    {
     "data": {
      "text/plain": [
       "Function(bias_force:(q[6],v[6],parameters[60])->(bias_force[6]) SXFunction)"
      ]
     },
     "execution_count": 14,
     "metadata": {},
     "output_type": "execute_result"
    }
   ],
   "source": [
    "bias_term"
   ]
  },
  {
   "cell_type": "code",
   "execution_count": 15,
   "metadata": {},
   "outputs": [],
   "source": [
    "ddq = cs.solve(inertia, model._u - bias)\n",
    "\n",
    "forward_dynamics = cs.Function(\"forward_dynamics\",\n",
    "                                [model._q, model._v, model._u, parameters],\n",
    "                                [ddq],\n",
    "                                [\"q\", \"v\", \"u\", \"parameters\"],\n",
    "                                [\"ddq\"],)"
   ]
  }
 ],
 "metadata": {
  "kernelspec": {
   "display_name": "base",
   "language": "python",
   "name": "python3"
  },
  "language_info": {
   "codemirror_mode": {
    "name": "ipython",
    "version": 3
   },
   "file_extension": ".py",
   "mimetype": "text/x-python",
   "name": "python",
   "nbconvert_exporter": "python",
   "pygments_lexer": "ipython3",
   "version": "3.10.13"
  },
  "orig_nbformat": 4
 },
 "nbformat": 4,
 "nbformat_minor": 2
}
