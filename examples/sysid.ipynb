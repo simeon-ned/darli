{
 "cells": [
  {
   "cell_type": "code",
   "execution_count": 5,
   "metadata": {},
   "outputs": [],
   "source": [
    "from darli.backend import CasadiBackend, PinocchioBackend\n",
    "from darli.modeling import Robot, Parametric, Functional\n",
    "from darli.modeling.parametric import Functional as PFunctional\n",
    "import numpy as np\n",
    "\n",
    "np.random.seed(0)\n",
    "import casadi as cs\n",
    "from robot_descriptions import z1_description\n",
    "\n",
    "# Initializing the RobotModel class\n",
    "# model = Parametric(CasadiBackend(z1_description.URDF_PATH))\n",
    "model = PFunctional(CasadiBackend(z1_description.URDF_PATH))\n",
    "functional = Functional(CasadiBackend(z1_description.URDF_PATH))"
   ]
  },
  {
   "cell_type": "code",
   "execution_count": 6,
   "metadata": {},
   "outputs": [
    {
     "data": {
      "text/plain": [
       "(array([0.5488135 , 0.71518937, 0.60276338, 0.54488318, 0.4236548 ,\n",
       "        0.64589411]),\n",
       " array([0.43758721, 0.891773  , 0.96366276, 0.38344152, 0.79172504,\n",
       "        0.52889492]))"
      ]
     },
     "execution_count": 6,
     "metadata": {},
     "output_type": "execute_result"
    }
   ],
   "source": [
    "q, v = np.random.rand(2, model.nq)\n",
    "\n",
    "q, v"
   ]
  },
  {
   "cell_type": "code",
   "execution_count": 7,
   "metadata": {},
   "outputs": [],
   "source": [
    "model._parameters = model.backend.base_parameters()"
   ]
  },
  {
   "cell_type": "code",
   "execution_count": 10,
   "metadata": {},
   "outputs": [
    {
     "data": {
      "text/plain": [
       "(DM(0.133365), DM(5.2694))"
      ]
     },
     "execution_count": 10,
     "metadata": {},
     "output_type": "execute_result"
    }
   ],
   "source": [
    "# model.update(q, v, np.zeros(model.nv))\n",
    "\n",
    "model.energy.kinetic(q, v, model.backend.base_parameters()), model.energy.potential(q, model.backend.base_parameters())"
   ]
  },
  {
   "cell_type": "code",
   "execution_count": 11,
   "metadata": {},
   "outputs": [
    {
     "data": {
      "text/plain": [
       "(DM(0.133365), DM(5.2694))"
      ]
     },
     "execution_count": 11,
     "metadata": {},
     "output_type": "execute_result"
    }
   ],
   "source": [
    "functional.energy.kinetic(q, v), functional.energy.potential(q)"
   ]
  },
  {
   "cell_type": "code",
   "execution_count": 19,
   "metadata": {},
   "outputs": [
    {
     "name": "stdout",
     "output_type": "stream",
     "text": [
      "\n",
      "[[0.101317, 0.00132155, 0.00455971, 0.00176692, -0.0060523, -0.000231951], \n",
      " [4.80198, 4.94444, 4.78939, 4.81365, 4.80285, 4.80073], \n",
      " [-1.55021, -1.56603, -1.42734, -1.52668, -1.55701, -1.55478], \n",
      " [0.279767, 0.290993, 0.306092, 0.289833, 0.278003, 0.278048], \n",
      " [0.124498, 0.13274, 0.128305, 0.130553, 0.133169, 0.130578], \n",
      " [0.000572602, 0.000872643, 0.000794972, 0.00085199, 0.000832269, 0.000988439]]\n"
     ]
    }
   ],
   "source": [
    "with np.printoptions(precision=5, suppress=True):\n",
    "    print(model.inertia(q, model.backend.base_parameters()))"
   ]
  },
  {
   "cell_type": "code",
   "execution_count": 20,
   "metadata": {},
   "outputs": [
    {
     "name": "stdout",
     "output_type": "stream",
     "text": [
      "[[ 0.10132  0.00132  0.00456  0.00177 -0.00605 -0.00023]\n",
      " [ 0.00132  0.14378 -0.01127  0.01299  0.00219  0.00007]\n",
      " [ 0.00456 -0.01127  0.12743  0.02809 -0.00224 -0.00001]\n",
      " [ 0.00177  0.01299  0.02809  0.01183  0.       0.00005]\n",
      " [-0.00605  0.00219 -0.00224  0.       0.00262  0.00003]\n",
      " [-0.00023  0.00007 -0.00001  0.00005  0.00003  0.00018]]\n"
     ]
    }
   ],
   "source": [
    "with np.printoptions(precision=5, suppress=True):\n",
    "    print(np.array(functional.inertia(q)))"
   ]
  }
 ],
 "metadata": {
  "kernelspec": {
   "display_name": "venv",
   "language": "python",
   "name": "python3"
  },
  "language_info": {
   "codemirror_mode": {
    "name": "ipython",
    "version": 3
   },
   "file_extension": ".py",
   "mimetype": "text/x-python",
   "name": "python",
   "nbconvert_exporter": "python",
   "pygments_lexer": "ipython3",
   "version": "3.10.12"
  }
 },
 "nbformat": 4,
 "nbformat_minor": 2
}
