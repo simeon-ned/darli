{
 "cells": [
  {
   "cell_type": "code",
   "execution_count": 1,
   "metadata": {},
   "outputs": [],
   "source": [
    "from darli.modeling import Robot\n",
    "from darli.modeling.functional import Functional\n",
    "from darli.backend import PinocchioBackend, CasadiBackend\n",
    "from robot_descriptions import z1_description\n",
    "import numpy as np"
   ]
  },
  {
   "cell_type": "code",
   "execution_count": 2,
   "metadata": {},
   "outputs": [],
   "source": [
    "robot = Robot(PinocchioBackend(z1_description.URDF_PATH))\n",
    "robot.add_body({\"ee\": \"link06\", \"mid\": \"link03\"})\n",
    "\n",
    "funct = Functional(CasadiBackend(z1_description.URDF_PATH))\n",
    "funct.add_body({\"ee\": \"link06\", \"mid\": \"link03\"})"
   ]
  },
  {
   "cell_type": "code",
   "execution_count": 3,
   "metadata": {},
   "outputs": [],
   "source": [
    "def compute_pin(robot: Robot):\n",
    "    q, dq, ddq = np.random.rand(3, robot.nq)\n",
    "\n",
    "    robot.update(q, dq, ddq)\n",
    "\n",
    "    return {\n",
    "        \"com_pos\": robot.com(),\n",
    "        \"kinetic\": robot.energy().kinetic,\n",
    "        \"body1_pos\": robot.body(\"ee\").position,\n",
    "        \"body1_rot\": robot.body(\"ee\").rotation,\n",
    "        \"body2_pos\": robot.body(\"mid\").position,\n",
    "        \"body2_rot\": robot.body(\"mid\").rotation,\n",
    "    }\n",
    "\n",
    "\n",
    "def compute_casadi(funct: Functional):\n",
    "    q, dq, ddq = np.random.rand(3, funct.nq)\n",
    "\n",
    "    return {\n",
    "        \"com_pos\": funct.com.position(q),\n",
    "        \"kinetic\": funct.energy.kinetic(q, dq),\n",
    "        \"body1_pos\": funct.body(\"ee\").position(q),\n",
    "        \"body1_rot\": funct.body(\"ee\").rotation(q),\n",
    "        \"body2_pos\": funct.body(\"mid\").position(q),\n",
    "        \"body2_rot\": funct.body(\"mid\").rotation(q),\n",
    "    }"
   ]
  },
  {
   "cell_type": "code",
   "execution_count": 4,
   "metadata": {},
   "outputs": [
    {
     "name": "stderr",
     "output_type": "stream",
     "text": [
      "/home/leo/github.com/lvjonok/darli/darli/backend/pinocchio.py:254: UserWarning: time variation of CoM jacobian is not implemented for pinocchio backend\n",
      "  warnings.warn(\n"
     ]
    },
    {
     "data": {
      "text/plain": [
       "{'com_pos': CoM(position=array([-0.07578082, -0.06598864,  0.15864259]), velocity=array([-0.01733398, -0.08430195,  0.02152768]), acceleration=array([ 0.06824775, -0.08916896,  0.18832031]), jacobian=array([[ 6.59886414e-02,  4.39509415e-02, -8.46198804e-02,\n",
       "         -1.96452920e-02, -5.43433363e-03, -7.37288085e-05],\n",
       "        [-7.57808236e-02,  3.91617365e-02, -7.53991005e-02,\n",
       "         -1.75046022e-02,  6.37717783e-03,  7.47404924e-05],\n",
       "        [ 0.00000000e+00,  1.00478883e-01, -3.29804655e-02,\n",
       "          4.21915673e-03,  1.07951973e-03,  1.49226790e-05]]), jacobian_dt=None),\n",
       " 'kinetic': 0.067122312101382,\n",
       " 'body1_pos': array([-0.0128,  0.    ,  0.1605]),\n",
       " 'body1_rot': array([[1., 0., 0.],\n",
       "        [0., 1., 0.],\n",
       "        [0., 0., 1.]]),\n",
       " 'body2_pos': array([-0.35  ,  0.    ,  0.1035]),\n",
       " 'body2_rot': array([[1., 0., 0.],\n",
       "        [0., 1., 0.],\n",
       "        [0., 0., 1.]])}"
      ]
     },
     "execution_count": 4,
     "metadata": {},
     "output_type": "execute_result"
    }
   ],
   "source": [
    "compute_pin(robot)"
   ]
  },
  {
   "cell_type": "code",
   "execution_count": 5,
   "metadata": {},
   "outputs": [
    {
     "data": {
      "text/plain": [
       "{'com_pos': DM([-0.11436, -0.069213, 0.0558207]),\n",
       " 'kinetic': DM(0.0296616),\n",
       " 'body1_pos': DM([-0.138069, -0.0654431, -0.0827481]),\n",
       " 'body1_rot': DM(\n",
       " [[-0.178216, -0.161654, 0.970622], \n",
       "  [0.353201, 0.910167, 0.216436], \n",
       "  [-0.918416, 0.381397, -0.10511]]),\n",
       " 'body2_pos': DM([-0.291647, -0.186808, 0.153948]),\n",
       " 'body2_rot': DM(\n",
       " [[0.570989, -0.539369, 0.618913], \n",
       "  [0.365734, 0.84207, 0.396431], \n",
       "  [-0.73499, 0, 0.678078]])}"
      ]
     },
     "execution_count": 5,
     "metadata": {},
     "output_type": "execute_result"
    }
   ],
   "source": [
    "compute_casadi(funct)"
   ]
  },
  {
   "cell_type": "code",
   "execution_count": 6,
   "metadata": {},
   "outputs": [
    {
     "name": "stdout",
     "output_type": "stream",
     "text": [
      "185 µs ± 21.7 µs per loop (mean ± std. dev. of 7 runs, 1,000 loops each)\n"
     ]
    }
   ],
   "source": [
    "%timeit compute_pin(robot)"
   ]
  },
  {
   "cell_type": "code",
   "execution_count": 7,
   "metadata": {},
   "outputs": [
    {
     "name": "stdout",
     "output_type": "stream",
     "text": [
      "273 µs ± 41.8 µs per loop (mean ± std. dev. of 7 runs, 1,000 loops each)\n"
     ]
    }
   ],
   "source": [
    "%timeit compute_casadi(funct)"
   ]
  }
 ],
 "metadata": {
  "kernelspec": {
   "display_name": "venv",
   "language": "python",
   "name": "python3"
  },
  "language_info": {
   "codemirror_mode": {
    "name": "ipython",
    "version": 3
   },
   "file_extension": ".py",
   "mimetype": "text/x-python",
   "name": "python",
   "nbconvert_exporter": "python",
   "pygments_lexer": "ipython3",
   "version": "3.10.12"
  }
 },
 "nbformat": 4,
 "nbformat_minor": 2
}
