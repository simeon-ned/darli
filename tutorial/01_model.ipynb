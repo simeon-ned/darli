{
 "cells": [
  {
   "cell_type": "markdown",
   "metadata": {},
   "source": [
    "## **Models, Bodies and Robots** "
   ]
  },
  {
   "cell_type": "markdown",
   "metadata": {},
   "source": [
    "`RobotModel` is a tiny wrapper around the modeling backend (`casadi_kin_dyn`) that allow you to create symbolical CasAdi model from **urdf** file, then calculate a notions such as **forward and inverse dynamics**, com positions, state space representation etc, one may also calculate **body** specific properties and add **contacts**."
   ]
  },
  {
   "cell_type": "markdown",
   "metadata": {},
   "source": [
    "The typical workflow as follows:\n",
    "* Build the urdf of your robot and create `RobotModel` instance\n",
    "* Add additional bodies and possibly contacts\n",
    "* Calculate the all necessary functions with `~.update_model()` method \n",
    "* Access to casadi functions that are stored within RobotModel and use them either numerically or symbolically in other CasAdi empowered projects.  \n",
    "\n",
    "There are also banch of modules that facilitates work with given type of robots, i.e. manipulators, quadrupeds and bipeds.\n"
   ]
  },
  {
   "cell_type": "markdown",
   "metadata": {},
   "source": [
    "As example let us create the model of z1 manipulator:\n",
    "\n",
    "We will use [robot_descriptions.py](https://github.com/robot-descriptions/robot_descriptions.py) library to simplify the process of urdf retrieval.\n",
    "\n",
    "### *Note*:\n",
    "You have to restart kernel after `robot_descriptions` is installed"
   ]
  },
  {
   "cell_type": "code",
   "execution_count": 1,
   "metadata": {},
   "outputs": [],
   "source": [
    "%%capture\n",
    "!pip3 install robot_descriptions\n",
    "from robot_descriptions import iiwa_description"
   ]
  },
  {
   "cell_type": "code",
   "execution_count": 2,
   "metadata": {},
   "outputs": [],
   "source": [
    "from darli.model import Model\n",
    "from darli.backend import CasadiBackend"
   ]
  },
  {
   "cell_type": "code",
   "execution_count": 3,
   "metadata": {},
   "outputs": [],
   "source": [
    "casadi_model = Model(CasadiBackend(iiwa_description.URDF_PATH))"
   ]
  },
  {
   "cell_type": "markdown",
   "metadata": {},
   "source": [
    "One can retrive basic model info as follows:"
   ]
  },
  {
   "cell_type": "code",
   "execution_count": 4,
   "metadata": {},
   "outputs": [
    {
     "data": {
      "text/plain": [
       "(7, 7, 7)"
      ]
     },
     "execution_count": 4,
     "metadata": {},
     "output_type": "execute_result"
    }
   ],
   "source": [
    "nq = casadi_model.nq  # dimensionality of configuration\n",
    "nv = casadi_model.nv  # dimensionality of generilized velocities\n",
    "nu = casadi_model.nu  # dimensionality  of control inputs\n",
    "q_min, q_max = (\n",
    "    casadi_model.q_min,\n",
    "    casadi_model.q_max,\n",
    ")  # minimal and maximal limits on joint pos\n",
    "nq, nv, nu"
   ]
  },
  {
   "cell_type": "code",
   "execution_count": 5,
   "metadata": {},
   "outputs": [
    {
     "data": {
      "text/plain": [
       "['universe',\n",
       " 'iiwa_joint_1',\n",
       " 'iiwa_joint_2',\n",
       " 'iiwa_joint_3',\n",
       " 'iiwa_joint_4',\n",
       " 'iiwa_joint_5',\n",
       " 'iiwa_joint_6',\n",
       " 'iiwa_joint_7']"
      ]
     },
     "execution_count": 5,
     "metadata": {},
     "output_type": "execute_result"
    }
   ],
   "source": [
    "joint_names = casadi_model.joint_names  # names of the joints\n",
    "joint_names"
   ]
  },
  {
   "cell_type": "markdown",
   "metadata": {},
   "source": [
    "### **Equations of Motion and Dynamics**"
   ]
  },
  {
   "cell_type": "markdown",
   "metadata": {},
   "source": [
    "The dynamics of articulated mechanics in robotic systems is usually represented as:\n",
    "$$\n",
    "\\mathbf{M}(\\mathbf{q})\\dot{\\mathbf{v}} + \\mathbf{C}(\\mathbf{q},\\mathbf{v})\\mathbf{v} + \\mathbf{g}(\\mathbf{q})  = \n",
    "\\mathbf{M}(\\mathbf{q})\\dot{\\mathbf{v}} + \\mathbf{c}(\\mathbf{q},\\mathbf{v}) + \\mathbf{g}(\\mathbf{q}) = \\mathbf{M}(\\mathbf{q})\\dot{\\mathbf{v}} + \\mathbf{h}(\\mathbf{q},\\mathbf{v}) = \\mathbf{Q}\n",
    "$$\n",
    "\n",
    "where:\n",
    "* $\\mathbf{Q} \\in \\mathbb{R}^{nv}$ - generalized forces corresponding to generilized coordinates\n",
    "* $\\mathbf{q} \\in \\mathbb{R}^{nq}$ - vector of generilized coordinates\n",
    "* $\\mathbf{v} \\in \\mathbb{R}^{nq}$ - vector of generilized velocities (sometimes $\\mathbf{v} = \\dot{\\mathbf{q}}$, but not in case of $\\mathbf{q}$ containing quaternions)\n",
    "* $\\mathbf{M} \\in \\mathbb{R}^{nv \\times nv}$ - positive definite symmetric inertia matrix \n",
    "* $\\mathbf{c} \\in \\mathbb{R}^{nv}$ - describe centrifugal and Coriolis forces\n",
    "* $\\mathbf{C} \\in \\mathbb{R}^{nv \\times nv}$ - describe 'coefficients' of centrifugal and Coriolis forces\n",
    "* $\\mathbf{g} \\in \\mathbb{R}^{nv}$ - describes effect of gravity and other position depending forces\n",
    "* $\\mathbf{h} \\in \\mathbb{R}^{nv} $ - combined effect of $\\mathbf{g}$ and $\\mathbf{c}$\n",
    "\n",
    "\n",
    "One can get all of the above quantities in symbotics as follows:"
   ]
  },
  {
   "cell_type": "code",
   "execution_count": 6,
   "metadata": {},
   "outputs": [],
   "source": [
    "inertia = casadi_model.inertia\n",
    "gravity_vector = casadi_model.gravity\n",
    "bias_force = casadi_model.bias_force\n",
    "coriolis_matrix = casadi_model.coriolis_matrix\n",
    "coriolis = casadi_model.coriolis"
   ]
  },
  {
   "cell_type": "markdown",
   "metadata": {},
   "source": [
    "Each of the above define the CasAdi functions:"
   ]
  },
  {
   "cell_type": "markdown",
   "metadata": {},
   "source": [
    "And can be evaluated both numerically and Functionalally:"
   ]
  },
  {
   "cell_type": "code",
   "execution_count": 7,
   "metadata": {},
   "outputs": [
    {
     "name": "stdout",
     "output_type": "stream",
     "text": [
      "Functional: @1=sin(q_1), @2=0.00130012, @3=-4.44089e-16, @4=sin(q_5), @5=(@3*@4), @6=8.91018e-35, @7=cos(q_5), @8=(@3*@7), @9=((@2*@5)+((@6*@8)+7.09975e-37)), @10=-0.0061576, @11=((@6*@5)+((@10*@8)+-5.78304e-05)), @12=((@9*@5)+(@11*@8)), @13=((@2*@4)+((@6*@7)+3.15292e-52)), @14=((@6*@4)+((@10*@7)+-2.56819e-20)), @15=((@13*@4)+(@14*@7)), @16=0.0118577, @17=1.61538, @18=-4.93038e-34, @19=0.04076, @20=((@18*@5)+((@19*@8)+-0.00024)), @21=(0.021-@20), @22=0.2155, @23=(@22+((@18*@4)+((@19*@7)+-1.06581e-19))), @24=(0.076-@23), @25=((@18*@7)-(@19*@4)), @26=(0.0001-@25), @27=((0.00449+(@15+@16))+(@17*(sq(@26)+sq(@21)))), @28=(((0.01+(((-0.00485748-@12)-@15)+@16))+(@17*(sq(@21)+sq(@24))))-@27), @29=(((0.0087+(@12+@16))+(@17*(sq(@26)+sq(@24))))-@27), @30=sin(q_4), @31=(@3*@30), @32=cos(q_4), @33=(@3*@32), @34=-3.54987e-37, @35=2.89152e-05, @36=((((@9*@7)-(@11*@4))+((@34*@7)-(@35*@4)))-((@17*@26)*@21)), @37=2, @38=((((@13*@7)-(@14*@4))-((@34*@8)-(@35*@5)))-((@17*@26)*@24)), @39=(@37*@38), @40=((@31*@28)+((@33*@36)+@39)), @41=((((@13*@5)+(@14*@8))-((@35*@7)+(@34*@4)))-((@17*@21)*@24)), @42=(@41+@41), @43=((@31*@36)+((@33*@29)+@42)), @44=((@40*@31)+(@43*@33)), @45=-1.22465e-16, @46=((@45*@32)+@30), @47=(@32-(@45*@30)), @48=4.44089e-16, @49=((@46*@28)+((@47*@36)+(@48*@39))), @50=((@46*@36)+((@47*@29)+(@48*@42))), @51=((@49*@46)+(@50*@47)), @52=2.275, @53=0.1845, @54=0.461538, @55=(5.38462e-05+(@54*@25)), @56=(0.0113077+(@54*@20)), @57=(0.0409231+(@54*@23)), @58=(@53+((@31*@55)+((@33*@56)+@57))), @59=(0.067-@58), @60=((@46*@55)+((@47*@56)+(@48*@57))), @61=(0.034-@60), @62=-1.22465e-16, @63=((@62*@30)-@32), @64=(@30+(@62*@32)), @65=-6.16298e-32, @66=((@63*@55)+((@64*@56)+(@65*@57))), @67=((0.006+(@51+@27))+(@52*(sq(@66)+sq(@59)))), @68=(((0.017+((((@28+@29)-@44)-@51)+@27))+(@52*(sq(@59)+sq(@61))))-@67), @69=(((0.0164+(@44+@27))+(@52*(sq(@66)+sq(@61))))-@67), @70=sin(q_3), @71=(@3*@70), @72=cos(q_3), @73=(@3*@72), @74=((((@40*@63)+(@43*@64))+((@47*@38)-(@46*@41)))+((@52*@66)*@59)), @75=((((@49*@63)+(@50*@64))-((@33*@38)-(@31*@41)))+((@52*@66)*@61)), @76=(@37*@75), @77=((@71*@68)+((@73*@74)-@76)), @78=((((@49*@31)+(@50*@33))+((@64*@38)-(@63*@41)))-((@52*@59)*@61)), @79=(@78+@78), @80=((@71*@74)+((@73*@69)-@79)), @81=((@77*@71)+(@80*@73)), @82=((@70*@68)+((@72*@74)+(@3*@76))), @83=((@70*@74)+((@72*@69)+(@3*@79))), @84=((@82*@70)+(@83*@72)), @85=2.59259, @86=0.65, @87=(@86*@66), @88=(0.02345+(@86*@58)), @89=(0.0119+(@86*@60)), @90=((@71*@87)+((@73*@88)-@89)), @91=(0.03-@90), @92=(@22+((@70*@87)+((@72*@88)+(@3*@89)))), @93=(0.13-@92), @94=((@72*@87)-(@70*@88)), @95=((0.0076+(@84+@67))+(@85*(sq(@94)+sq(@91)))), @96=(((0.025+((((@68+@69)-@81)-@84)+@67))+(@85*(sq(@91)+sq(@93))))-@95), @97=(((0.0238+(@81+@67))+(@85*(sq(@94)+sq(@93))))-@95), @98=1.22465e-16, @99=cos(q_2), @100=sin(q_2), @101=((@98*@99)+(@48*@100)), @102=((@48*@99)-(@98*@100)), @103=((((@77*@72)-(@80*@70))+((@72*@75)-(@70*@78)))+((@85*@94)*@91)), @104=((((@82*@72)-(@83*@70))-((@73*@75)-(@71*@78)))+((@85*@94)*@93)), @105=(@37*@104), @106=((@101*@96)+((@102*@103)+@105)), @107=((((@82*@71)+(@83*@73))-((@72*@78)+(@70*@75)))-((@85*@91)*@93)), @108=(@107+@107), @109=((@101*@103)+((@102*@97)+@108)), @110=((@106*@101)+(@109*@102)), @111=((@100*@96)+((@99*@103)+(@3*@105))), @112=((@100*@103)+((@99*@97)+(@3*@108))), @113=((@111*@100)+(@112*@99)), @114=4.31864, @115=0.2045, @116=0.740741, @117=(@116*@94), @118=(0.00777778+(@116*@90)), @119=(0.0337037+(@116*@92)), @120=(@115+((@101*@117)+((@102*@118)+@119))), @121=(0.059-@120), @122=((@100*@117)+((@99*@118)+(@3*@119))), @123=(0.042-@122), @124=6.16298e-32, @125=((@124*@100)-@99), @126=(@100+(@124*@99)), @127=1.22465e-16, @128=((@125*@117)+((@126*@118)+(@127*@119))), @129=(0.0003-@128), @130=((0.011+(@113+@95))+(@114*(sq(@129)+sq(@121)))), @131=cos(q_1), @132=((((@106*@125)+(@109*@126))+((@99*@104)-(@100*@107)))-((@114*@129)*@121)), @133=((((@111*@125)+(@112*@126))-((@102*@104)-(@101*@107)))-((@114*@129)*@123)), @134=((((@111*@101)+(@112*@102))+((@126*@104)-(@125*@107)))-((@114*@121)*@123)), @135=0.680101, @136=(9.59698e-05+(@135*@128)), @137=(0.0188741+(@135*@120)), @138=(0.0134358+(@135*@122)), @139=((((@124*@1)-@131)*@136)+(((@1+(@124*@131))*@137)+(@127*@138))), @140=((((@98*@131)+(@48*@1))*@136)+((((@48*@131)-(@98*@1))*@137)+@138)), @141=0.775088, @142=19.85, @143=(@130+(@142*(sq(@136)+sq(@137)))), @144=((@1*(@133-((@142*@136)*@138)))+((@131*(@134-((@142*@137)*@138)))+(@3*@143))), @145=13.5, @146=(@104-((@145*@117)*@119)), @147=(@107-((@145*@118)*@119)), @148=(@95+(@145*(sq(@117)+sq(@118)))), @149=(-13.5*@118), @150=(@145*@117), @151=(((@100*@146)+((@99*@147)+(@3*@148)))-(@115*((@125*@149)+(@126*@150)))), @152=((@1*(((@125*@146)+((@126*@147)+(@127*@148)))+(@115*((@100*@149)+(@99*@150)))))+((@131*((@101*@146)+((@102*@147)+@148)))+(@3*@151))), @153=10, @154=(@75-((@153*@87)*@89)), @155=(@78-((@153*@88)*@89)), @156=(-10*@88), @157=(@153*@87), @158=((@71*@156)+(@73*@157)), @159=(((@72*@154)-(@70*@155))-(@22*@158)), @160=(@67+(@153*(sq(@87)+sq(@88)))), @161=((@72*@156)-(@70*@157)), @162=(((@71*@154)+((@73*@155)-@160))+(@22*@161)), @163=((@70*@154)+((@72*@155)+(@3*@160))), @164=((@70*@156)+(@72*@157)), @165=(((@100*@159)+((@99*@162)+(@3*@163)))-(@115*((@125*@161)+((@126*@158)+(@127*@164))))), @166=((@1*(((@125*@159)+((@126*@162)+(@127*@163)))+(@115*((@100*@161)+((@99*@158)+(@3*@164))))))+((@131*((@101*@159)+((@102*@162)+@163)))+(@3*@165))), @167=6.5, @168=(@38-((@167*@55)*@57)), @169=(@41-((@167*@56)*@57)), @170=(@27+(@167*(sq(@55)+sq(@56)))), @171=(-6.5*@56), @172=(@167*@55), @173=((@46*@171)+(@47*@172)), @174=(((@63*@168)+((@64*@169)+(@65*@170)))+(@53*@173)), @175=((@31*@168)+((@33*@169)+@170)), @176=((@63*@171)+(@64*@172)), @177=((@31*@171)+(@33*@172)), @178=((@71*@176)+((@73*@177)-@173)), @179=(((@72*@174)-(@70*@175))-(@22*@178)), @180=(((@46*@168)+((@47*@169)+(@48*@170)))-(@53*@176)), @181=((@72*@176)-(@70*@177)), @182=(((@71*@174)+((@73*@175)-@180))+(@22*@181)), @183=((@70*@174)+((@72*@175)+(@3*@180))), @184=((@70*@176)+((@72*@177)+(@3*@173))), @185=(((@100*@179)+((@99*@182)+(@3*@183)))-(@115*((@125*@181)+((@126*@178)+(@127*@184))))), @186=((@1*(((@125*@179)+((@126*@182)+(@127*@183)))+(@115*((@100*@181)+((@99*@178)+(@3*@184))))))+((@131*((@101*@179)+((@102*@182)+@183)))+(@3*@185))), @187=1.3155e-50, @188=-4.32e-07, @189=-0.12228, @190=-1.47911e-33, @191=((@189*@5)+(@190*@8)), @192=(((@187*@7)-(@188*@4))-(@22*@191)), @193=((@189*@7)-(@190*@4)), @194=(((@187*@5)+((@188*@8)+-0.0168418))+(@22*@193)), @195=((@187*@4)+((@188*@7)+-7.47928e-18)), @196=((@189*@4)+(@190*@7)), @197=((@46*@193)+((@47*@191)+(@48*@196))), @198=(((@63*@192)+((@64*@194)+(@65*@195)))+(@53*@197)), @199=((@31*@192)+((@33*@194)+@195)), @200=((@63*@193)+((@64*@191)+(@65*@196))), @201=((@31*@193)+((@33*@191)+@196)), @202=((@71*@200)+((@73*@201)-@197)), @203=(((@72*@198)-(@70*@199))-(@22*@202)), @204=(((@46*@192)+((@47*@194)+(@48*@195)))-(@53*@200)), @205=((@72*@200)-(@70*@201)), @206=(((@71*@198)+((@73*@199)-@204))+(@22*@205)), @207=((@70*@198)+((@72*@199)+(@3*@204))), @208=((@70*@200)+((@72*@201)+(@3*@197))), @209=(((@100*@203)+((@99*@206)+(@3*@207)))-(@115*((@125*@205)+((@126*@202)+(@127*@208))))), @210=((@1*(((@125*@203)+((@126*@206)+(@127*@207)))+(@115*((@100*@205)+((@99*@202)+(@3*@208))))))+((@131*((@101*@203)+((@102*@206)+@207)))+(@3*@209))), @211=-6.16298e-35, @212=0.001, @213=((@211*@7)-(@212*@4)), @214=((@211*@5)+((@212*@8)+-4.44089e-19)), @215=((@211*@4)+((@212*@7)+-1.97215e-34)), @216=((@63*@213)+((@64*@214)+(@65*@215))), @217=((@31*@213)+((@33*@214)+@215)), @218=((@72*@216)-(@70*@217)), @219=((@46*@213)+((@47*@214)+(@48*@215))), @220=((@71*@216)+((@73*@217)-@219)), @221=((@70*@216)+((@72*@217)+(@3*@219))), @222=((@100*@218)+((@99*@220)+(@3*@221))), @223=((@1*((@125*@218)+((@126*@220)+(@127*@221))))+((@131*((@101*@218)+((@102*@220)+@221)))+(@3*@222))), @224=4.44089e-19, \n",
      "[[(((0.0123+(((((@1*(((0.0305+((((@96+@97)-@110)-@113)+@95))+(@114*(sq(@121)+sq(@123))))-@130))+((@131*@132)+(@3*(@37*@133))))*@1)+(((@1*@132)+((@131*(((0.0304+(@110+@95))+(@114*(sq(@129)+sq(@123))))-@130))+(@3*(@134+@134))))*@131))+@130))+(4.46451*(sq(@139)+sq((-0.03-@140)))))+(25.61*(sq((@141*@139))+sq((-0.00674736+(@141*@140)))))), @144, @152, @166, @186, @210, @223], \n",
      " [@144, @143, @151, @165, @185, @209, @222], \n",
      " [@152, @151, @148, @163, @183, @207, @221], \n",
      " [@166, @165, @163, @160, @180, @204, @219], \n",
      " [@186, @185, @183, @180, @170, @195, @215], \n",
      " [@210, @209, @207, @204, @195, 0.0168418, @224], \n",
      " [@223, @222, @221, @219, @215, @224, @212]]\n",
      "Numerical: \n",
      "[[4.71544, 0.145632, 0.400306, -1.47688, -0.00973283, 0.0509141, -0.000162311], \n",
      " [0.145632, 4.91291, -0.556704, -1.01994, 0.0585646, 0.102397, 0.000243068], \n",
      " [0.400306, -0.556704, 0.170227, -0.0148683, 0.00180108, -0.014042, 0.000970009], \n",
      " [-1.47688, -1.01994, -0.0148683, 0.860269, -0.00767372, -0.0543754, -0.000135699], \n",
      " [-0.00973283, 0.0585646, 0.00180108, -0.00767372, 0.0125493, -4.17602e-07, 0.000966671], \n",
      " [0.0509141, 0.102397, -0.014042, -0.0543754, -4.17602e-07, 0.0168418, 4.44089e-19], \n",
      " [-0.000162311, 0.000243068, 0.000970009, -0.000135699, 0.000966671, 4.44089e-19, 0.001]]\n"
     ]
    }
   ],
   "source": [
    "inertia = casadi_model.inertia\n",
    "import numpy as np\n",
    "import casadi as cs\n",
    "\n",
    "# Functionalal computation\n",
    "print(\"Functional:\", inertia(cs.SX.sym(\"q\", nq)))\n",
    "# Numerical computation\n",
    "print(\"Numerical:\", inertia(np.random.randn(nq)))"
   ]
  },
  {
   "cell_type": "code",
   "execution_count": 21,
   "metadata": {},
   "outputs": [],
   "source": [
    "casadi_model.add_body({\"ee\": \"iiwa_link_ee\"})"
   ]
  },
  {
   "cell_type": "code",
   "execution_count": 26,
   "metadata": {},
   "outputs": [
    {
     "data": {
      "text/plain": [
       "SX(@1=0.2045, @2=sin(q_0), @3=sin(q_1), @4=6.16298e-32, @5=cos(q_1), @6=(@3+(@4*@5)), @7=cos(q_0), @8=4.44089e-16, @9=1.22465e-16, @10=((@8*@5)-(@9*@3)), @11=((@2*@6)+(@7*@10)), @12=0.2155, @13=1.22465e-16, @14=((@4*@3)-@5), @15=((@9*@5)+(@8*@3)), @16=((@2*@14)+(@7*@15)), @17=-4.44089e-16, @18=((@13*@2)+@7), @19=((@13*@16)+(@11+(@17*@18))), @20=0.1845, @21=sin(q_2), @22=cos(q_2), @23=(@21+(@4*@22)), @24=((@8*@22)-(@9*@21)), @25=((@16*@23)+((@11*@24)+(@18*@22))), @26=cos(q_3), @27=(@17*@26), @28=((@4*@21)-@22), @29=((@9*@22)+(@8*@21)), @30=((@16*@28)+((@11*@29)+(@18*@21))), @31=sin(q_3), @32=(((@25*@27)+(@19*@26))-(@30*@31)), @33=-6.16298e-32, @34=(@17*@31), @35=((@30*@26)+((@25*@34)+(@19*@31))), @36=((@17*@19)-@25), @37=((@33*@35)+(@32+(@8*@36))), @38=0.081, @39=sin(q_4), @40=-1.22465e-16, @41=cos(q_4), @42=(@39+(@40*@41)), @43=(@17*@41), @44=-1.22465e-16, @45=(@41-(@44*@39)), @46=((@35*@42)+((@32*@43)+(@36*@45))), @47=cos(q_5), @48=(@17*@47), @49=((@40*@39)-@41), @50=(@17*@39), @51=((@44*@41)+@39), @52=((@35*@49)+((@32*@50)+(@36*@51))), @53=sin(q_5), @54=(((@46*@48)+(@37*@47))-(@52*@53)), @55=0.045, @56=(@17*@53), @57=((((((@1*@11)+(@12*@19))+(@20*@32))+(@12*@37))+(@38*@54))+(@55*((@33*((@52*@47)+((@46*@56)+(@37*@53))))+(@54+(@8*((@17*@37)-@46)))))), @58=((@7*@6)-(@2*@10)), @59=((@7*@14)-(@2*@15)), @60=((@13*@7)-@2), @61=((@13*@59)+(@58+(@17*@60))), @62=((@59*@23)+((@58*@24)+(@60*@22))), @63=((@59*@28)+((@58*@29)+(@60*@21))), @64=(((@62*@27)+(@61*@26))-(@63*@31)), @65=((@63*@26)+((@62*@34)+(@61*@31))), @66=((@17*@61)-@62), @67=((@33*@65)+(@64+(@8*@66))), @68=((@65*@42)+((@64*@43)+(@66*@45))), @69=((@65*@49)+((@64*@50)+(@66*@51))), @70=(((@68*@48)+(@67*@47))-(@69*@53)), @71=((((((@1*@58)+(@12*@61))+(@20*@64))+(@12*@67))+(@38*@70))+(@55*((@33*((@69*@47)+((@68*@56)+(@67*@53))))+(@70+(@8*((@17*@67)-@68)))))), @72=0, @73=0.36, @74=sin(q_0), @75=cos(q_0), @76=((@13*@74)+@75), @77=1.97215e-31, @78=((@13*@3)+(@5+@77)), @79=((@3*@23)+((@5*@24)+(@17*@22))), @80=((@3*@28)+((@5*@29)+(@17*@21))), @81=(((@79*@27)+(@78*@26))-(@80*@31)), @82=((@80*@26)+((@79*@34)+(@78*@31))), @83=((@17*@78)-@79), @84=((@33*@82)+(@81+(@8*@83))), @85=((@82*@42)+((@81*@43)+(@83*@45))), @86=((@82*@49)+((@81*@50)+(@83*@51))), @87=(((@85*@48)+(@84*@47))-(@86*@53)), @88=((((((@73+(@1*@5))+(@12*@78))+(@20*@81))+(@12*@84))+(@38*@87))+(@55*((@33*((@86*@47)+((@85*@56)+(@84*@53))))+(@87+(@8*((@17*@84)-@85)))))), @89=((@13*@75)-@74), @90=sin(q_1), @91=cos(q_1), @92=(@90+(@4*@91)), @93=((@8*@91)-(@9*@90)), @94=((@74*@92)+(@75*@93)), @95=(@1*@94), @96=((@13*@90)+(@91+@77)), @97=(@73+(@1*@91)), @98=((@4*@90)-@91), @99=((@9*@91)+(@8*@90)), @100=((@74*@98)+(@75*@99)), @101=((@13*@100)+(@94+(@17*@76))), @102=((@75*@98)-(@74*@99)), @103=((@75*@92)-(@74*@93)), @104=((@13*@102)+(@103+(@17*@89))), @105=(@1*@103), @106=(@95+(@12*@101)), @107=sin(q_2), @108=cos(q_2), @109=(@107+(@4*@108)), @110=((@8*@108)-(@9*@107)), @111=((@90*@109)+((@91*@110)+(@17*@108))), @112=((@17*@96)-@111), @113=(@97+(@12*@96)), @114=((@100*@109)+((@94*@110)+(@76*@108))), @115=((@17*@101)-@114), @116=((@102*@109)+((@103*@110)+(@89*@108))), @117=((@17*@104)-@116), @118=(@105+(@12*@104)), @119=cos(q_3), @120=(@17*@119), @121=((@4*@107)-@108), @122=((@9*@108)+(@8*@107)), @123=((@100*@121)+((@94*@122)+(@76*@107))), @124=sin(q_3), @125=(((@114*@120)+(@101*@119))-(@123*@124)), @126=(@106+(@20*@125)), @127=((@90*@121)+((@91*@122)+(@17*@107))), @128=(@17*@124), @129=((@127*@119)+((@111*@128)+(@96*@124))), @130=(((@111*@120)+(@96*@119))-(@127*@124)), @131=((@33*@129)+(@130+(@8*@112))), @132=(@113+(@20*@130)), @133=((@123*@119)+((@114*@128)+(@101*@124))), @134=((@33*@133)+(@125+(@8*@115))), @135=((@102*@121)+((@103*@122)+(@89*@107))), @136=((@135*@119)+((@116*@128)+(@104*@124))), @137=(((@116*@120)+(@104*@119))-(@135*@124)), @138=((@33*@136)+(@137+(@8*@117))), @139=(@118+(@20*@137)), @140=(@126+(@12*@134)), @141=sin(q_4), @142=cos(q_4), @143=(@141+(@40*@142)), @144=(@17*@142), @145=(@142-(@44*@141)), @146=((@129*@143)+((@130*@144)+(@112*@145))), @147=((@17*@131)-@146), @148=(@132+(@12*@131)), @149=((@133*@143)+((@125*@144)+(@115*@145))), @150=((@17*@134)-@149), @151=((@136*@143)+((@137*@144)+(@117*@145))), @152=((@17*@138)-@151), @153=(@139+(@12*@138)), @154=cos(q_5), @155=(@17*@154), @156=((@40*@141)-@142), @157=(@17*@141), @158=((@44*@142)+@141), @159=((@133*@156)+((@125*@157)+(@115*@158))), @160=sin(q_5), @161=(((@149*@155)+(@134*@154))-(@159*@160)), @162=(@140+(@38*@161)), @163=((@129*@156)+((@130*@157)+(@112*@158))), @164=(@17*@160), @165=(((@146*@155)+(@131*@154))-(@163*@160)), @166=((@33*((@163*@154)+((@146*@164)+(@131*@160))))+(@165+(@8*@147))), @167=(@148+(@38*@165)), @168=((@33*((@159*@154)+((@149*@164)+(@134*@160))))+(@161+(@8*@150))), @169=((@136*@156)+((@137*@157)+(@117*@158))), @170=(((@151*@155)+(@138*@154))-(@169*@160)), @171=((@33*((@169*@154)+((@151*@164)+(@138*@160))))+(@170+(@8*@152))), @172=(@153+(@38*@170)), \n",
       "[[(-@57), (-((@73*@76)+((@17*@57)-(@88*@76)))), (((@95*@96)-(@97*@101))-((@57*@96)-(@88*@101))), (((@106*@112)-(@113*@115))-((@57*@112)-(@88*@115))), (((@126*@131)-(@132*@134))-((@57*@131)-(@88*@134))), (((@140*@147)-(@148*@150))-((@57*@147)-(@88*@150))), (((@162*@166)-(@167*@168))-((@57*@166)-(@88*@168)))], \n",
       " [@71, ((@73*@89)-((@88*@89)-(@17*@71))), (((@97*@104)-(@105*@96))-((@88*@104)-(@71*@96))), (((@113*@117)-(@118*@112))-((@88*@117)-(@71*@112))), (((@132*@138)-(@139*@131))-((@88*@138)-(@71*@131))), (((@148*@152)-(@153*@147))-((@88*@152)-(@71*@147))), (((@167*@171)-(@172*@166))-((@88*@171)-(@71*@166)))], \n",
       " [@72, (-((@71*@76)-(@57*@89))), (((@105*@101)-(@95*@104))-((@71*@101)-(@57*@104))), (((@118*@115)-(@106*@117))-((@71*@115)-(@57*@117))), (((@139*@134)-(@126*@138))-((@71*@134)-(@57*@138))), (((@153*@150)-(@140*@152))-((@71*@150)-(@57*@152))), (((@172*@168)-(@162*@171))-((@71*@168)-(@57*@171)))], \n",
       " [@72, @89, @104, @117, @138, @152, @171], \n",
       " [@72, @76, @101, @115, @134, @150, @168], \n",
       " [1, @17, @96, @112, @131, @147, @166]])"
      ]
     },
     "execution_count": 26,
     "metadata": {},
     "output_type": "execute_result"
    }
   ],
   "source": [
    "casadi_model.body(\"ee\").jacobian.world_aligned"
   ]
  },
  {
   "cell_type": "markdown",
   "metadata": {},
   "source": [
    "Note that above are calculated not via Lagrange formalism but by using efficient recursive Newton-Euler algorithm (for `bias_force`), while inertia matrix is evaluated by composite rigid body algorithm (CRBA)"
   ]
  },
  {
   "cell_type": "markdown",
   "metadata": {},
   "source": [
    "There are some notions apart from dynamical coefficients that may be useful as well, such as com kinematics and jacobians, and energy:"
   ]
  },
  {
   "cell_type": "code",
   "execution_count": 10,
   "metadata": {},
   "outputs": [
    {
     "data": {
      "text/plain": [
       "<bound method Model.energy of <darli.model._model.Model object at 0x7fe5ac5ad300>>"
      ]
     },
     "execution_count": 10,
     "metadata": {},
     "output_type": "execute_result"
    }
   ],
   "source": [
    "casadi_model.energy"
   ]
  },
  {
   "cell_type": "code",
   "execution_count": null,
   "metadata": {},
   "outputs": [],
   "source": [
    "com_position = model.com.position\n",
    "com_velocity = model.com.velocity\n",
    "com_jacobian = model.com.jacobian\n",
    "com_jacobian_dt = model.com.jacobian_dt\n",
    "potential_energy = model.energy.potential\n",
    "kinetic_energy = model.energy.kinetic\n",
    "lagrangian = model.lagrangian\n",
    "\n",
    "# TODO\n",
    "# momentum"
   ]
  },
  {
   "cell_type": "code",
   "execution_count": null,
   "metadata": {},
   "outputs": [
    {
     "data": {
      "text/plain": [
       "Function(com_jacobian_dt:(q[6],v[6])->(com_jacobian_dt[3x6]) SXFunction)"
      ]
     },
     "execution_count": 12,
     "metadata": {},
     "output_type": "execute_result"
    }
   ],
   "source": [
    "com_jacobian_dt"
   ]
  },
  {
   "cell_type": "markdown",
   "metadata": {},
   "source": [
    "#### **Forward and Inverse Dynamics**\n"
   ]
  },
  {
   "cell_type": "markdown",
   "metadata": {},
   "source": [
    "In inverse dynamics we looking for the generilized forces:\n",
    "$$\n",
    "    \\mathbf{Q} = \\mathbf{M}(\\mathbf{q})\\dot{\\mathbf{v}} + \\mathbf{h}(\\mathbf{q},\\mathbf{v}) = \\text{rnea}(\\mathbf{q}, \\mathbf{v}, \\dot{\\mathbf{v}})\n",
    "$$"
   ]
  },
  {
   "cell_type": "code",
   "execution_count": null,
   "metadata": {},
   "outputs": [
    {
     "data": {
      "text/plain": [
       "Function(contact_qforce:(q[6])->(contact_qforce[6]) SXFunction)"
      ]
     },
     "execution_count": 13,
     "metadata": {},
     "output_type": "execute_result"
    }
   ],
   "source": [
    "model.contact_qforce"
   ]
  },
  {
   "cell_type": "code",
   "execution_count": null,
   "metadata": {},
   "outputs": [
    {
     "data": {
      "text/plain": [
       "Function(inverse_dynamics:(q[6],v[6],dv[6])->(tau[6]) SXFunction)"
      ]
     },
     "execution_count": 15,
     "metadata": {},
     "output_type": "execute_result"
    }
   ],
   "source": [
    "model.inverse_dynamics"
   ]
  },
  {
   "cell_type": "markdown",
   "metadata": {},
   "source": [
    "While forward dynamics is basically solving the equations of motion with respect to accelerations $\\dot{\\mathbf{v}}$. However the solution of the above in general case usually yields the complexity of $O(nv^3)$, for this reason a way to go is to use celebrated Featherstone Articulated Body algorithm (ABA), which effectevely exploit sparsity of $\\mathbf{M}$ for the tree structures and produce nearly linear complexity $O(nv)$:\n",
    "\n",
    "\n",
    "$$\n",
    "\\dot{\\mathbf{v}} = \\mathbf{M}^{-1}(\\mathbf{q})(\\mathbf{Q} - \\mathbf{h}(\\mathbf{q},\\mathbf{v})) = \\text{aba}(\\mathbf{q}, \\mathbf{v}, \\mathbf{Q})\n",
    "$$\n",
    "\n",
    "<!-- Articulated body algorithm \n",
    "\n",
    "Feather stone algorithm\n",
    " -->\n",
    "<!-- http://gamma.cs.unc.edu/courses/robotics-f08/LEC/ArticulatedBodyDynamics.pdf -->"
   ]
  },
  {
   "cell_type": "code",
   "execution_count": null,
   "metadata": {},
   "outputs": [
    {
     "data": {
      "text/plain": [
       "Function(contact_qforce:(q[6])->(contact_qforce[6]) SXFunction)"
      ]
     },
     "execution_count": 16,
     "metadata": {},
     "output_type": "execute_result"
    }
   ],
   "source": [
    "model.contact_qforce"
   ]
  },
  {
   "cell_type": "code",
   "execution_count": null,
   "metadata": {},
   "outputs": [
    {
     "data": {
      "text/plain": [
       "Function(forward_dynamics:(q[6],v[6],tau[6])->(dv[6]) SXFunction)"
      ]
     },
     "execution_count": 17,
     "metadata": {},
     "output_type": "execute_result"
    }
   ],
   "source": [
    "model.forward_dynamics"
   ]
  },
  {
   "cell_type": "markdown",
   "metadata": {},
   "source": [
    "#### **Passive Joints and Selector**"
   ]
  },
  {
   "cell_type": "markdown",
   "metadata": {},
   "source": [
    "In practical situations "
   ]
  },
  {
   "cell_type": "markdown",
   "metadata": {},
   "source": [
    "Choosing the passive joints:"
   ]
  },
  {
   "cell_type": "code",
   "execution_count": null,
   "metadata": {},
   "outputs": [
    {
     "name": "stdout",
     "output_type": "stream",
     "text": [
      "Old input dimensions: 6\n",
      "New input dimensions: 8\n"
     ]
    }
   ],
   "source": [
    "import numpy as np\n",
    "\n",
    "print(f\"Old input dimensions: {model.nu}\")\n",
    "S = np.random.randn(model.nv, model.nv + 2)\n",
    "model.update_selector(S)\n",
    "print(f\"New input dimensions: {model.nu}\")"
   ]
  },
  {
   "cell_type": "code",
   "execution_count": null,
   "metadata": {},
   "outputs": [
    {
     "data": {
      "text/plain": [
       "SX([tau_0, tau_1, tau_2, tau_3, tau_4, tau_5, tau_6, tau_7])"
      ]
     },
     "execution_count": 19,
     "metadata": {},
     "output_type": "execute_result"
    }
   ],
   "source": [
    "model.qfrc_u"
   ]
  },
  {
   "cell_type": "code",
   "execution_count": null,
   "metadata": {},
   "outputs": [
    {
     "ename": "NameError",
     "evalue": "name 'model' is not defined",
     "output_type": "error",
     "traceback": [
      "\u001b[0;31m---------------------------------------------------------------------------\u001b[0m",
      "\u001b[0;31mNameError\u001b[0m                                 Traceback (most recent call last)",
      "Cell \u001b[0;32mIn[43], line 1\u001b[0m\n\u001b[0;32m----> 1\u001b[0m \u001b[43mmodel\u001b[49m\u001b[38;5;241m.\u001b[39mforward_dynamics\n",
      "\u001b[0;31mNameError\u001b[0m: name 'model' is not defined"
     ]
    }
   ],
   "source": [
    "model.forward_dynamics"
   ]
  },
  {
   "cell_type": "code",
   "execution_count": null,
   "metadata": {},
   "outputs": [
    {
     "name": "stdout",
     "output_type": "stream",
     "text": [
      "New input dimensions: 3\n",
      "New selector:\n",
      " [[0. 0. 0.]\n",
      " [0. 0. 0.]\n",
      " [0. 0. 0.]\n",
      " [1. 0. 0.]\n",
      " [0. 1. 0.]\n",
      " [0. 0. 1.]]\n"
     ]
    }
   ],
   "source": [
    "model.update_selector(passive_joints=range(3))\n",
    "print(f\"New input dimensions: {model.nu}\")\n",
    "print(f\"New selector:\\n {model.selector}\")"
   ]
  },
  {
   "cell_type": "code",
   "execution_count": null,
   "metadata": {},
   "outputs": [
    {
     "data": {
      "text/plain": [
       "Function(forward_dynamics:(q[6],v[6],tau[3])->(dv[6]) SXFunction)"
      ]
     },
     "execution_count": 22,
     "metadata": {},
     "output_type": "execute_result"
    }
   ],
   "source": [
    "model.forward_dynamics"
   ]
  },
  {
   "cell_type": "markdown",
   "metadata": {},
   "source": [
    "These functionality allows for easy implementation of linearization based analysis and control."
   ]
  },
  {
   "cell_type": "markdown",
   "metadata": {},
   "source": [
    "#### **Bodies and Contacts**"
   ]
  },
  {
   "cell_type": "code",
   "execution_count": null,
   "metadata": {},
   "outputs": [
    {
     "data": {
      "text/plain": [
       "{'link06': <darli.modeling.body.Body at 0x7f6ca40b11e0>}"
      ]
     },
     "execution_count": 27,
     "metadata": {},
     "output_type": "execute_result"
    }
   ],
   "source": [
    "model.add_body([\"link06\"])\n",
    "model.bodies"
   ]
  },
  {
   "cell_type": "code",
   "execution_count": null,
   "metadata": {},
   "outputs": [
    {
     "data": {
      "text/plain": [
       "<darli.modeling.functional.body.FunctionalBody at 0x7f6ca40b0700>"
      ]
     },
     "execution_count": 28,
     "metadata": {},
     "output_type": "execute_result"
    }
   ],
   "source": [
    "model.body(\"link06\")"
   ]
  },
  {
   "cell_type": "markdown",
   "metadata": {},
   "source": [
    "One may also retrieve a hash map of all bodies:"
   ]
  },
  {
   "cell_type": "code",
   "execution_count": null,
   "metadata": {},
   "outputs": [
    {
     "data": {
      "text/plain": [
       "{'link06': <darli.modeling.body.Body at 0x7f6ca40b11e0>}"
      ]
     },
     "execution_count": 29,
     "metadata": {},
     "output_type": "execute_result"
    }
   ],
   "source": [
    "model.bodies"
   ]
  },
  {
   "cell_type": "code",
   "execution_count": null,
   "metadata": {},
   "outputs": [
    {
     "data": {
      "text/plain": [
       "FrameQuantity(local=Function(linear_acceleration_local:(i0[6],i1[6],i2[6])->(o0[3]) SXFunction), world=Function(linear_acceleration_world:(i0[6],i1[6],i2[6])->(o0[3]) SXFunction), world_aligned=Function(linear_acceleration_world_aligned:(i0[6],i1[6],i2[6])->(o0[3]) SXFunction))"
      ]
     },
     "execution_count": 30,
     "metadata": {},
     "output_type": "execute_result"
    }
   ],
   "source": [
    "model.body(\"link06\").linear_acceleration"
   ]
  },
  {
   "cell_type": "code",
   "execution_count": null,
   "metadata": {},
   "outputs": [
    {
     "data": {
      "text/plain": [
       "Function(linear_acceleration_local:(i0[6],i1[6],i2[6])->(o0[3]) SXFunction)"
      ]
     },
     "execution_count": 31,
     "metadata": {},
     "output_type": "execute_result"
    }
   ],
   "source": [
    "model.body(\"link06\").linear_acceleration.local"
   ]
  },
  {
   "cell_type": "code",
   "execution_count": null,
   "metadata": {},
   "outputs": [
    {
     "data": {
      "text/plain": [
       "Function(jacobian_local:(i0[6])->(o0[6x6]) SXFunction)"
      ]
     },
     "execution_count": 32,
     "metadata": {},
     "output_type": "execute_result"
    }
   ],
   "source": [
    "model.body(\"link06\").jacobian.local"
   ]
  },
  {
   "cell_type": "code",
   "execution_count": null,
   "metadata": {},
   "outputs": [
    {
     "data": {
      "text/plain": [
       "Function(angular_acceleration_local:(i0[6],i1[6],i2[6])->(o0[3]) SXFunction)"
      ]
     },
     "execution_count": 33,
     "metadata": {},
     "output_type": "execute_result"
    }
   ],
   "source": [
    "model.body(\"link06\").jacobian.local\n",
    "model.body(\"link06\").jacobian_dt.local\n",
    "model.body(\"link06\").linear_velocity.local\n",
    "model.body(\"link06\").angular_velocity.local\n",
    "model.body(\"link06\").linear_acceleration.local\n",
    "model.body(\"link06\").angular_acceleration.local"
   ]
  },
  {
   "cell_type": "markdown",
   "metadata": {},
   "source": [
    "The body jacobian and velocities can be calculated with respect to `world`, `local` and `world_aligned` frames."
   ]
  },
  {
   "cell_type": "code",
   "execution_count": null,
   "metadata": {},
   "outputs": [
    {
     "data": {
      "text/plain": [
       "Function(jacobian_world:(i0[6])->(o0[6x6]) SXFunction)"
      ]
     },
     "execution_count": 34,
     "metadata": {},
     "output_type": "execute_result"
    }
   ],
   "source": [
    "model.body(\"link06\").jacobian.world"
   ]
  },
  {
   "cell_type": "markdown",
   "metadata": {},
   "source": [
    "Note that body name can be initialized with dictionary that maps given name to one presented in urdf i.e: `{'ee':'link06'}`"
   ]
  },
  {
   "cell_type": "markdown",
   "metadata": {},
   "source": [
    "##### **Contacts**"
   ]
  },
  {
   "cell_type": "code",
   "execution_count": null,
   "metadata": {},
   "outputs": [],
   "source": [
    "model.body(\"link06\").add_contact(\"wrench\")"
   ]
  },
  {
   "cell_type": "code",
   "execution_count": null,
   "metadata": {},
   "outputs": [
    {
     "data": {
      "text/plain": [
       "Function(qforce:(i0[6],i1[6])->(o0[6]) SXFunction)"
      ]
     },
     "execution_count": 36,
     "metadata": {},
     "output_type": "execute_result"
    }
   ],
   "source": [
    "model.body(\"link06\").contact.dim\n",
    "# model.body(\"link06\").contact.contact_frame\n",
    "model.body(\"link06\").contact.ref_frame\n",
    "model.body(\"link06\").contact.qforce"
   ]
  },
  {
   "cell_type": "markdown",
   "metadata": {},
   "source": [
    "Do not forget to rebuild the model:"
   ]
  },
  {
   "cell_type": "code",
   "execution_count": null,
   "metadata": {},
   "outputs": [],
   "source": [
    "# model.update_model()"
   ]
  },
  {
   "cell_type": "markdown",
   "metadata": {},
   "source": [
    "Note how arguments are changed in dynamics related functions, i.e:"
   ]
  },
  {
   "cell_type": "code",
   "execution_count": null,
   "metadata": {},
   "outputs": [
    {
     "data": {
      "text/plain": [
       "Function(forward_dynamics:(q[6],v[6],tau[3],link06[6])->(dv[6]) SXFunction)"
      ]
     },
     "execution_count": 38,
     "metadata": {},
     "output_type": "execute_result"
    }
   ],
   "source": [
    "model.forward_dynamics"
   ]
  },
  {
   "cell_type": "markdown",
   "metadata": {},
   "source": [
    "the state space representation and jacobians are changed as well:"
   ]
  },
  {
   "cell_type": "code",
   "execution_count": null,
   "metadata": {},
   "outputs": [
    {
     "data": {
      "text/plain": [
       "Function(state_derivative:(q[6],v[6],tau[3],link06[6])->(state_derivative[12]) SXFunction)"
      ]
     },
     "execution_count": 39,
     "metadata": {},
     "output_type": "execute_result"
    }
   ],
   "source": [
    "model.state_space.state_derivative"
   ]
  },
  {
   "cell_type": "code",
   "execution_count": null,
   "metadata": {},
   "outputs": [
    {
     "data": {
      "text/plain": [
       "Function(state_jacobian:(q[6],v[6],tau[3],link06[6])->(state_jacobian[12x12,78nz]) SXFunction)"
      ]
     },
     "execution_count": 40,
     "metadata": {},
     "output_type": "execute_result"
    }
   ],
   "source": [
    "model.state_space.state_jacobian"
   ]
  },
  {
   "cell_type": "code",
   "execution_count": null,
   "metadata": {},
   "outputs": [],
   "source": [
    "model.body(\"link06\").contact.add_cone(mu=0.5, X=0.05, Y=0.02)"
   ]
  },
  {
   "cell_type": "code",
   "execution_count": null,
   "metadata": {},
   "outputs": [
    {
     "data": {
      "text/plain": [
       "Function(nonlin_wrench_cone:(force[6])->(constraint[6]) SXFunction)"
      ]
     },
     "execution_count": 42,
     "metadata": {},
     "output_type": "execute_result"
    }
   ],
   "source": [
    "wrench_cone = model.body(\"link06\").contact.cone.full()\n",
    "\n",
    "wrench_cone"
   ]
  },
  {
   "cell_type": "code",
   "execution_count": null,
   "metadata": {},
   "outputs": [
    {
     "data": {
      "text/plain": [
       "DM(\n",
       "[[-1, 0, -0.5, 0, 0, 0], \n",
       " [1, 0, -0.5, 0, 0, 0], \n",
       " [0, -1, -0.5, 0, 0, 0], \n",
       " [0, 1, -0.5, 0, 0, 0], \n",
       " [0, 0, -0.02, -1, 0, 0], \n",
       " [0, 0, -0.02, 1, 0, 0], \n",
       " [0, 0, -0.05, 0, -1, 0], \n",
       " [0, 0, -0.05, 0, 1, 0], \n",
       " [-0.02, -0.05, -0.035, 0.5, 0.5, -1], \n",
       " [-0.02, 0.05, -0.035, 0.5, -0.5, -1], \n",
       " [0.02, -0.05, -0.035, -0.5, 0.5, -1], \n",
       " [0.02, 0.05, -0.035, -0.5, -0.5, -1], \n",
       " [0.02, 0.05, -0.035, 0.5, 0.5, 1], \n",
       " [0.02, -0.05, -0.035, 0.5, -0.5, 1], \n",
       " [-0.02, 0.05, -0.035, -0.5, 0.5, 1], \n",
       " [-0.02, -0.05, -0.035, -0.5, -0.5, 1]])"
      ]
     },
     "execution_count": 43,
     "metadata": {},
     "output_type": "execute_result"
    }
   ],
   "source": [
    "model.body(\"link06\").contact.cone.linear()"
   ]
  },
  {
   "cell_type": "code",
   "execution_count": null,
   "metadata": {},
   "outputs": [
    {
     "data": {
      "text/plain": [
       "dict_keys(['link06', 'ee'])"
      ]
     },
     "execution_count": 44,
     "metadata": {},
     "output_type": "execute_result"
    }
   ],
   "source": [
    "model.add_body({\"ee\": \"link06\"})\n",
    "model.bodies.keys()"
   ]
  },
  {
   "cell_type": "markdown",
   "metadata": {},
   "source": [
    "One can add bodies on the initialization stage based on following syntax:"
   ]
  },
  {
   "cell_type": "code",
   "execution_count": null,
   "metadata": {},
   "outputs": [],
   "source": [
    "# Symbolic(z1_description.URDF_PATH, bodies_names={'shoulder':'link03', 'ee':'link06'})"
   ]
  },
  {
   "cell_type": "markdown",
   "metadata": {},
   "source": [
    "The `bodies_names` arguments can be listof body names present in urdf, however for increased readability we suggest to use the dictionary as shown above."
   ]
  }
 ],
 "metadata": {
  "kernelspec": {
   "display_name": "base",
   "language": "python",
   "name": "python3"
  },
  "language_info": {
   "codemirror_mode": {
    "name": "ipython",
    "version": 3
   },
   "file_extension": ".py",
   "mimetype": "text/x-python",
   "name": "python",
   "nbconvert_exporter": "python",
   "pygments_lexer": "ipython3",
   "version": "3.10.13"
  },
  "orig_nbformat": 4
 },
 "nbformat": 4,
 "nbformat_minor": 2
}
