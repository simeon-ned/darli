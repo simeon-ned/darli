{
 "cells": [
  {
   "cell_type": "code",
   "execution_count": 1,
   "metadata": {},
   "outputs": [],
   "source": [
    "from darli.backend import CasadiBackend, PinocchioBackend\n",
    "from darli.modeling import Robot, Parametric, Functional\n",
    "from darli.modeling.parametric import Functional as PFunctional\n",
    "import numpy as np\n",
    "\n",
    "np.random.seed(0)\n",
    "import casadi as cs\n",
    "from robot_descriptions import z1_description\n",
    "\n",
    "# Initializing the RobotModel class\n",
    "# model = Parametric(CasadiBackend(z1_description.URDF_PATH))\n",
    "model = PFunctional(CasadiBackend(z1_description.URDF_PATH))\n",
    "functional = Functional(CasadiBackend(z1_description.URDF_PATH))"
   ]
  },
  {
   "cell_type": "code",
   "execution_count": 2,
   "metadata": {},
   "outputs": [
    {
     "data": {
      "text/plain": [
       "(array([0.5488135 , 0.71518937, 0.60276338, 0.54488318, 0.4236548 ,\n",
       "        0.64589411]),\n",
       " array([0.43758721, 0.891773  , 0.96366276, 0.38344152, 0.79172504,\n",
       "        0.52889492]))"
      ]
     },
     "execution_count": 2,
     "metadata": {},
     "output_type": "execute_result"
    }
   ],
   "source": [
    "q, v = np.random.rand(2, model.nq)\n",
    "\n",
    "q, v"
   ]
  },
  {
   "cell_type": "code",
   "execution_count": 3,
   "metadata": {},
   "outputs": [],
   "source": [
    "# model._parameters = model.backend.base_parameters()"
   ]
  },
  {
   "cell_type": "markdown",
   "metadata": {},
   "source": [
    "## Energy"
   ]
  },
  {
   "cell_type": "code",
   "execution_count": 4,
   "metadata": {},
   "outputs": [
    {
     "data": {
      "text/plain": [
       "(DM(0.133365), DM(5.2694))"
      ]
     },
     "execution_count": 4,
     "metadata": {},
     "output_type": "execute_result"
    }
   ],
   "source": [
    "# model.update(q, v, np.zeros(model.nv))\n",
    "\n",
    "model.energy.kinetic(q, v, model.backend.base_parameters()), model.energy.potential(q, model.backend.base_parameters())"
   ]
  },
  {
   "cell_type": "code",
   "execution_count": 5,
   "metadata": {},
   "outputs": [
    {
     "data": {
      "text/plain": [
       "(DM(0.133365), DM(5.2694))"
      ]
     },
     "execution_count": 5,
     "metadata": {},
     "output_type": "execute_result"
    }
   ],
   "source": [
    "functional.energy.kinetic(q, v), functional.energy.potential(q)"
   ]
  },
  {
   "cell_type": "markdown",
   "metadata": {},
   "source": [
    "## gravity"
   ]
  },
  {
   "cell_type": "code",
   "execution_count": 6,
   "metadata": {},
   "outputs": [
    {
     "data": {
      "text/plain": [
       "DM([7.45181e-18, 4.80066, -1.55477, 0.278, 0.13055, 0.000804553])"
      ]
     },
     "execution_count": 6,
     "metadata": {},
     "output_type": "execute_result"
    }
   ],
   "source": [
    "model.gravity(q, model.backend.base_parameters())"
   ]
  },
  {
   "cell_type": "code",
   "execution_count": 7,
   "metadata": {},
   "outputs": [
    {
     "data": {
      "text/plain": [
       "DM([0, 4.80066, -1.55477, 0.278, 0.13055, 0.000804553])"
      ]
     },
     "execution_count": 7,
     "metadata": {},
     "output_type": "execute_result"
    }
   ],
   "source": [
    "functional.gravity(q)"
   ]
  },
  {
   "cell_type": "markdown",
   "metadata": {},
   "source": [
    "# Coriolis"
   ]
  },
  {
   "cell_type": "code",
   "execution_count": 8,
   "metadata": {},
   "outputs": [
    {
     "data": {
      "text/plain": [
       "DM([-0.0407087, -0.228641, 0.109978, -0.0233072, -0.00279174, -0.000362477])"
      ]
     },
     "execution_count": 8,
     "metadata": {},
     "output_type": "execute_result"
    }
   ],
   "source": [
    "model.coriolis(q, v, model.backend.base_parameters())"
   ]
  },
  {
   "cell_type": "code",
   "execution_count": 9,
   "metadata": {},
   "outputs": [
    {
     "data": {
      "text/plain": [
       "DM([-0.0407087, -0.228641, 0.109978, -0.0233072, -0.00279174, -0.000362477])"
      ]
     },
     "execution_count": 9,
     "metadata": {},
     "output_type": "execute_result"
    }
   ],
   "source": [
    "functional.coriolis(q, v)"
   ]
  },
  {
   "cell_type": "markdown",
   "metadata": {},
   "source": [
    "## Inertia"
   ]
  },
  {
   "cell_type": "code",
   "execution_count": 10,
   "metadata": {},
   "outputs": [
    {
     "data": {
      "text/plain": [
       "DM(\n",
       "[[0.101317, 0.00132155, 0.00455971, 0.00176692, -0.0060523, -0.000231951], \n",
       " [0.00132155, 0.143785, -0.0112658, 0.0129927, 0.00219007, 6.80896e-05], \n",
       " [0.00455971, -0.0112658, 0.127425, 0.0280916, -0.00224463, -9.58142e-06], \n",
       " [0.00176692, 0.0129927, 0.0280916, 0.0118326, 2.93431e-06, 4.7437e-05], \n",
       " [-0.0060523, 0.00219007, -0.00224463, 2.93431e-06, 0.00261917, 2.77156e-05], \n",
       " [-0.000231951, 6.80896e-05, -9.58142e-06, 4.7437e-05, 2.77156e-05, 0.000183886]])"
      ]
     },
     "execution_count": 10,
     "metadata": {},
     "output_type": "execute_result"
    }
   ],
   "source": [
    "model.inertia(q, model.backend.base_parameters())"
   ]
  },
  {
   "cell_type": "code",
   "execution_count": 11,
   "metadata": {},
   "outputs": [
    {
     "data": {
      "text/plain": [
       "array([[ 1.01317059e-01,  1.32154549e-03,  4.55970917e-03,\n",
       "         1.76692070e-03, -6.05229994e-03, -2.31951305e-04],\n",
       "       [ 1.32154549e-03,  1.43784536e-01, -1.12658284e-02,\n",
       "         1.29926548e-02,  2.19007357e-03,  6.80895936e-05],\n",
       "       [ 4.55970917e-03, -1.12658284e-02,  1.27425086e-01,\n",
       "         2.80916044e-02, -2.24462745e-03, -9.58141885e-06],\n",
       "       [ 1.76692070e-03,  1.29926548e-02,  2.80916044e-02,\n",
       "         1.18325809e-02,  2.93431393e-06,  4.74370283e-05],\n",
       "       [-6.05229994e-03,  2.19007357e-03, -2.24462745e-03,\n",
       "         2.93431393e-06,  2.61917371e-03,  2.77155917e-05],\n",
       "       [-2.31951305e-04,  6.80895936e-05, -9.58141885e-06,\n",
       "         4.74370283e-05,  2.77155917e-05,  1.83886435e-04]])"
      ]
     },
     "execution_count": 11,
     "metadata": {},
     "output_type": "execute_result"
    }
   ],
   "source": [
    "np.array(functional.inertia(q))"
   ]
  },
  {
   "cell_type": "markdown",
   "metadata": {},
   "source": [
    "## Forward dynamics"
   ]
  },
  {
   "cell_type": "code",
   "execution_count": 12,
   "metadata": {},
   "outputs": [
    {
     "data": {
      "text/plain": [
       "DM([-0.927408, -30.2987, 17.7486, -34.2518, -12.6317, 15.3673])"
      ]
     },
     "execution_count": 12,
     "metadata": {},
     "output_type": "execute_result"
    }
   ],
   "source": [
    "model.forward_dynamics(q, v, np.zeros(model.nv), model.backend.base_parameters())"
   ]
  },
  {
   "cell_type": "code",
   "execution_count": 13,
   "metadata": {},
   "outputs": [
    {
     "data": {
      "text/plain": [
       "DM([-0.927408, -30.2987, 17.7486, -34.2518, -12.6317, 15.3673])"
      ]
     },
     "execution_count": 13,
     "metadata": {},
     "output_type": "execute_result"
    }
   ],
   "source": [
    "functional.forward_dynamics(q, v, np.zeros(model.nv))"
   ]
  },
  {
   "cell_type": "markdown",
   "metadata": {},
   "source": [
    "## Inverse dynamics"
   ]
  },
  {
   "cell_type": "code",
   "execution_count": 14,
   "metadata": {},
   "outputs": [
    {
     "data": {
      "text/plain": [
       "DM([0.0407087, 5.0293, -1.66475, 0.301307, 0.133342, 0.00116703])"
      ]
     },
     "execution_count": 14,
     "metadata": {},
     "output_type": "execute_result"
    }
   ],
   "source": [
    "model.inverse_dynamics(q, v, np.zeros(model.nv), model.backend.base_parameters())"
   ]
  },
  {
   "cell_type": "code",
   "execution_count": 15,
   "metadata": {},
   "outputs": [
    {
     "data": {
      "text/plain": [
       "DM([0.0407087, 5.0293, -1.66475, 0.301307, 0.133342, 0.00116703])"
      ]
     },
     "execution_count": 15,
     "metadata": {},
     "output_type": "execute_result"
    }
   ],
   "source": [
    "functional.inverse_dynamics(q, v, np.zeros(model.nv))"
   ]
  }
 ],
 "metadata": {
  "kernelspec": {
   "display_name": "venv",
   "language": "python",
   "name": "python3"
  },
  "language_info": {
   "codemirror_mode": {
    "name": "ipython",
    "version": 3
   },
   "file_extension": ".py",
   "mimetype": "text/x-python",
   "name": "python",
   "nbconvert_exporter": "python",
   "pygments_lexer": "ipython3",
   "version": "3.10.12"
  }
 },
 "nbformat": 4,
 "nbformat_minor": 2
}
