{
 "cells": [
  {
   "cell_type": "markdown",
   "metadata": {},
   "source": [
    "    ☐ State class \n",
    "    ☐ DiscreteStateSpace \n",
    "    ☐ State space representations Regular vs Hamiltonian, State, HamiltonianState "
   ]
  },
  {
   "cell_type": "markdown",
   "metadata": {},
   "source": [
    "## **State Space** "
   ]
  },
  {
   "cell_type": "markdown",
   "metadata": {},
   "source": [
    "Please stay tuned, here we will have the state space representations of the models..."
   ]
  },
  {
   "cell_type": "code",
   "execution_count": null,
   "metadata": {},
   "outputs": [],
   "source": [
    "from darli.backend import CasadiBackend, PinocchioBackend\n",
    "from darli.robots import biped\n",
    "from darli.functional import Functional\n",
    "\n",
    "# from darli.model import Model\n",
    "\n",
    "# from robot_descriptions import z1_description\n",
    "\n",
    "# model = Functional(CasadiBackend(z1_description.URDF_PATH))\n",
    "# model = Robot(CasadiBackend(z1_description.URDF_PATH))"
   ]
  },
  {
   "cell_type": "markdown",
   "metadata": {},
   "source": [
    "## **Prespecified Robots**"
   ]
  },
  {
   "cell_type": "markdown",
   "metadata": {},
   "source": [
    "One can build different robots...."
   ]
  },
  {
   "cell_type": "markdown",
   "metadata": {},
   "source": [
    "As example let us consider the Atlas humanoid robot:\n",
    "\n",
    "Note: robot loaded in example is `fixed` in its pelvis and in real world, you have to create a floating base model to have a full set of generalized coordinates."
   ]
  },
  {
   "cell_type": "code",
   "execution_count": null,
   "metadata": {},
   "outputs": [],
   "source": [
    "from robot_descriptions import atlas_v4_description\n",
    "\n",
    "biped_urdf = atlas_v4_description.URDF_PATH\n",
    "\n",
    "biped_model = biped(\n",
    "    Functional,\n",
    "    CasadiBackend,\n",
    "    biped_urdf,\n",
    "    torso={\"torso\": \"pelvis\"},\n",
    "    foots={\n",
    "        \"left_foot\": \"l_foot\",\n",
    "        \"right_foot\": \"r_foot\",\n",
    "    },\n",
    ")"
   ]
  },
  {
   "cell_type": "code",
   "execution_count": null,
   "metadata": {},
   "outputs": [],
   "source": [
    "import numpy as np"
   ]
  },
  {
   "cell_type": "code",
   "execution_count": null,
   "metadata": {},
   "outputs": [],
   "source": [
    "biped_model.nu"
   ]
  },
  {
   "cell_type": "code",
   "execution_count": null,
   "metadata": {},
   "outputs": [],
   "source": [
    "biped_model.nq"
   ]
  },
  {
   "cell_type": "code",
   "execution_count": null,
   "metadata": {},
   "outputs": [],
   "source": [
    "biped_model.body(\"left_foot\").contact.qforce"
   ]
  },
  {
   "cell_type": "code",
   "execution_count": null,
   "metadata": {},
   "outputs": [],
   "source": [
    "biped_model.contact_qforce"
   ]
  },
  {
   "cell_type": "code",
   "execution_count": null,
   "metadata": {},
   "outputs": [],
   "source": [
    "biped_model.inverse_dynamics"
   ]
  },
  {
   "cell_type": "code",
   "execution_count": null,
   "metadata": {},
   "outputs": [],
   "source": [
    "biped_model.body(\"torso\").position"
   ]
  },
  {
   "cell_type": "code",
   "execution_count": null,
   "metadata": {},
   "outputs": [],
   "source": [
    "biped_model.body(\"torso\").rotation"
   ]
  },
  {
   "cell_type": "code",
   "execution_count": null,
   "metadata": {},
   "outputs": [],
   "source": [
    "biped_model.body(\"torso\").jacobian.world_aligned"
   ]
  },
  {
   "cell_type": "code",
   "execution_count": null,
   "metadata": {},
   "outputs": [],
   "source": [
    "biped_model.body(\"torso\").angular_velocity.local"
   ]
  },
  {
   "cell_type": "code",
   "execution_count": null,
   "metadata": {},
   "outputs": [],
   "source": [
    "biped_model.body(\"torso\").jacobian_dt.world_aligned"
   ]
  },
  {
   "cell_type": "code",
   "execution_count": null,
   "metadata": {},
   "outputs": [],
   "source": [
    "biped_model.body(\"left_foot\").contact.jacobian"
   ]
  },
  {
   "cell_type": "code",
   "execution_count": null,
   "metadata": {},
   "outputs": [],
   "source": [
    "biped_model.body(\"right_foot\").contact.jacobian"
   ]
  },
  {
   "cell_type": "code",
   "execution_count": null,
   "metadata": {},
   "outputs": [],
   "source": [
    "q_next = biped_model.backend.integrate_configuration(dt=0.001)"
   ]
  },
  {
   "cell_type": "code",
   "execution_count": null,
   "metadata": {},
   "outputs": [],
   "source": [
    "import casadi as cs\n",
    "\n",
    "q_next = biped_model.backend.integrate_configuration(dt=cs.SX.sym(\"dt\", 1))"
   ]
  },
  {
   "cell_type": "markdown",
   "metadata": {},
   "source": [
    "#### **State space Representation and Linearization**"
   ]
  },
  {
   "cell_type": "markdown",
   "metadata": {},
   "source": [
    "One can easily transform the mechanical system to the state space form by defining the state $\\mathbf{x} = [\\mathbf{q}, \\mathbf{v}]^T$:\n",
    "\n",
    "\n",
    "$$\n",
    "\\dot{\\mathbf{x}}= \\mathbf{f}(\\mathbf{x}, \\mathbf{u}) = \n",
    "\\begin{bmatrix}\n",
    "\\dot{\\mathbf{x}}_1 \\\\ \n",
    "\\dot{\\mathbf{x}}_2\n",
    "\\end{bmatrix}=\n",
    "\\begin{bmatrix}\n",
    "\\dot{\\mathbf{q}} \\\\ \n",
    "\\dot{\\mathbf{v}}\n",
    "\\end{bmatrix}=\n",
    "\\begin{bmatrix}\n",
    "\\mathbf{W}(\\mathbf{q})\\mathbf{v} \\\\ \n",
    "\\text{aba}(\\mathbf{q}, \\mathbf{v}, \\mathbf{S}\\mathbf{u})\n",
    "\\end{bmatrix}=\n",
    "\\begin{bmatrix}\n",
    "\\mathbf{W}(\\mathbf{x}_1)\\mathbf{x}_2 \\\\\n",
    "\\text{aba}(\\mathbf{x}_1, \\mathbf{x}_2, \\mathbf{S}\\mathbf{u})\n",
    "\\end{bmatrix}\n",
    "$$\n",
    "\n"
   ]
  },
  {
   "cell_type": "code",
   "execution_count": null,
   "metadata": {},
   "outputs": [],
   "source": [
    "model.state_space"
   ]
  },
  {
   "cell_type": "markdown",
   "metadata": {},
   "source": [
    "The above equation can be easily linearized to produce following linear approximation:"
   ]
  },
  {
   "cell_type": "markdown",
   "metadata": {},
   "source": [
    "One can easily find linearization with respect to state:"
   ]
  },
  {
   "cell_type": "code",
   "execution_count": null,
   "metadata": {},
   "outputs": [],
   "source": [
    "model.state_space.state_derivative"
   ]
  },
  {
   "cell_type": "code",
   "execution_count": null,
   "metadata": {},
   "outputs": [],
   "source": [
    "model.state_space.state_jacobian"
   ]
  },
  {
   "cell_type": "markdown",
   "metadata": {},
   "source": [
    "and control:"
   ]
  },
  {
   "cell_type": "code",
   "execution_count": null,
   "metadata": {},
   "outputs": [],
   "source": [
    "model.state_space.input_jacobian"
   ]
  },
  {
   "cell_type": "markdown",
   "metadata": {},
   "source": [
    "These functionality allows for easy implementation of linearization based analysis and control."
   ]
  },
  {
   "cell_type": "markdown",
   "metadata": {},
   "source": [
    "#### **Bodies and Contacts**"
   ]
  },
  {
   "cell_type": "code",
   "execution_count": null,
   "metadata": {},
   "outputs": [],
   "source": [
    "model.add_body([\"link06\"])\n",
    "model.bodies"
   ]
  },
  {
   "cell_type": "code",
   "execution_count": null,
   "metadata": {},
   "outputs": [],
   "source": [
    "model.body(\"link06\")"
   ]
  },
  {
   "cell_type": "markdown",
   "metadata": {},
   "source": [
    "One may also retrieve a hash map of all bodies:"
   ]
  },
  {
   "cell_type": "code",
   "execution_count": null,
   "metadata": {},
   "outputs": [],
   "source": [
    "model.bodies"
   ]
  },
  {
   "cell_type": "code",
   "execution_count": null,
   "metadata": {},
   "outputs": [],
   "source": [
    "model.body(\"link06\").linear_acceleration"
   ]
  },
  {
   "cell_type": "code",
   "execution_count": null,
   "metadata": {},
   "outputs": [],
   "source": [
    "model.body(\"link06\").linear_acceleration.local"
   ]
  },
  {
   "cell_type": "code",
   "execution_count": null,
   "metadata": {},
   "outputs": [],
   "source": [
    "model.body(\"link06\").jacobian.local"
   ]
  },
  {
   "cell_type": "code",
   "execution_count": null,
   "metadata": {},
   "outputs": [],
   "source": [
    "model.body(\"link06\").jacobian.local\n",
    "model.body(\"link06\").jacobian_dt.local\n",
    "model.body(\"link06\").linear_velocity.local\n",
    "model.body(\"link06\").angular_velocity.local\n",
    "model.body(\"link06\").linear_acceleration.local\n",
    "model.body(\"link06\").angular_acceleration.local"
   ]
  },
  {
   "cell_type": "markdown",
   "metadata": {},
   "source": [
    "The body jacobian and velocities can be calculated with respect to `world`, `local` and `world_aligned` frames."
   ]
  },
  {
   "cell_type": "code",
   "execution_count": null,
   "metadata": {},
   "outputs": [],
   "source": [
    "model.body(\"link06\").jacobian.world"
   ]
  },
  {
   "cell_type": "markdown",
   "metadata": {},
   "source": [
    "Note that body name can be initialized with dictionary that maps given name to one presented in urdf i.e: `{'ee':'link06'}`"
   ]
  },
  {
   "cell_type": "markdown",
   "metadata": {},
   "source": [
    "##### **Contacts**"
   ]
  },
  {
   "cell_type": "code",
   "execution_count": null,
   "metadata": {},
   "outputs": [],
   "source": [
    "model.body(\"link06\").add_contact(\"wrench\")"
   ]
  },
  {
   "cell_type": "code",
   "execution_count": null,
   "metadata": {},
   "outputs": [],
   "source": [
    "model.body(\"link06\").contact.dim\n",
    "# model.body(\"link06\").contact.contact_frame\n",
    "model.body(\"link06\").contact.ref_frame\n",
    "model.body(\"link06\").contact.qforce"
   ]
  },
  {
   "cell_type": "markdown",
   "metadata": {},
   "source": [
    "Do not forget to rebuild the model:"
   ]
  },
  {
   "cell_type": "code",
   "execution_count": null,
   "metadata": {},
   "outputs": [],
   "source": [
    "# model.update_model()"
   ]
  },
  {
   "cell_type": "markdown",
   "metadata": {},
   "source": [
    "Note how arguments are changed in dynamics related functions, i.e:"
   ]
  },
  {
   "cell_type": "code",
   "execution_count": null,
   "metadata": {},
   "outputs": [],
   "source": [
    "model.forward_dynamics"
   ]
  },
  {
   "cell_type": "markdown",
   "metadata": {},
   "source": [
    "the state space representation and jacobians are changed as well:"
   ]
  },
  {
   "cell_type": "code",
   "execution_count": null,
   "metadata": {},
   "outputs": [],
   "source": [
    "model.state_space.state_derivative"
   ]
  },
  {
   "cell_type": "code",
   "execution_count": null,
   "metadata": {},
   "outputs": [],
   "source": [
    "model.state_space.state_jacobian"
   ]
  },
  {
   "cell_type": "code",
   "execution_count": null,
   "metadata": {},
   "outputs": [],
   "source": [
    "model.body(\"link06\").contact.add_cone(mu=0.5, X=0.05, Y=0.02)"
   ]
  },
  {
   "cell_type": "code",
   "execution_count": null,
   "metadata": {},
   "outputs": [],
   "source": [
    "wrench_cone = model.body(\"link06\").contact.cone.full()\n",
    "\n",
    "wrench_cone"
   ]
  },
  {
   "cell_type": "code",
   "execution_count": null,
   "metadata": {},
   "outputs": [],
   "source": [
    "model.body(\"link06\").contact.cone.linear()"
   ]
  },
  {
   "cell_type": "code",
   "execution_count": null,
   "metadata": {},
   "outputs": [],
   "source": [
    "model.add_body({\"ee\": \"link06\"})\n",
    "model.bodies.keys()"
   ]
  },
  {
   "cell_type": "markdown",
   "metadata": {},
   "source": [
    "One can add bodies on the initialization stage based on following syntax:"
   ]
  },
  {
   "cell_type": "code",
   "execution_count": null,
   "metadata": {},
   "outputs": [],
   "source": [
    "# Symbolic(z1_description.URDF_PATH, bodies_names={'shoulder':'link03', 'ee':'link06'})"
   ]
  },
  {
   "cell_type": "markdown",
   "metadata": {},
   "source": [
    "The `bodies_names` arguments can be listof body names present in urdf, however for increased readability we suggest to use the dictionary as shown above."
   ]
  }
 ],
 "metadata": {
  "kernelspec": {
   "display_name": "base",
   "language": "python",
   "name": "python3"
  },
  "language_info": {
   "codemirror_mode": {
    "name": "ipython",
    "version": 3
   },
   "file_extension": ".py",
   "mimetype": "text/x-python",
   "name": "python",
   "nbconvert_exporter": "python",
   "pygments_lexer": "ipython3",
   "version": "3.10.13"
  },
  "orig_nbformat": 4
 },
 "nbformat": 4,
 "nbformat_minor": 2
}
