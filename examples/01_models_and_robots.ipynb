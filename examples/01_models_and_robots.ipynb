{
 "cells": [
  {
   "cell_type": "markdown",
   "metadata": {},
   "source": [
    "## **Robot Model** "
   ]
  },
  {
   "cell_type": "markdown",
   "metadata": {},
   "source": [
    "`RobotModel` is a tiny wrapper around the modeling backend (`casadi_kin_dyn`) that allow you to create symbolical CasAdi model from **urdf** file, then calculate a notions such as **forward and inverse dynamics**, com positions, state space representation etc, one may also calculate **body** specific properties and add **contacts**."
   ]
  },
  {
   "cell_type": "markdown",
   "metadata": {},
   "source": [
    "The typical workflow as follows:\n",
    "* Build the urdf of your robot and create `RobotModel` instance\n",
    "* Add additional bodies and possibly contacts\n",
    "* Calculate the all necessary functions with `~.update_model()` method \n",
    "* Access to casadi functions that are stored within RobotModel and use them either numerically or symbolically in other CasAdi empowered projects.  \n",
    "\n",
    "There are also banch of modules that facilitates work with given type of robots, i.e. manipulators, quadrupeds and bipeds.\n"
   ]
  },
  {
   "cell_type": "markdown",
   "metadata": {},
   "source": [
    "As example let us create the model of z1 manipulator:\n",
    "\n",
    "We will use [robot_descriptions.py](https://github.com/robot-descriptions/robot_descriptions.py) library to simplify the process of urdf retrieval.\n",
    "\n",
    "### *Note*:\n",
    "You have to restart kernel after `robot_descriptions` is installed"
   ]
  },
  {
   "cell_type": "code",
   "execution_count": 1,
   "metadata": {},
   "outputs": [],
   "source": [
    "%%capture\n",
    "!pip3 install robot_descriptions"
   ]
  },
  {
   "cell_type": "code",
   "execution_count": 15,
   "metadata": {},
   "outputs": [],
   "source": [
    "from darli.models import RobotModelCasadi as RobotModel\n",
    "from robot_descriptions import z1_description\n",
    "\n",
    "model = RobotModel(z1_description.URDF_PATH)"
   ]
  },
  {
   "cell_type": "markdown",
   "metadata": {},
   "source": [
    "One can retrive basic model info as follows:"
   ]
  },
  {
   "cell_type": "code",
   "execution_count": 16,
   "metadata": {},
   "outputs": [
    {
     "data": {
      "text/plain": [
       "(6, 6, 6)"
      ]
     },
     "execution_count": 16,
     "metadata": {},
     "output_type": "execute_result"
    }
   ],
   "source": [
    "nq = model.nq # dimensionality of configuration  \n",
    "nv = model.nv # dimensionality of generilized velocities\n",
    "nu = model.nu # dimensionality  of control inputs\n",
    "q_min, q_max = model.q_min, model.q_max # minimal and maximal limits on joint pos\n",
    "nq, nv, nu"
   ]
  },
  {
   "cell_type": "code",
   "execution_count": 17,
   "metadata": {},
   "outputs": [
    {
     "data": {
      "text/plain": [
       "['joint1', 'joint2', 'joint3', 'joint4', 'joint5', 'joint6']"
      ]
     },
     "execution_count": 17,
     "metadata": {},
     "output_type": "execute_result"
    }
   ],
   "source": [
    "joint_names = model.joint_names # names of the joints\n",
    "joint_names"
   ]
  },
  {
   "cell_type": "code",
   "execution_count": 18,
   "metadata": {},
   "outputs": [
    {
     "data": {
      "text/plain": [
       "5"
      ]
     },
     "execution_count": 18,
     "metadata": {},
     "output_type": "execute_result"
    }
   ],
   "source": [
    "model.joint_idx(joint_names[nv-1]) # will return id of the joint by name"
   ]
  },
  {
   "cell_type": "markdown",
   "metadata": {},
   "source": [
    "### **Equations of Motion and Dynamics**"
   ]
  },
  {
   "cell_type": "markdown",
   "metadata": {},
   "source": [
    "The dynamics of articulated mechanics in robotic systems is usually represented as:\n",
    "$$\n",
    "\\mathbf{M}(\\mathbf{q})\\dot{\\mathbf{v}} + \\mathbf{C}(\\mathbf{q},\\mathbf{v})\\mathbf{v} + \\mathbf{g}(\\mathbf{q})  = \n",
    "\\mathbf{M}(\\mathbf{q})\\dot{\\mathbf{v}} + \\mathbf{c}(\\mathbf{q},\\mathbf{v}) + \\mathbf{g}(\\mathbf{q}) = \\mathbf{M}(\\mathbf{q})\\dot{\\mathbf{v}} + \\mathbf{h}(\\mathbf{q},\\mathbf{v}) = \\mathbf{Q}\n",
    "$$\n",
    "\n",
    "where:\n",
    "* $\\mathbf{Q} \\in \\mathbb{R}^{nv}$ - generalized forces corresponding to generilized coordinates\n",
    "* $\\mathbf{q} \\in \\mathbb{R}^{nq}$ - vector of generilized coordinates\n",
    "* $\\mathbf{v} \\in \\mathbb{R}^{nq}$ - vector of generilized velocities (sometimes $\\mathbf{v} = \\dot{\\mathbf{q}}$, but not in case of $\\mathbf{q}$ containing quaternions)\n",
    "* $\\mathbf{M} \\in \\mathbb{R}^{nv \\times nv}$ - positive definite symmetric inertia matrix \n",
    "* $\\mathbf{c} \\in \\mathbb{R}^{nv}$ - describe centrifugal and Coriolis forces\n",
    "* $\\mathbf{C} \\in \\mathbb{R}^{nv \\times nv}$ - describe 'coefficients' of centrifugal and Coriolis forces\n",
    "* $\\mathbf{g} \\in \\mathbb{R}^{nv}$ - describes effect of gravity and other position depending forces\n",
    "* $\\mathbf{h} \\in \\mathbb{R}^{nv} $ - combined effect of $\\mathbf{g}$ and $\\mathbf{c}$\n",
    "\n",
    "\n",
    "One can get all of the above quantities in symbotics as follows:"
   ]
  },
  {
   "cell_type": "code",
   "execution_count": 19,
   "metadata": {},
   "outputs": [],
   "source": [
    "inertia = model.inertia\n",
    "gravity_vector = model.gravity\n",
    "bias_force = model.bias_force\n",
    "# coriolis_matrix = model.coriolis_matrix \n",
    "coriolis = model.coriolis"
   ]
  },
  {
   "cell_type": "markdown",
   "metadata": {},
   "source": [
    "Each of the above define the CasAdi functions:"
   ]
  },
  {
   "cell_type": "code",
   "execution_count": 20,
   "metadata": {},
   "outputs": [
    {
     "data": {
      "text/plain": [
       "Function(inertia:(q[6])->(inertia[6x6]) SXFunction)"
      ]
     },
     "execution_count": 20,
     "metadata": {},
     "output_type": "execute_result"
    }
   ],
   "source": [
    "model.inertia"
   ]
  },
  {
   "cell_type": "markdown",
   "metadata": {},
   "source": [
    "And can be evaluated both numerically and symbolically:"
   ]
  },
  {
   "cell_type": "code",
   "execution_count": 21,
   "metadata": {},
   "outputs": [
    {
     "name": "stdout",
     "output_type": "stream",
     "text": [
      "Symbolical: @1=7e-07, @2=sin(q_5), @3=-1.6e-07, @4=cos(q_5), @5=((@1*@2)+(@3*@4)), @6=(@5*@2), @7=0.0001468, @8=0.165803, @9=0.00177591, @10=-0.00017355, @11=-0.00143876, @12=((@10*@4)-(@11*@2)), @13=((0.0005386+(@6+@7))+(@8*(@9+sq(@12)))), @14=0.307927, @15=0.07, @16=0.0491595, @17=cos(q_4), @18=sin(q_4), @19=0.425807, @20=(@19*@12), @21=(@15+((@16*@17)-(@18*@20))), @22=(0.0436668-@21), @23=((@16*@18)+(@17*@20)), @24=(0.00364738-@23), @25=((0.00097912+@13)+(@14*(sq(@22)+sq(@24)))), @26=cos(q_3), @27=2, @28=-1.22e-06, @29=-1.08e-06, @30=-5.4e-07, @31=-0.00698719, @32=((@10*@2)+(@11*@4)), @33=(0.00646316-@32), @34=((-5.689e-05+(((@28*@2)+(@29*@4))-(@30*@4)))-(@31*@33)), @35=(@27*@34), @36=((1.3e-07+((@5*@4)+8e-08))+((@8*@12)*@33)), @37=(@36+@36), @38=(0.0037111+(@19*@32)), @39=(-0.00170192-@38), @40=((-4.091e-05+(((@35*@17)-(@37*@18))-((@17*@34)-(@18*@36))))-((@14*@22)*@39)), @41=sin(q_3), @42=(((@1*@4)-(@3*@2))*@4), @43=(((0.00017605+(((3.718e-05-@42)-@6)+@7))+(@8*(sq(@12)+sq(@33))))-@13), @44=(((0.00055896+(@42+@7))+(@8*(@9+sq(@33))))-@13), @45=((-4e-07+(((@28*@4)-(@29*@2))+(@30*@2)))+(@31*@12)), @46=((@18*@43)+(@17*@45)), @47=((@18*@45)+(@17*@44)), @48=((@46*@18)+(@47*@17)), @49=(((0.00031576+(((@43+@44)-@48)+@13))+(@14*(sq(@24)+sq(@39))))-@25), @50=((@26*(@27*@40))-(@41*@49)), @51=(@50*@41), @52=0.500915, @53=0.218, @54=0.545926, @55=(0.019828+(@54*@21)), @56=(-0.000772798+(@54*@38)), @57=(@53+((@26*@55)+(@41*@56))), @58=(0.106092-@57), @59=(0.00165618+(@54*@23)), @60=(-0.00541815-@59), @61=((0.00886621+(@25-@51))+(@52*(sq(@58)+sq(@60)))), @62=cos(q_2), @63=0.057, @64=(@63+((@26*@56)-(@41*@55))), @65=(0.0347638-@64), @66=((0.00208102+((@50*@26)-@40))-((@52*@58)*@65)), @67=sin(q_2), @68=(((0.00108061+((@49+@51)+@25))+(@52*(sq(@60)+sq(@65))))-@61), @69=((@62*(@27*@66))-(@67*@68)), @70=(@69*@67), @71=0.757689, @72=-0.35, @73=0.596748, @74=(0.0427819+(@73*@57)), @75=(0.0140186+(@73*@64)), @76=(@72+((@62*@74)+(@67*@75))), @77=(-0.110126-@76), @78=(-0.00218488+(@73*@59)), @79=(0.00240029-@78), @80=((0.0246611+(@61-@70))+(@71*(sq(@77)+sq(@79)))), @81=cos(q_1), @82=((@62*@75)-(@67*@74)), @83=(0.00158266-@82), @84=sin(q_1), @85=0.636006, @86=(-0.0400852+(@85*@76)), @87=(0.000576078+(@85*@82)), @88=((@81*@86)+(@84*@87)), @89=(0.000873691+(@85*@78)), @90=0.829376, @91=((5.96e-06+(((@35*@18)+(@37*@17))-((@17*@36)+(@18*@34))))-((@14*@24)*@39)), @92=((-8.13e-05+((@46*@17)-(@47*@18)))-((@14*@22)*@24)), @93=((1.332e-05+(((@26*(@91+@91))-(@41*@92))-(@26*@91)))-((@52*@60)*@65)), @94=((8.669e-05+((@92*@26)+(@41*@91)))-((@52*@58)*@60)), @95=3.27292, @96=((@81*(((2.1e-06+(((@62*(@93+@93))-(@67*@94))-(@62*@93)))-((@71*@79)*@83))-((@95*@89)*@87)))-(@84*(((-0.00062358+((@94*@62)+(@67*@93)))-((@71*@77)*@79))-((@95*@86)*@89)))), @97=2.0816, @98=(@93-((@97*@78)*@75)), @99=(@94-((@97*@74)*@78)), @100=((@81*((@62*@98)-(@67*@99)))-(@84*((@62*@99)+(@67*@98)))), @101=1.24219, @102=(@91-((@101*@59)*@56)), @103=(@92-((@101*@55)*@59)), @104=((@26*@102)-(@41*@103)), @105=((@26*@103)+(@41*@102)), @106=((@81*((@62*@104)-(@67*@105)))-(@84*((@62*@105)+(@67*@104)))), @107=0.678143, @108=(@13+(@107*(0.00241666+sq(@20)))), @109=(-0.678143*@20), @110=0.0333372, @111=((@18*@109)+(@110*@17)), @112=(@108+(@15*@111)), @113=(@34-(@110*@38)), @114=(@36-((@107*@20)*@38)), @115=((@17*@113)-(@18*@114)), @116=(((@26*@112)-(@41*@115))+(@53*@111)), @117=(((@26*@115)+(@41*@112))-(@63*@111)), @118=((@81*(((@62*@116)-(@67*@117))+(@72*@111)))-(@84*((@62*@117)+(@67*@116)))), @119=-9.40201e-09, @120=9.49607e-06, @121=0.0492, @122=0.000415454, @123=-5.0114e-05, @124=((@122*@4)-(@123*@2)), @125=(((@119*@2)+(@120*@4))+(@121*@124)), @126=(@17*@124), @127=(@125+(@15*@126)), @128=0.000183886, @129=((@122*@2)+(@123*@4)), @130=(((@119*@4)-(@120*@2))-(@121*@129)), @131=((@128*@17)-(@18*@130)), @132=(((@26*@127)-(@41*@131))+(@53*@126)), @133=(((@26*@131)+(@41*@127))-(@63*@126)), @134=((@81*(((@62*@132)-(@67*@133))+(@72*@126)))-(@84*((@62*@133)+(@67*@132)))), @135=((0.00092996+(@48+@13))+(@14*(sq(@22)+sq(@39)))), @136=((0.00954238+@135)+(@52*(sq(@58)+sq(@65)))), @137=(@136+(@97*(sq(@74)+sq(@75)))), @138=(@137-(@72*((@62*(-2.0816*@74))-(@67*(@97*@75))))), @139=(@135+(@101*(sq(@55)+sq(@56)))), @140=(@101*@56), @141=(-1.24219*@55), @142=((@26*@140)+(@41*@141)), @143=((@26*@141)-(@41*@140)), @144=(@139+((@63*@142)-(@53*@143))), @145=(@144-(@72*((@62*@143)-(@67*@142)))), @146=((@18*@113)+(@17*@114)), @147=((@17*@109)-(@110*@18)), @148=(@26*@147), @149=(@41*@147), @150=(@146+((@63*@148)+(@53*@149))), @151=(@150+(@72*((@67*@148)+(@62*@149)))), @152=(((@128*@18)+(@17*@130))-(@15*@129)), @153=(@18*@124), @154=((@41*@129)-(@26*@153)), @155=((@41*@153)+(@26*@129)), @156=(@152+((@63*@154)-(@53*@155))), @157=(@156-(@72*((@62*@155)-(@67*@154)))), \n",
      "[[(((0.00083936+(@80-(((@81*(@27*((-5.13e-06+((@69*@62)-@66))-((@71*@77)*@83))))-(@84*(((0.00102138+((@68+@70)+@61))+(@71*(sq(@79)+sq(@83))))-@80)))*@84)))+(0.55844*(sq((2.47e-06-@88))+sq((-0.00025198-@89)))))+(3.94625*(sq((4.21442e-07+(@90*@88)))+sq((-4.29939e-05+(@90*@89)))))), @96, @100, @106, @118, @134], \n",
      " [@96, (((0.0242946+@136)+(@71*(sq(@77)+sq(@83))))+(@95*(sq(@86)+sq(@87)))), @138, @145, @151, @157], \n",
      " [@100, @138, @137, @144, @150, @156], \n",
      " [@106, @145, @144, @139, @146, @152], \n",
      " [@118, @151, @150, @146, @108, @125], \n",
      " [@134, @157, @156, @152, @125, @128]]\n",
      "Numerical: \n",
      "[[0.118438, 0.00167982, 0.00228991, 0.00113714, -0.00599507, -0.000237419], \n",
      " [0.00167982, 0.153814, -0.00594819, 0.0158211, 0.00114277, 9.29153e-05], \n",
      " [0.00228991, -0.00594819, 0.128031, 0.0286991, -0.00119936, 9.56967e-05], \n",
      " [0.00113714, 0.0158211, 0.0286991, 0.0124419, -2.46947e-05, 7.23757e-05], \n",
      " [-0.00599507, 0.00114277, -0.00119936, -2.46947e-05, 0.00261909, 2.55148e-05], \n",
      " [-0.000237419, 9.29153e-05, 9.56967e-05, 7.23757e-05, 2.55148e-05, 0.000183886]]\n"
     ]
    }
   ],
   "source": [
    "import numpy as np \n",
    "import casadi as cs\n",
    "\n",
    "# Symbolical computation\n",
    "print('Symbolical:', inertia(cs.SX.sym('q', nq)))\n",
    "# Numerical computation\n",
    "print('Numerical:', inertia(np.random.randn(nq)))"
   ]
  },
  {
   "cell_type": "markdown",
   "metadata": {},
   "source": [
    "Note that above are calculated not via Lagrange formalism but by using efficient recursive Newton-Euler algorithm (for `bias_force`), while inertia matrix is evaluated by composite rigid body algorithm (CRBA)"
   ]
  },
  {
   "cell_type": "markdown",
   "metadata": {},
   "source": [
    "There are some notions apart from dynamical coefficients that may be useful as well, such as com kinematics and jacobians, and energy:"
   ]
  },
  {
   "cell_type": "code",
   "execution_count": 23,
   "metadata": {},
   "outputs": [],
   "source": [
    "com_position = model.com.position\n",
    "com_velocity = model.com.velocity\n",
    "com_jacobian = model.com.jacobian\n",
    "com_jacobian_dt = model.com.jacobian_dt\n",
    "potential_energy = model.energy.potential\n",
    "kinetic_energy = model.energy.kinetic\n",
    "lagrangian = model.lagrangian\n",
    "\n",
    "# TODO\n",
    "# momentum"
   ]
  },
  {
   "cell_type": "code",
   "execution_count": 24,
   "metadata": {},
   "outputs": [
    {
     "data": {
      "text/plain": [
       "Function(com_jacobian_dt:(q[6],v[6])->(com_jacobian_dt[3x6]) SXFunction)"
      ]
     },
     "execution_count": 24,
     "metadata": {},
     "output_type": "execute_result"
    }
   ],
   "source": [
    "com_jacobian_dt"
   ]
  },
  {
   "cell_type": "markdown",
   "metadata": {},
   "source": [
    "#### **Forward and Inverse Dynamics**\n"
   ]
  },
  {
   "cell_type": "markdown",
   "metadata": {},
   "source": [
    "In inverse dynamics we looking for the generilized forces:\n",
    "$$\n",
    "    \\mathbf{Q} = \\mathbf{M}(\\mathbf{q})\\dot{\\mathbf{v}} + \\mathbf{h}(\\mathbf{q},\\mathbf{v}) = \\text{rnea}(\\mathbf{q}, \\mathbf{v}, \\dot{\\mathbf{v}})\n",
    "$$"
   ]
  },
  {
   "cell_type": "code",
   "execution_count": 25,
   "metadata": {},
   "outputs": [
    {
     "data": {
      "text/plain": [
       "Function(inverse_dynamics:(q[6],v[6],dv[6])->(tau[6]) SXFunction)"
      ]
     },
     "execution_count": 25,
     "metadata": {},
     "output_type": "execute_result"
    }
   ],
   "source": [
    "model.inverse_dynamics"
   ]
  },
  {
   "cell_type": "markdown",
   "metadata": {},
   "source": [
    "While forward dynamics is basically solving the equations of motion with respect to accelerations $\\dot{\\mathbf{v}}$. However the solution of the above in general case usually yields the complexity of $O(nv^3)$, for this reason a way to go is to use celebrated Featherstone Articulated Body algorithm (ABA), which effectevely exploit sparsity of $\\mathbf{M}$ for the tree structures and produce nearly linear complexity $O(nv)$:\n",
    "\n",
    "\n",
    "$$\n",
    "\\dot{\\mathbf{v}} = \\mathbf{M}^{-1}(\\mathbf{q})(\\mathbf{Q} - \\mathbf{h}(\\mathbf{q},\\mathbf{v})) = \\text{aba}(\\mathbf{q}, \\mathbf{v}, \\mathbf{Q})\n",
    "$$\n",
    "\n",
    "<!-- Articulated body algorithm \n",
    "\n",
    "Feather stone algorithm\n",
    " -->\n",
    "<!-- http://gamma.cs.unc.edu/courses/robotics-f08/LEC/ArticulatedBodyDynamics.pdf -->"
   ]
  },
  {
   "cell_type": "code",
   "execution_count": 26,
   "metadata": {},
   "outputs": [
    {
     "data": {
      "text/plain": [
       "Function(forward_dynamics:(q[6],v[6],u[6])->(dv[6]) SXFunction)"
      ]
     },
     "execution_count": 26,
     "metadata": {},
     "output_type": "execute_result"
    }
   ],
   "source": [
    "model.forward_dynamics"
   ]
  },
  {
   "cell_type": "markdown",
   "metadata": {},
   "source": [
    "#### **Passive Joints and Selector**"
   ]
  },
  {
   "cell_type": "markdown",
   "metadata": {},
   "source": [
    "In practical situations "
   ]
  },
  {
   "cell_type": "markdown",
   "metadata": {},
   "source": [
    "Choosing the passive joints:"
   ]
  },
  {
   "cell_type": "code",
   "execution_count": 27,
   "metadata": {},
   "outputs": [
    {
     "name": "stdout",
     "output_type": "stream",
     "text": [
      "Old input dimensions: 6\n"
     ]
    },
    {
     "ename": "AttributeError",
     "evalue": "'RobotModelCasadi' object has no attribute 'set_selector'",
     "output_type": "error",
     "traceback": [
      "\u001b[0;31m---------------------------------------------------------------------------\u001b[0m",
      "\u001b[0;31mAttributeError\u001b[0m                            Traceback (most recent call last)",
      "\u001b[1;32m/home/leo/github.com/lvjonok/darli/examples/01_models_and_robots.ipynb Cell 30\u001b[0m line \u001b[0;36m4\n\u001b[1;32m      <a href='vscode-notebook-cell:/home/leo/github.com/lvjonok/darli/examples/01_models_and_robots.ipynb#X41sZmlsZQ%3D%3D?line=1'>2</a>\u001b[0m \u001b[39mprint\u001b[39m(\u001b[39mf\u001b[39m\u001b[39m'\u001b[39m\u001b[39mOld input dimensions: \u001b[39m\u001b[39m{\u001b[39;00mmodel\u001b[39m.\u001b[39mnu\u001b[39m}\u001b[39;00m\u001b[39m'\u001b[39m)\n\u001b[1;32m      <a href='vscode-notebook-cell:/home/leo/github.com/lvjonok/darli/examples/01_models_and_robots.ipynb#X41sZmlsZQ%3D%3D?line=2'>3</a>\u001b[0m S \u001b[39m=\u001b[39m np\u001b[39m.\u001b[39mrandom\u001b[39m.\u001b[39mrandn(model\u001b[39m.\u001b[39mnv, model\u001b[39m.\u001b[39mnv\u001b[39m+\u001b[39m\u001b[39m2\u001b[39m)\n\u001b[0;32m----> <a href='vscode-notebook-cell:/home/leo/github.com/lvjonok/darli/examples/01_models_and_robots.ipynb#X41sZmlsZQ%3D%3D?line=3'>4</a>\u001b[0m model\u001b[39m.\u001b[39;49mset_selector(S)\n\u001b[1;32m      <a href='vscode-notebook-cell:/home/leo/github.com/lvjonok/darli/examples/01_models_and_robots.ipynb#X41sZmlsZQ%3D%3D?line=4'>5</a>\u001b[0m \u001b[39mprint\u001b[39m(\u001b[39mf\u001b[39m\u001b[39m'\u001b[39m\u001b[39mNew input dimensions: \u001b[39m\u001b[39m{\u001b[39;00mmodel\u001b[39m.\u001b[39mnu\u001b[39m}\u001b[39;00m\u001b[39m'\u001b[39m)\n",
      "\u001b[0;31mAttributeError\u001b[0m: 'RobotModelCasadi' object has no attribute 'set_selector'"
     ]
    }
   ],
   "source": [
    "import numpy as np \n",
    "print(f'Old input dimensions: {model.nu}')\n",
    "S = np.random.randn(model.nv, model.nv+2)\n",
    "model.set_selector(S)\n",
    "print(f'New input dimensions: {model.nu}')"
   ]
  },
  {
   "cell_type": "code",
   "execution_count": 28,
   "metadata": {},
   "outputs": [
    {
     "data": {
      "text/plain": [
       "Function(forward_dynamics:(q[6],v[6],u[6])->(dv[6]) SXFunction)"
      ]
     },
     "execution_count": 28,
     "metadata": {},
     "output_type": "execute_result"
    }
   ],
   "source": [
    "model.forward_dynamics"
   ]
  },
  {
   "cell_type": "code",
   "execution_count": 15,
   "metadata": {},
   "outputs": [
    {
     "name": "stdout",
     "output_type": "stream",
     "text": [
      "New input dimensions: 3\n",
      "New selector:\n",
      " [[0. 0. 0.]\n",
      " [0. 0. 0.]\n",
      " [0. 0. 0.]\n",
      " [1. 0. 0.]\n",
      " [0. 1. 0.]\n",
      " [0. 0. 1.]]\n"
     ]
    }
   ],
   "source": [
    "model.set_selector(passive_joints=range(3))\n",
    "print(f'New input dimensions: {model.nu}')\n",
    "print(f'New selector:\\n {model.selector}')"
   ]
  },
  {
   "cell_type": "code",
   "execution_count": 16,
   "metadata": {},
   "outputs": [
    {
     "data": {
      "text/plain": [
       "Function(forward_dynamics:(q[6],v[6],u[3])->(dv[6]) SXFunction)"
      ]
     },
     "execution_count": 16,
     "metadata": {},
     "output_type": "execute_result"
    }
   ],
   "source": [
    "model.forward_dynamics"
   ]
  },
  {
   "cell_type": "markdown",
   "metadata": {},
   "source": [
    "#### **State space Representation and Linearization**"
   ]
  },
  {
   "cell_type": "markdown",
   "metadata": {},
   "source": [
    "One can easily transform the mechanical system to the state space form by defining the state $\\mathbf{x} = [\\mathbf{q}, \\mathbf{v}]^T$:\n",
    "\n",
    "\n",
    "$$\n",
    "\\dot{\\mathbf{x}}= \\mathbf{f}(\\mathbf{x}, \\mathbf{u}) = \n",
    "\\begin{bmatrix}\n",
    "\\dot{\\mathbf{x}}_1 \\\\ \n",
    "\\dot{\\mathbf{x}}_2\n",
    "\\end{bmatrix}=\n",
    "\\begin{bmatrix}\n",
    "\\dot{\\mathbf{q}} \\\\ \n",
    "\\dot{\\mathbf{v}}\n",
    "\\end{bmatrix}=\n",
    "\\begin{bmatrix}\n",
    "\\mathbf{W}(\\mathbf{q})\\mathbf{v} \\\\ \n",
    "\\text{aba}(\\mathbf{q}, \\mathbf{v}, \\mathbf{S}\\mathbf{u})\n",
    "\\end{bmatrix}=\n",
    "\\begin{bmatrix}\n",
    "\\mathbf{W}(\\mathbf{x}_1)\\mathbf{x}_2 \\\\\n",
    "\\text{aba}(\\mathbf{x}_1, \\mathbf{x}_2, \\mathbf{S}\\mathbf{u})\n",
    "\\end{bmatrix}\n",
    "$$\n",
    "\n"
   ]
  },
  {
   "cell_type": "code",
   "execution_count": 17,
   "metadata": {},
   "outputs": [
    {
     "data": {
      "text/plain": [
       "<darli.models.state_space.StateSpace at 0x7f1df72b47f0>"
      ]
     },
     "execution_count": 17,
     "metadata": {},
     "output_type": "execute_result"
    }
   ],
   "source": [
    "model.state_space"
   ]
  },
  {
   "cell_type": "markdown",
   "metadata": {},
   "source": [
    "The above equation can be easily linearized to produce following linear approximation:"
   ]
  },
  {
   "cell_type": "markdown",
   "metadata": {},
   "source": [
    "One can easily find linearization with respect to state:"
   ]
  },
  {
   "cell_type": "code",
   "execution_count": 18,
   "metadata": {},
   "outputs": [
    {
     "data": {
      "text/plain": [
       "Function(state_jacobian:(x[12],u[3])->(dfdx[12x12,72nz]) SXFunction)"
      ]
     },
     "execution_count": 18,
     "metadata": {},
     "output_type": "execute_result"
    }
   ],
   "source": [
    "model.state_space.state_jacobian"
   ]
  },
  {
   "cell_type": "markdown",
   "metadata": {},
   "source": [
    "and control:"
   ]
  },
  {
   "cell_type": "code",
   "execution_count": 19,
   "metadata": {},
   "outputs": [
    {
     "data": {
      "text/plain": [
       "Function(input_jacobian:(x[12],u[3])->(dfdu[12x3,18nz]) SXFunction)"
      ]
     },
     "execution_count": 19,
     "metadata": {},
     "output_type": "execute_result"
    }
   ],
   "source": [
    "model.state_space.input_jacobian"
   ]
  },
  {
   "cell_type": "markdown",
   "metadata": {},
   "source": [
    "These functionality allows for easy implementation of linearization based analysis and control."
   ]
  },
  {
   "cell_type": "markdown",
   "metadata": {},
   "source": [
    "#### **Bodies and Contacts**"
   ]
  },
  {
   "cell_type": "code",
   "execution_count": 20,
   "metadata": {},
   "outputs": [
    {
     "data": {
      "text/plain": [
       "{'link06'}"
      ]
     },
     "execution_count": 20,
     "metadata": {},
     "output_type": "execute_result"
    }
   ],
   "source": [
    "model.add_bodies(['link06'])\n",
    "model.bodies_names"
   ]
  },
  {
   "cell_type": "code",
   "execution_count": 21,
   "metadata": {},
   "outputs": [
    {
     "data": {
      "text/plain": [
       "<darli.models.body.Body at 0x7f1dcd5e64d0>"
      ]
     },
     "execution_count": 21,
     "metadata": {},
     "output_type": "execute_result"
    }
   ],
   "source": [
    "model.body('link06')"
   ]
  },
  {
   "cell_type": "markdown",
   "metadata": {},
   "source": [
    "One may also retrieve a hash map of all bodies:"
   ]
  },
  {
   "cell_type": "code",
   "execution_count": 22,
   "metadata": {},
   "outputs": [
    {
     "data": {
      "text/plain": [
       "{'link06': <darli.models.body.Body at 0x7f1dcd5e64d0>}"
      ]
     },
     "execution_count": 22,
     "metadata": {},
     "output_type": "execute_result"
    }
   ],
   "source": [
    "model.bodies"
   ]
  },
  {
   "cell_type": "code",
   "execution_count": 23,
   "metadata": {},
   "outputs": [
    {
     "data": {
      "text/plain": [
       "Function(link06_linear_acceleration_local:(q[6],v[6],dv[6])->(linear_acceleration_local[3]) SXFunction)"
      ]
     },
     "execution_count": 23,
     "metadata": {},
     "output_type": "execute_result"
    }
   ],
   "source": [
    "model.body(\"link06\").linear_acceleration().local"
   ]
  },
  {
   "cell_type": "code",
   "execution_count": 24,
   "metadata": {},
   "outputs": [
    {
     "data": {
      "text/plain": [
       "Function(link06_jacobian_local:(q[6])->(jacobian[6x6]) SXFunction)"
      ]
     },
     "execution_count": 24,
     "metadata": {},
     "output_type": "execute_result"
    }
   ],
   "source": [
    "model.body(\"link06\").jacobian().local"
   ]
  },
  {
   "cell_type": "code",
   "execution_count": 25,
   "metadata": {},
   "outputs": [
    {
     "data": {
      "text/plain": [
       "Function(link06_angular_acceleration_local:(q[6],v[6],dv[6])->(angular_acceleration_local[3]) SXFunction)"
      ]
     },
     "execution_count": 25,
     "metadata": {},
     "output_type": "execute_result"
    }
   ],
   "source": [
    "model.body(\"link06\").jacobian().local\n",
    "model.body(\"link06\").jacobian_dt().local\n",
    "model.body(\"link06\").linear_velocity().local\n",
    "model.body(\"link06\").angular_velocity().local\n",
    "model.body(\"link06\").linear_acceleration().local\n",
    "model.body(\"link06\").angular_acceleration().local"
   ]
  },
  {
   "cell_type": "markdown",
   "metadata": {},
   "source": [
    "The body jacobian and velocities can be calculated with respect to `world`, `local` and `world_aligned` frames."
   ]
  },
  {
   "cell_type": "code",
   "execution_count": 26,
   "metadata": {},
   "outputs": [
    {
     "data": {
      "text/plain": [
       "Function(link06_jacobian_world:(q[6])->(jacobian[6x6]) SXFunction)"
      ]
     },
     "execution_count": 26,
     "metadata": {},
     "output_type": "execute_result"
    }
   ],
   "source": [
    "model.body(\"link06\").jacobian().world"
   ]
  },
  {
   "cell_type": "markdown",
   "metadata": {},
   "source": [
    "Note that body name can be initialized with dictionary that maps given name to one presented in urdf i.e: `{'ee':'link06'}`"
   ]
  },
  {
   "cell_type": "markdown",
   "metadata": {},
   "source": [
    "##### **Contacts**"
   ]
  },
  {
   "cell_type": "code",
   "execution_count": 27,
   "metadata": {},
   "outputs": [],
   "source": [
    "model.body(\"link06\").add_contact(\"wrench\", \"world\")"
   ]
  },
  {
   "cell_type": "code",
   "execution_count": 28,
   "metadata": {},
   "outputs": [
    {
     "data": {
      "text/plain": [
       "Function(link06_qforce_world:(q[6],wrench_force[6])->(generilized_force[6]) SXFunction)"
      ]
     },
     "execution_count": 28,
     "metadata": {},
     "output_type": "execute_result"
    }
   ],
   "source": [
    "model.body(\"link06\").contact.dim\n",
    "model.body(\"link06\").contact.contact_frame\n",
    "model.body(\"link06\").contact.reference_frame\n",
    "model.body(\"link06\").contact.contact_qforce"
   ]
  },
  {
   "cell_type": "markdown",
   "metadata": {},
   "source": [
    "Do not forget to rebuild the model:"
   ]
  },
  {
   "cell_type": "code",
   "execution_count": 29,
   "metadata": {},
   "outputs": [],
   "source": [
    "model.update_model()"
   ]
  },
  {
   "cell_type": "markdown",
   "metadata": {},
   "source": [
    "Note how arguments are changed in dynamics related functions, i.e:"
   ]
  },
  {
   "cell_type": "code",
   "execution_count": 30,
   "metadata": {},
   "outputs": [
    {
     "data": {
      "text/plain": [
       "Function(forward_dynamics:(q[6],v[6],u[3],link06[6])->(dv[6]) SXFunction)"
      ]
     },
     "execution_count": 30,
     "metadata": {},
     "output_type": "execute_result"
    }
   ],
   "source": [
    "model.forward_dynamics"
   ]
  },
  {
   "cell_type": "markdown",
   "metadata": {},
   "source": [
    "the state space representation and jacobians are changed as well:"
   ]
  },
  {
   "cell_type": "code",
   "execution_count": 31,
   "metadata": {},
   "outputs": [
    {
     "data": {
      "text/plain": [
       "Function(state_derivative:(x[12],u[3],link06[6])->(dxdt[12]) SXFunction)"
      ]
     },
     "execution_count": 31,
     "metadata": {},
     "output_type": "execute_result"
    }
   ],
   "source": [
    "model.state_space.state_derivative"
   ]
  },
  {
   "cell_type": "code",
   "execution_count": 32,
   "metadata": {},
   "outputs": [
    {
     "data": {
      "text/plain": [
       "Function(state_jacobian:(x[12],u[3],link06[6])->(dfdx[12x12,78nz]) SXFunction)"
      ]
     },
     "execution_count": 32,
     "metadata": {},
     "output_type": "execute_result"
    }
   ],
   "source": [
    "model.state_space.state_jacobian"
   ]
  },
  {
   "cell_type": "code",
   "execution_count": 33,
   "metadata": {},
   "outputs": [],
   "source": [
    "model.body(\"link06\").contact.add_cone(mu=0.5, X=0.05, Y=0.02)"
   ]
  },
  {
   "cell_type": "code",
   "execution_count": 34,
   "metadata": {},
   "outputs": [],
   "source": [
    "wrench_cone = model.body(\"link06\").contact.cone.full()"
   ]
  },
  {
   "cell_type": "code",
   "execution_count": 35,
   "metadata": {},
   "outputs": [
    {
     "data": {
      "text/plain": [
       "DM(\n",
       "[[-1, 0, -0.5, 0, 0, 0], \n",
       " [1, 0, -0.5, 0, 0, 0], \n",
       " [0, -1, -0.5, 0, 0, 0], \n",
       " [0, 1, -0.5, 0, 0, 0], \n",
       " [0, 0, -0.02, -1, 0, 0], \n",
       " [0, 0, -0.02, 1, 0, 0], \n",
       " [0, 0, -0.05, 0, -1, 0], \n",
       " [0, 0, -0.05, 0, 1, 0], \n",
       " [-0.02, -0.05, -0.035, 0.5, 0.5, -1], \n",
       " [-0.02, 0.05, -0.035, 0.5, -0.5, -1], \n",
       " [0.02, -0.05, -0.035, -0.5, 0.5, -1], \n",
       " [0.02, 0.05, -0.035, -0.5, -0.5, -1], \n",
       " [0.02, 0.05, -0.035, 0.5, 0.5, 1], \n",
       " [0.02, -0.05, -0.035, 0.5, -0.5, 1], \n",
       " [-0.02, 0.05, -0.035, -0.5, 0.5, 1], \n",
       " [-0.02, -0.05, -0.035, -0.5, -0.5, 1]])"
      ]
     },
     "execution_count": 35,
     "metadata": {},
     "output_type": "execute_result"
    }
   ],
   "source": [
    "model.body(\"link06\").contact.cone.linearized()"
   ]
  },
  {
   "cell_type": "code",
   "execution_count": 36,
   "metadata": {},
   "outputs": [
    {
     "data": {
      "text/plain": [
       "{'ee': 'link06'}"
      ]
     },
     "execution_count": 36,
     "metadata": {},
     "output_type": "execute_result"
    }
   ],
   "source": [
    "model.add_bodies({\"ee\": \"link06\"})\n",
    "model.bodies_names"
   ]
  },
  {
   "cell_type": "markdown",
   "metadata": {},
   "source": [
    "One can add bodies on the initialization stage based on following syntax:"
   ]
  },
  {
   "cell_type": "code",
   "execution_count": 37,
   "metadata": {},
   "outputs": [
    {
     "data": {
      "text/plain": [
       "<darli.models.robot_model.RobotModel at 0x7f1dccf1c910>"
      ]
     },
     "execution_count": 37,
     "metadata": {},
     "output_type": "execute_result"
    }
   ],
   "source": [
    "RobotModel(z1_description.URDF_PATH, bodies_names={'shoulder':'link03', 'ee':'link06'})"
   ]
  },
  {
   "cell_type": "markdown",
   "metadata": {},
   "source": [
    "The `bodies_names` arguments can be listof body names present in urdf, however for increased readability we suggest to use the dictionary as shown above."
   ]
  },
  {
   "cell_type": "markdown",
   "metadata": {},
   "source": [
    "## **Prespecified Robots**"
   ]
  },
  {
   "cell_type": "markdown",
   "metadata": {},
   "source": [
    "One can build different robots...."
   ]
  },
  {
   "cell_type": "code",
   "execution_count": 38,
   "metadata": {},
   "outputs": [],
   "source": [
    "from darli.robots import Biped, Manipulator, Quadruped"
   ]
  },
  {
   "cell_type": "markdown",
   "metadata": {},
   "source": [
    "As example let us consider the Atlas humanoid robot:\n",
    "\n",
    "Note: robot loaded in example is `fixed` in its pelvis and in real world, you have to create a floating base model to have a full set of generalized coordinates."
   ]
  },
  {
   "cell_type": "code",
   "execution_count": 39,
   "metadata": {},
   "outputs": [],
   "source": [
    "from robot_descriptions import atlas_v4_description\n",
    "\n",
    "biped_urdf = atlas_v4_description.URDF_PATH\n",
    "\n",
    "biped_model = Biped(\n",
    "    biped_urdf,\n",
    "    torso={\"torso\": \"pelvis\"},\n",
    "    foots={\"left_foot\": \"l_foot\", \"right_foot\": \"r_foot\"},\n",
    ")"
   ]
  },
  {
   "cell_type": "code",
   "execution_count": 40,
   "metadata": {},
   "outputs": [
    {
     "data": {
      "text/plain": [
       "Function(forward_dynamics:(q[30],v[30],u[24],left_foot[6],right_foot[6])->(dv[30]) SXFunction)"
      ]
     },
     "execution_count": 40,
     "metadata": {},
     "output_type": "execute_result"
    }
   ],
   "source": [
    "biped_model.forward_dynamics"
   ]
  },
  {
   "cell_type": "code",
   "execution_count": 41,
   "metadata": {},
   "outputs": [
    {
     "data": {
      "text/plain": [
       "Function(inverse_dynamics:(q[30],v[30],dv[30],left_foot[6],right_foot[6])->(tau[30]) SXFunction)"
      ]
     },
     "execution_count": 41,
     "metadata": {},
     "output_type": "execute_result"
    }
   ],
   "source": [
    "biped_model.inverse_dynamics"
   ]
  },
  {
   "cell_type": "code",
   "execution_count": 42,
   "metadata": {},
   "outputs": [
    {
     "data": {
      "text/plain": [
       "Function(position_torso:(q[30])->(position[3]) SXFunction)"
      ]
     },
     "execution_count": 42,
     "metadata": {},
     "output_type": "execute_result"
    }
   ],
   "source": [
    "biped_model.body(\"torso\").position"
   ]
  },
  {
   "cell_type": "code",
   "execution_count": 43,
   "metadata": {},
   "outputs": [
    {
     "data": {
      "text/plain": [
       "Function(rotation_torso:(q[30])->(rotation[3x3]) SXFunction)"
      ]
     },
     "execution_count": 43,
     "metadata": {},
     "output_type": "execute_result"
    }
   ],
   "source": [
    "biped_model.body(\"torso\").rotation"
   ]
  },
  {
   "cell_type": "code",
   "execution_count": 44,
   "metadata": {},
   "outputs": [
    {
     "data": {
      "text/plain": [
       "Function(torso_jacobian_world_aligned:(q[30])->(jacobian[6x30]) SXFunction)"
      ]
     },
     "execution_count": 44,
     "metadata": {},
     "output_type": "execute_result"
    }
   ],
   "source": [
    "biped_model.body(\"torso\").jacobian().world_aligned"
   ]
  },
  {
   "cell_type": "code",
   "execution_count": 45,
   "metadata": {},
   "outputs": [
    {
     "data": {
      "text/plain": [
       "Function(torso_angular_velocity_local:(q[30],v[30])->(angular_velocity_local[3]) SXFunction)"
      ]
     },
     "execution_count": 45,
     "metadata": {},
     "output_type": "execute_result"
    }
   ],
   "source": [
    "biped_model.body(\"torso\").angular_velocity().local"
   ]
  },
  {
   "cell_type": "code",
   "execution_count": 46,
   "metadata": {},
   "outputs": [
    {
     "data": {
      "text/plain": [
       "Function(torso_djacobian_world_aligned:(q[30],v[30])->(djacobian[6x30]) SXFunction)"
      ]
     },
     "execution_count": 46,
     "metadata": {},
     "output_type": "execute_result"
    }
   ],
   "source": [
    "biped_model.body(\"torso\").jacobian_dt().world_aligned"
   ]
  },
  {
   "cell_type": "code",
   "execution_count": 47,
   "metadata": {},
   "outputs": [
    {
     "data": {
      "text/plain": [
       "{'contact_jacobian': DM(\n",
       " [[0, 0, 0, 0, 0, 0, 0, 0, 0, 0, 0, 0, 0, 0, 0, 0, 0, 0, -0.0225, -0, -0.796, -0.422, 0, 0, 0, 0, 0, 0, 0, 0], \n",
       "  [0, 0, 0, 0, 0, 0, 0, 0, 0, 0, 0, 0, 0, 0, 0, 0, 0, 0, 0, 0.862, 0, 0, 0, 0, 0, 0, 0, 0, 0, 0], \n",
       "  [0, 0, 0, 0, 0, 0, 0, 0, 0, 0, 0, 0, 0, 0, 0, 0, 0, 0, 0, 0.0225, 0.05, 0, 0, 0, 0, 0, 0, 0, 0, 0], \n",
       "  [0, 0, 0, 0, 0, 0, 0, 0, 0, 0, 0, 0, 0, 0, 0, 0, 0, 0, 0, 1, -0, -0, -0, 1, 0, 0, 0, 0, 0, 0], \n",
       "  [0, 0, 0, 0, 0, 0, 0, 0, 0, 0, 0, 0, 0, 0, 0, 0, 0, 0, 0, 0, 1, 1, 1, 0, 0, 0, 0, 0, 0, 0], \n",
       "  [0, 0, 0, 0, 0, 0, 0, 0, 0, 0, 0, 0, 0, 0, 0, 0, 0, 0, 1, 0, 0, 0, 0, -0, 0, 0, 0, 0, 0, 0]])}"
      ]
     },
     "execution_count": 47,
     "metadata": {},
     "output_type": "execute_result"
    }
   ],
   "source": [
    "biped_model.body(\"left_foot\").contact.jacobian()"
   ]
  },
  {
   "cell_type": "code",
   "execution_count": 48,
   "metadata": {},
   "outputs": [
    {
     "data": {
      "text/plain": [
       "{'contact_jacobian': DM(\n",
       " [[0, 0, 0, 0, 0, 0, 0, 0, 0, 0, 0, 0, 0, 0, 0, 0, 0, 0, 0, 0, 0, 0, 0, 0, 0.0225, -0, -0.796, -0.422, 0, 0], \n",
       "  [0, 0, 0, 0, 0, 0, 0, 0, 0, 0, 0, 0, 0, 0, 0, 0, 0, 0, 0, 0, 0, 0, 0, 0, 0, 0.862, 0, 0, 0, 0], \n",
       "  [0, 0, 0, 0, 0, 0, 0, 0, 0, 0, 0, 0, 0, 0, 0, 0, 0, 0, 0, 0, 0, 0, 0, 0, 0, -0.0225, 0.05, 0, 0, 0], \n",
       "  [0, 0, 0, 0, 0, 0, 0, 0, 0, 0, 0, 0, 0, 0, 0, 0, 0, 0, 0, 0, 0, 0, 0, 0, 0, 1, -0, -0, -0, 1], \n",
       "  [0, 0, 0, 0, 0, 0, 0, 0, 0, 0, 0, 0, 0, 0, 0, 0, 0, 0, 0, 0, 0, 0, 0, 0, 0, 0, 1, 1, 1, 0], \n",
       "  [0, 0, 0, 0, 0, 0, 0, 0, 0, 0, 0, 0, 0, 0, 0, 0, 0, 0, 0, 0, 0, 0, 0, 0, 1, 0, 0, 0, 0, -0]])}"
      ]
     },
     "execution_count": 48,
     "metadata": {},
     "output_type": "execute_result"
    }
   ],
   "source": [
    "biped_model.body(\"right_foot\").contact.jacobian()"
   ]
  },
  {
   "cell_type": "markdown",
   "metadata": {},
   "source": [
    "One can create a structure for specific robot, the typical reciept as follows:\n",
    "* Create the child class with parent being `RobotModel`.\n",
    "* Add bodies bodies and necessary contacts\n",
    "* Calculate the all necessary functions with `~.update_model()` method \n",
    "\n",
    "An example that creates Quadruped robot possibly with arm:"
   ]
  },
  {
   "cell_type": "code",
   "execution_count": 49,
   "metadata": {},
   "outputs": [],
   "source": [
    "class Quadruped(RobotModel):\n",
    "    def __init__(\n",
    "        self,\n",
    "        urdf_path,\n",
    "        torso=None,\n",
    "        foots=None,\n",
    "        arm=None,\n",
    "        reference=\"world_aligned\",\n",
    "        calculate=True,\n",
    "    ):\n",
    "        bodies_names = {}\n",
    "\n",
    "        if torso is not None:\n",
    "            if isinstance(torso, str):\n",
    "                bodies_names.update([torso])\n",
    "            else:\n",
    "                bodies_names.update(torso)\n",
    "\n",
    "        if arm is not None:\n",
    "            if isinstance(arm, str):\n",
    "                bodies_names.update([arm])\n",
    "            else:\n",
    "                bodies_names.update(arm)\n",
    "\n",
    "        if foots is not None:\n",
    "            bodies_names.update(foots)\n",
    "\n",
    "        super().__init__(urdf_path, bodies_names=bodies_names, calculate=False)\n",
    "\n",
    "        for foot in foots.keys():\n",
    "            body = self.body(foot)\n",
    "            body.add_contact(frame=reference, contact_type=\"point\")\n",
    "\n",
    "        self.set_selector(passive_joints=range(6), calculate=False)\n",
    "        self.update_model()"
   ]
  }
 ],
 "metadata": {
  "kernelspec": {
   "display_name": "base",
   "language": "python",
   "name": "python3"
  },
  "language_info": {
   "codemirror_mode": {
    "name": "ipython",
    "version": 3
   },
   "file_extension": ".py",
   "mimetype": "text/x-python",
   "name": "python",
   "nbconvert_exporter": "python",
   "pygments_lexer": "ipython3",
   "version": "3.10.12"
  },
  "orig_nbformat": 4
 },
 "nbformat": 4,
 "nbformat_minor": 2
}
